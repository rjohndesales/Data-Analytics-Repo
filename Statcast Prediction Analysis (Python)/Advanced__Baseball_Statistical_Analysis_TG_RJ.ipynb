{
  "nbformat": 4,
  "nbformat_minor": 0,
  "metadata": {
    "kernelspec": {
      "display_name": "Python 3",
      "language": "python",
      "name": "python3"
    },
    "language_info": {
      "codemirror_mode": {
        "name": "ipython",
        "version": 3
      },
      "file_extension": ".py",
      "mimetype": "text/x-python",
      "name": "python",
      "nbconvert_exporter": "python",
      "pygments_lexer": "ipython3",
      "version": "3.7.9"
    },
    "colab": {
      "provenance": []
    }
  },
  "cells": [
    {
      "cell_type": "markdown",
      "metadata": {
        "id": "JOogXhDtQhRJ"
      },
      "source": [
        "#### CS 260 Final Project - Fall 2021\n",
        "---\n",
        "\n",
        "# Advanced Baseball Statistical Analysis"
      ]
    },
    {
      "cell_type": "markdown",
      "metadata": {
        "id": "fdA5_-D0QhRO"
      },
      "source": [
        "### By: Thomas Greve and Ryan Johnson\n"
      ]
    },
    {
      "cell_type": "markdown",
      "metadata": {
        "id": "eiKlBZHdQhRP"
      },
      "source": [
        "---\n",
        "\n",
        "## 1. Introduction:\n",
        "\n",
        "Major League Baseball (MLB) has been \"America's pasttime\" since it was founded in 1903. This country's obsession with the game of baseball is largely rooted in the intricacies of the game. For over a century, the same statistics were used to evaluate player performance. Babe Ruth's batting or slugging percentage in 1920 could be compared to Mike Trout's in 2012. However, the world of baseball statistics changed forever when Statcast analytic systems were introduced to all 30 major league ballparks. Since 2015, Statcast has been collecting a multitude of more advanced and complex statistics than traditional measurements could have ever dreamed of. For this project, our group explored a variety of Statcast measurements collected throughout the 2021 MLB season. Our dataset recorded the statistics from all 30 teams in MLB. We examined if these Statcast metrics were valid for evaluating and predicting player performance. \n",
        "\n",
        "We explored the following questions relating to these statistics: \n",
        "\n",
        "1. **How accurately do Statcast metrics predict actual performance?**\n",
        "2. **Does a higher launch angle result in more power?**\n",
        "3. **Does sprint speed strongly correlate with the number of stolen bases?**\n",
        "4. **How do expected averages (xBA, xSLG) compare with actual averages?**\n",
        "5. **Do outfielders (LF/CF/RF) have higher outs above average (OAA) than infielders (1B/2B/SS/3B/C)?**\n",
        "6. **Do players below the age of 30 have a higher average exit velocity than players 30 or older?**\n",
        "\n",
        "Our initial hypothesis was that Statcast metrics would be a strong and accurate predictor of traditional measurements. We predicted that most Statcast measures that have similarities with traditional measurement would tend to be highly correlated. However, we quickly found that this was not always the case. Let's start by sorting through some data."
      ]
    },
    {
      "cell_type": "markdown",
      "metadata": {
        "id": "5reIsKOaQhRQ"
      },
      "source": [
        "---\n",
        "\n",
        "## 2. Data"
      ]
    },
    {
      "cell_type": "code",
      "metadata": {
        "id": "suhQGDhvD288"
      },
      "source": [
        "import pandas as pd\n",
        "import numpy as np\n",
        "import matplotlib.pyplot as plt"
      ],
      "execution_count": null,
      "outputs": []
    },
    {
      "cell_type": "markdown",
      "metadata": {
        "id": "evkA_fKHQhRR"
      },
      "source": [
        "We compiled two datasets to look at a variety of defensive and offensive baseball statistics. We created custom datasets from BaseballSavant that included all the statistical measurements that we wanted to explore. This is a public database where statisticians and baseball fans alike can explore statistical relationships in virtually every aspect of the game. Statcast collects data using a series of high-resolution optical cameras along with radar equipment. The technology precisely tracks the location and movements of the ball and every player on the field, resulting in an unparalleled amount of information covering everything from the pitcher to the batter to baserunners and defensive players. BaseballSavant has a database that pulls metrics collected from games overnight into a database hosted by Google. They use these metrics to calculate their advanced statistics and compile them into a user-friendly interface. A direct link to the datasets we created from BaseballSavant can be found at the following links: \n",
        " * Defensive statistics: https://baseballsavant.mlb.com/leaderboard/outs_above_average?type=Fielder&startYear=2021&endYear=2021&split=no&team=&range=year&min=10&pos=&roles=&viz=show\n",
        "\n",
        " * Offensive Statistics: https://baseballsavant.mlb.com/leaderboard/custom?year=2021&type=batter&filter=&sort=1&sortDir=desc&min=75&selections=xba,xslg,xwoba,xobp,xiso,exit_velocity_avg,launch_angle_avg,sweet_spot_percent,barrel_batted_rate,&chart=false&x=xba&y=xba&r=no&chartType=beeswarm\n",
        "\n",
        " \n",
        "This data was collected over the entirety of the 2021 MLB regular season. In the first dataframe, the Defensive Statistics dataset includes all players (500) with a minimum of 10 fielding attempts. In the second dataframe, the Offensive Statistics dataset includes all players (495) with a minimum of 75 plate appearances throughout the season. We used an outer join to combine both dataframe in the third and final dataframe that includes all the statistics we wanted to explore."
      ]
    },
    {
      "cell_type": "code",
      "metadata": {
        "colab": {
          "base_uri": "https://localhost:8080/",
          "height": 583
        },
        "id": "pOARs0yxF3Em",
        "outputId": "2c413e1b-ca25-4e51-e2cb-ae160b92a438"
      },
      "source": [
        "# The first dataframe primarily focuses on the fielding information, including the 'Primary Position' and 'Outs Above Average'\n",
        "defense= pd.read_csv(\"https://raw.githubusercontent.com/rjohndesales/Data-Project/main/OAA%20and%20Team%20Name.csv\")\n",
        "defense['Player'] = defense[' first_name'] + ' ' + defense['last_name']\n",
        "defense = defense.rename(columns={'display_team_name':'Team', 'primary_pos_formatted':'Position', 'outs_above_average':'OAA'})\n",
        "defense"
      ],
      "execution_count": null,
      "outputs": [
        {
          "output_type": "execute_result",
          "data": {
            "text/html": [
              "<div>\n",
              "<style scoped>\n",
              "    .dataframe tbody tr th:only-of-type {\n",
              "        vertical-align: middle;\n",
              "    }\n",
              "\n",
              "    .dataframe tbody tr th {\n",
              "        vertical-align: top;\n",
              "    }\n",
              "\n",
              "    .dataframe thead th {\n",
              "        text-align: right;\n",
              "    }\n",
              "</style>\n",
              "<table border=\"1\" class=\"dataframe\">\n",
              "  <thead>\n",
              "    <tr style=\"text-align: right;\">\n",
              "      <th></th>\n",
              "      <th>last_name</th>\n",
              "      <th>first_name</th>\n",
              "      <th>player_id</th>\n",
              "      <th>Team</th>\n",
              "      <th>year</th>\n",
              "      <th>Position</th>\n",
              "      <th>fielding_runs_prevented</th>\n",
              "      <th>OAA</th>\n",
              "      <th>outs_above_average_infront</th>\n",
              "      <th>outs_above_average_lateral_toward3bline</th>\n",
              "      <th>outs_above_average_lateral_toward1bline</th>\n",
              "      <th>outs_above_average_behind</th>\n",
              "      <th>outs_above_average_rhh</th>\n",
              "      <th>outs_above_average_lhh</th>\n",
              "      <th>actual_success_rate_formatted</th>\n",
              "      <th>adj_estimated_success_rate_formatted</th>\n",
              "      <th>diff_success_rate_formatted</th>\n",
              "      <th>Player</th>\n",
              "    </tr>\n",
              "  </thead>\n",
              "  <tbody>\n",
              "    <tr>\n",
              "      <th>0</th>\n",
              "      <td>Abreu</td>\n",
              "      <td>José</td>\n",
              "      <td>547989</td>\n",
              "      <td>White Sox</td>\n",
              "      <td>NaN</td>\n",
              "      <td>1B</td>\n",
              "      <td>0</td>\n",
              "      <td>0</td>\n",
              "      <td>1</td>\n",
              "      <td>-2</td>\n",
              "      <td>0</td>\n",
              "      <td>1</td>\n",
              "      <td>2</td>\n",
              "      <td>-2</td>\n",
              "      <td>73%</td>\n",
              "      <td>73%</td>\n",
              "      <td>0%</td>\n",
              "      <td>José Abreu</td>\n",
              "    </tr>\n",
              "    <tr>\n",
              "      <th>1</th>\n",
              "      <td>Acuña Jr.</td>\n",
              "      <td>Ronald</td>\n",
              "      <td>660670</td>\n",
              "      <td>Braves</td>\n",
              "      <td>NaN</td>\n",
              "      <td>CF</td>\n",
              "      <td>1</td>\n",
              "      <td>1</td>\n",
              "      <td>1</td>\n",
              "      <td>0</td>\n",
              "      <td>-2</td>\n",
              "      <td>2</td>\n",
              "      <td>1</td>\n",
              "      <td>-1</td>\n",
              "      <td>89%</td>\n",
              "      <td>88%</td>\n",
              "      <td>1%</td>\n",
              "      <td>Ronald Acuña Jr.</td>\n",
              "    </tr>\n",
              "    <tr>\n",
              "      <th>2</th>\n",
              "      <td>Adames</td>\n",
              "      <td>Willy</td>\n",
              "      <td>642715</td>\n",
              "      <td>---</td>\n",
              "      <td>NaN</td>\n",
              "      <td>SS</td>\n",
              "      <td>-6</td>\n",
              "      <td>-8</td>\n",
              "      <td>-1</td>\n",
              "      <td>1</td>\n",
              "      <td>-7</td>\n",
              "      <td>0</td>\n",
              "      <td>-3</td>\n",
              "      <td>-6</td>\n",
              "      <td>75%</td>\n",
              "      <td>76%</td>\n",
              "      <td>-1%</td>\n",
              "      <td>Willy Adames</td>\n",
              "    </tr>\n",
              "    <tr>\n",
              "      <th>3</th>\n",
              "      <td>Adams</td>\n",
              "      <td>Matt</td>\n",
              "      <td>571431</td>\n",
              "      <td>Rockies</td>\n",
              "      <td>NaN</td>\n",
              "      <td>1B</td>\n",
              "      <td>-1</td>\n",
              "      <td>-1</td>\n",
              "      <td>-1</td>\n",
              "      <td>0</td>\n",
              "      <td>0</td>\n",
              "      <td>0</td>\n",
              "      <td>0</td>\n",
              "      <td>0</td>\n",
              "      <td>68%</td>\n",
              "      <td>73%</td>\n",
              "      <td>-5%</td>\n",
              "      <td>Matt Adams</td>\n",
              "    </tr>\n",
              "    <tr>\n",
              "      <th>4</th>\n",
              "      <td>Adell</td>\n",
              "      <td>Jo</td>\n",
              "      <td>666176</td>\n",
              "      <td>Angels</td>\n",
              "      <td>NaN</td>\n",
              "      <td>RF</td>\n",
              "      <td>0</td>\n",
              "      <td>0</td>\n",
              "      <td>-1</td>\n",
              "      <td>1</td>\n",
              "      <td>-1</td>\n",
              "      <td>0</td>\n",
              "      <td>0</td>\n",
              "      <td>-1</td>\n",
              "      <td>83%</td>\n",
              "      <td>84%</td>\n",
              "      <td>-1%</td>\n",
              "      <td>Jo Adell</td>\n",
              "    </tr>\n",
              "    <tr>\n",
              "      <th>...</th>\n",
              "      <td>...</td>\n",
              "      <td>...</td>\n",
              "      <td>...</td>\n",
              "      <td>...</td>\n",
              "      <td>...</td>\n",
              "      <td>...</td>\n",
              "      <td>...</td>\n",
              "      <td>...</td>\n",
              "      <td>...</td>\n",
              "      <td>...</td>\n",
              "      <td>...</td>\n",
              "      <td>...</td>\n",
              "      <td>...</td>\n",
              "      <td>...</td>\n",
              "      <td>...</td>\n",
              "      <td>...</td>\n",
              "      <td>...</td>\n",
              "      <td>...</td>\n",
              "    </tr>\n",
              "    <tr>\n",
              "      <th>495</th>\n",
              "      <td>Yastrzemski</td>\n",
              "      <td>Mike</td>\n",
              "      <td>573262</td>\n",
              "      <td>Giants</td>\n",
              "      <td>NaN</td>\n",
              "      <td>RF</td>\n",
              "      <td>6</td>\n",
              "      <td>7</td>\n",
              "      <td>2</td>\n",
              "      <td>4</td>\n",
              "      <td>2</td>\n",
              "      <td>-1</td>\n",
              "      <td>5</td>\n",
              "      <td>2</td>\n",
              "      <td>92%</td>\n",
              "      <td>89%</td>\n",
              "      <td>3%</td>\n",
              "      <td>Mike Yastrzemski</td>\n",
              "    </tr>\n",
              "    <tr>\n",
              "      <th>496</th>\n",
              "      <td>Yelich</td>\n",
              "      <td>Christian</td>\n",
              "      <td>592885</td>\n",
              "      <td>Brewers</td>\n",
              "      <td>NaN</td>\n",
              "      <td>LF</td>\n",
              "      <td>2</td>\n",
              "      <td>2</td>\n",
              "      <td>0</td>\n",
              "      <td>0</td>\n",
              "      <td>1</td>\n",
              "      <td>1</td>\n",
              "      <td>2</td>\n",
              "      <td>1</td>\n",
              "      <td>91%</td>\n",
              "      <td>90%</td>\n",
              "      <td>1%</td>\n",
              "      <td>Christian Yelich</td>\n",
              "    </tr>\n",
              "    <tr>\n",
              "      <th>497</th>\n",
              "      <td>Young</td>\n",
              "      <td>Andrew</td>\n",
              "      <td>670370</td>\n",
              "      <td>D-backs</td>\n",
              "      <td>NaN</td>\n",
              "      <td>2B</td>\n",
              "      <td>-7</td>\n",
              "      <td>-9</td>\n",
              "      <td>-2</td>\n",
              "      <td>-2</td>\n",
              "      <td>-3</td>\n",
              "      <td>-2</td>\n",
              "      <td>-6</td>\n",
              "      <td>-3</td>\n",
              "      <td>57%</td>\n",
              "      <td>70%</td>\n",
              "      <td>-13%</td>\n",
              "      <td>Andrew Young</td>\n",
              "    </tr>\n",
              "    <tr>\n",
              "      <th>498</th>\n",
              "      <td>Zimmer</td>\n",
              "      <td>Bradley</td>\n",
              "      <td>605548</td>\n",
              "      <td>Indians</td>\n",
              "      <td>NaN</td>\n",
              "      <td>CF</td>\n",
              "      <td>7</td>\n",
              "      <td>8</td>\n",
              "      <td>1</td>\n",
              "      <td>3</td>\n",
              "      <td>3</td>\n",
              "      <td>1</td>\n",
              "      <td>6</td>\n",
              "      <td>2</td>\n",
              "      <td>94%</td>\n",
              "      <td>90%</td>\n",
              "      <td>4%</td>\n",
              "      <td>Bradley Zimmer</td>\n",
              "    </tr>\n",
              "    <tr>\n",
              "      <th>499</th>\n",
              "      <td>Zimmerman</td>\n",
              "      <td>Ryan</td>\n",
              "      <td>475582</td>\n",
              "      <td>Nationals</td>\n",
              "      <td>NaN</td>\n",
              "      <td>1B</td>\n",
              "      <td>0</td>\n",
              "      <td>-1</td>\n",
              "      <td>1</td>\n",
              "      <td>-1</td>\n",
              "      <td>-1</td>\n",
              "      <td>0</td>\n",
              "      <td>0</td>\n",
              "      <td>0</td>\n",
              "      <td>66%</td>\n",
              "      <td>66%</td>\n",
              "      <td>0%</td>\n",
              "      <td>Ryan Zimmerman</td>\n",
              "    </tr>\n",
              "  </tbody>\n",
              "</table>\n",
              "<p>500 rows × 18 columns</p>\n",
              "</div>"
            ],
            "text/plain": [
              "       last_name  first_name  ...  diff_success_rate_formatted             Player\n",
              "0          Abreu        José  ...                           0%         José Abreu\n",
              "1      Acuña Jr.      Ronald  ...                           1%   Ronald Acuña Jr.\n",
              "2         Adames       Willy  ...                          -1%       Willy Adames\n",
              "3          Adams        Matt  ...                          -5%         Matt Adams\n",
              "4          Adell          Jo  ...                          -1%           Jo Adell\n",
              "..           ...         ...  ...                          ...                ...\n",
              "495  Yastrzemski        Mike  ...                           3%   Mike Yastrzemski\n",
              "496       Yelich   Christian  ...                           1%   Christian Yelich\n",
              "497        Young      Andrew  ...                         -13%       Andrew Young\n",
              "498       Zimmer     Bradley  ...                           4%     Bradley Zimmer\n",
              "499    Zimmerman        Ryan  ...                           0%     Ryan Zimmerman\n",
              "\n",
              "[500 rows x 18 columns]"
            ]
          },
          "metadata": {},
          "execution_count": 96
        }
      ]
    },
    {
      "cell_type": "code",
      "metadata": {
        "colab": {
          "base_uri": "https://localhost:8080/",
          "height": 617
        },
        "id": "CmdFI17xGEyZ",
        "outputId": "c6a046f0-b9a6-4afe-8930-12af902152bb"
      },
      "source": [
        "# The second dataframe primarily focuses on other batting Statcast metrics, such as 'Batting average', 'Slugging percentage', 'Stolen bases', 'Age', etc.\n",
        "Statcast_df=pd.read_csv('https://raw.githubusercontent.com/rjohndesales/OAA-and-Team/circleci-project-setup/stats-7.csv')\n",
        "offense = Statcast_df.drop(columns = ['Unnamed: 17'])\n",
        "offense['Player'] = offense[' first_name'] + ' ' + offense['last_name']\n",
        "offense['ba_diff'] = abs(offense['xba'] - offense['batting_avg'])\n",
        "offense['slg_diff'] = abs(offense['xslg'] - offense['slg_percent'])\n",
        "offense['attempts'] = offense['r_total_stolen_base'] + offense['r_total_caught_stealing']\n",
        "offense = offense.rename(columns={'b_home_run':'HR_total', 'r_total_stolen_base':'SB_total', 'player_age':'Age', 'b_total_pa':'PA', 'batting_avg':'AVG', 'slg_percent':'SLG', 'exit_velocity_avg':'Avg_exit_velo', 'launch_angle_avg':'Avg_launch_angle', 'r_total_caught_stealing' : 'caught_stealing'})\n",
        "offense['sb_percent'] = (offense['SB_total']/ (offense['attempts']))\n",
        "offense"
      ],
      "execution_count": null,
      "outputs": [
        {
          "output_type": "execute_result",
          "data": {
            "text/html": [
              "<div>\n",
              "<style scoped>\n",
              "    .dataframe tbody tr th:only-of-type {\n",
              "        vertical-align: middle;\n",
              "    }\n",
              "\n",
              "    .dataframe tbody tr th {\n",
              "        vertical-align: top;\n",
              "    }\n",
              "\n",
              "    .dataframe thead th {\n",
              "        text-align: right;\n",
              "    }\n",
              "</style>\n",
              "<table border=\"1\" class=\"dataframe\">\n",
              "  <thead>\n",
              "    <tr style=\"text-align: right;\">\n",
              "      <th></th>\n",
              "      <th>last_name</th>\n",
              "      <th>first_name</th>\n",
              "      <th>player_id</th>\n",
              "      <th>year</th>\n",
              "      <th>Age</th>\n",
              "      <th>PA</th>\n",
              "      <th>HR_total</th>\n",
              "      <th>AVG</th>\n",
              "      <th>SLG</th>\n",
              "      <th>caught_stealing</th>\n",
              "      <th>SB_total</th>\n",
              "      <th>xba</th>\n",
              "      <th>xslg</th>\n",
              "      <th>Avg_exit_velo</th>\n",
              "      <th>Avg_launch_angle</th>\n",
              "      <th>hard_hit_percent</th>\n",
              "      <th>sprint_speed</th>\n",
              "      <th>Player</th>\n",
              "      <th>ba_diff</th>\n",
              "      <th>slg_diff</th>\n",
              "      <th>attempts</th>\n",
              "      <th>sb_percent</th>\n",
              "    </tr>\n",
              "  </thead>\n",
              "  <tbody>\n",
              "    <tr>\n",
              "      <th>0</th>\n",
              "      <td>Pujols</td>\n",
              "      <td>Albert</td>\n",
              "      <td>405395</td>\n",
              "      <td>2021</td>\n",
              "      <td>41</td>\n",
              "      <td>296</td>\n",
              "      <td>17</td>\n",
              "      <td>0.236</td>\n",
              "      <td>0.433</td>\n",
              "      <td>0</td>\n",
              "      <td>2</td>\n",
              "      <td>0.256</td>\n",
              "      <td>0.459</td>\n",
              "      <td>90.3</td>\n",
              "      <td>12.0</td>\n",
              "      <td>39.7</td>\n",
              "      <td>22.4</td>\n",
              "      <td>Albert Pujols</td>\n",
              "      <td>0.020</td>\n",
              "      <td>0.026</td>\n",
              "      <td>2</td>\n",
              "      <td>1.000000</td>\n",
              "    </tr>\n",
              "    <tr>\n",
              "      <th>1</th>\n",
              "      <td>Cabrera</td>\n",
              "      <td>Miguel</td>\n",
              "      <td>408234</td>\n",
              "      <td>2021</td>\n",
              "      <td>38</td>\n",
              "      <td>526</td>\n",
              "      <td>15</td>\n",
              "      <td>0.256</td>\n",
              "      <td>0.386</td>\n",
              "      <td>0</td>\n",
              "      <td>0</td>\n",
              "      <td>0.231</td>\n",
              "      <td>0.415</td>\n",
              "      <td>91.4</td>\n",
              "      <td>10.0</td>\n",
              "      <td>49.0</td>\n",
              "      <td>23.9</td>\n",
              "      <td>Miguel Cabrera</td>\n",
              "      <td>0.025</td>\n",
              "      <td>0.029</td>\n",
              "      <td>0</td>\n",
              "      <td>NaN</td>\n",
              "    </tr>\n",
              "    <tr>\n",
              "      <th>2</th>\n",
              "      <td>Rivera</td>\n",
              "      <td>Rene</td>\n",
              "      <td>425784</td>\n",
              "      <td>2021</td>\n",
              "      <td>38</td>\n",
              "      <td>78</td>\n",
              "      <td>2</td>\n",
              "      <td>0.232</td>\n",
              "      <td>0.362</td>\n",
              "      <td>0</td>\n",
              "      <td>0</td>\n",
              "      <td>0.196</td>\n",
              "      <td>0.334</td>\n",
              "      <td>88.5</td>\n",
              "      <td>13.0</td>\n",
              "      <td>39.5</td>\n",
              "      <td>26.0</td>\n",
              "      <td>Rene Rivera</td>\n",
              "      <td>0.036</td>\n",
              "      <td>0.028</td>\n",
              "      <td>0</td>\n",
              "      <td>NaN</td>\n",
              "    </tr>\n",
              "    <tr>\n",
              "      <th>3</th>\n",
              "      <td>Molina</td>\n",
              "      <td>Yadier</td>\n",
              "      <td>425877</td>\n",
              "      <td>2021</td>\n",
              "      <td>39</td>\n",
              "      <td>473</td>\n",
              "      <td>11</td>\n",
              "      <td>0.252</td>\n",
              "      <td>0.370</td>\n",
              "      <td>0</td>\n",
              "      <td>3</td>\n",
              "      <td>0.255</td>\n",
              "      <td>0.405</td>\n",
              "      <td>88.0</td>\n",
              "      <td>15.3</td>\n",
              "      <td>31.6</td>\n",
              "      <td>22.6</td>\n",
              "      <td>Yadier Molina</td>\n",
              "      <td>0.003</td>\n",
              "      <td>0.035</td>\n",
              "      <td>3</td>\n",
              "      <td>1.000000</td>\n",
              "    </tr>\n",
              "    <tr>\n",
              "      <th>4</th>\n",
              "      <td>Suzuki</td>\n",
              "      <td>Kurt</td>\n",
              "      <td>435559</td>\n",
              "      <td>2021</td>\n",
              "      <td>38</td>\n",
              "      <td>247</td>\n",
              "      <td>6</td>\n",
              "      <td>0.224</td>\n",
              "      <td>0.342</td>\n",
              "      <td>0</td>\n",
              "      <td>0</td>\n",
              "      <td>0.203</td>\n",
              "      <td>0.308</td>\n",
              "      <td>85.2</td>\n",
              "      <td>14.6</td>\n",
              "      <td>27.2</td>\n",
              "      <td>24.6</td>\n",
              "      <td>Kurt Suzuki</td>\n",
              "      <td>0.021</td>\n",
              "      <td>0.034</td>\n",
              "      <td>0</td>\n",
              "      <td>NaN</td>\n",
              "    </tr>\n",
              "    <tr>\n",
              "      <th>...</th>\n",
              "      <td>...</td>\n",
              "      <td>...</td>\n",
              "      <td>...</td>\n",
              "      <td>...</td>\n",
              "      <td>...</td>\n",
              "      <td>...</td>\n",
              "      <td>...</td>\n",
              "      <td>...</td>\n",
              "      <td>...</td>\n",
              "      <td>...</td>\n",
              "      <td>...</td>\n",
              "      <td>...</td>\n",
              "      <td>...</td>\n",
              "      <td>...</td>\n",
              "      <td>...</td>\n",
              "      <td>...</td>\n",
              "      <td>...</td>\n",
              "      <td>...</td>\n",
              "      <td>...</td>\n",
              "      <td>...</td>\n",
              "      <td>...</td>\n",
              "      <td>...</td>\n",
              "    </tr>\n",
              "    <tr>\n",
              "      <th>490</th>\n",
              "      <td>Franco</td>\n",
              "      <td>Wander</td>\n",
              "      <td>677551</td>\n",
              "      <td>2021</td>\n",
              "      <td>20</td>\n",
              "      <td>308</td>\n",
              "      <td>7</td>\n",
              "      <td>0.288</td>\n",
              "      <td>0.463</td>\n",
              "      <td>1</td>\n",
              "      <td>2</td>\n",
              "      <td>0.281</td>\n",
              "      <td>0.414</td>\n",
              "      <td>88.2</td>\n",
              "      <td>9.7</td>\n",
              "      <td>37.6</td>\n",
              "      <td>28.5</td>\n",
              "      <td>Wander Franco</td>\n",
              "      <td>0.007</td>\n",
              "      <td>0.049</td>\n",
              "      <td>3</td>\n",
              "      <td>0.666667</td>\n",
              "    </tr>\n",
              "    <tr>\n",
              "      <th>491</th>\n",
              "      <td>Duran</td>\n",
              "      <td>Jarren</td>\n",
              "      <td>680776</td>\n",
              "      <td>2021</td>\n",
              "      <td>25</td>\n",
              "      <td>112</td>\n",
              "      <td>2</td>\n",
              "      <td>0.215</td>\n",
              "      <td>0.336</td>\n",
              "      <td>1</td>\n",
              "      <td>2</td>\n",
              "      <td>0.223</td>\n",
              "      <td>0.306</td>\n",
              "      <td>89.6</td>\n",
              "      <td>7.8</td>\n",
              "      <td>39.7</td>\n",
              "      <td>29.3</td>\n",
              "      <td>Jarren Duran</td>\n",
              "      <td>0.008</td>\n",
              "      <td>0.030</td>\n",
              "      <td>3</td>\n",
              "      <td>0.666667</td>\n",
              "    </tr>\n",
              "    <tr>\n",
              "      <th>492</th>\n",
              "      <td>Jeffers</td>\n",
              "      <td>Ryan</td>\n",
              "      <td>680777</td>\n",
              "      <td>2021</td>\n",
              "      <td>24</td>\n",
              "      <td>293</td>\n",
              "      <td>14</td>\n",
              "      <td>0.199</td>\n",
              "      <td>0.401</td>\n",
              "      <td>1</td>\n",
              "      <td>0</td>\n",
              "      <td>0.206</td>\n",
              "      <td>0.415</td>\n",
              "      <td>89.2</td>\n",
              "      <td>14.0</td>\n",
              "      <td>44.0</td>\n",
              "      <td>25.8</td>\n",
              "      <td>Ryan Jeffers</td>\n",
              "      <td>0.007</td>\n",
              "      <td>0.014</td>\n",
              "      <td>1</td>\n",
              "      <td>0.000000</td>\n",
              "    </tr>\n",
              "    <tr>\n",
              "      <th>493</th>\n",
              "      <td>Miller</td>\n",
              "      <td>Owen</td>\n",
              "      <td>680911</td>\n",
              "      <td>2021</td>\n",
              "      <td>25</td>\n",
              "      <td>202</td>\n",
              "      <td>4</td>\n",
              "      <td>0.204</td>\n",
              "      <td>0.309</td>\n",
              "      <td>0</td>\n",
              "      <td>2</td>\n",
              "      <td>0.222</td>\n",
              "      <td>0.342</td>\n",
              "      <td>86.4</td>\n",
              "      <td>6.0</td>\n",
              "      <td>32.6</td>\n",
              "      <td>29.1</td>\n",
              "      <td>Owen Miller</td>\n",
              "      <td>0.018</td>\n",
              "      <td>0.033</td>\n",
              "      <td>2</td>\n",
              "      <td>1.000000</td>\n",
              "    </tr>\n",
              "    <tr>\n",
              "      <th>494</th>\n",
              "      <td>Vaughn</td>\n",
              "      <td>Andrew</td>\n",
              "      <td>683734</td>\n",
              "      <td>2021</td>\n",
              "      <td>23</td>\n",
              "      <td>469</td>\n",
              "      <td>15</td>\n",
              "      <td>0.235</td>\n",
              "      <td>0.396</td>\n",
              "      <td>1</td>\n",
              "      <td>1</td>\n",
              "      <td>0.241</td>\n",
              "      <td>0.430</td>\n",
              "      <td>91.1</td>\n",
              "      <td>9.7</td>\n",
              "      <td>47.3</td>\n",
              "      <td>26.4</td>\n",
              "      <td>Andrew Vaughn</td>\n",
              "      <td>0.006</td>\n",
              "      <td>0.034</td>\n",
              "      <td>2</td>\n",
              "      <td>0.500000</td>\n",
              "    </tr>\n",
              "  </tbody>\n",
              "</table>\n",
              "<p>495 rows × 22 columns</p>\n",
              "</div>"
            ],
            "text/plain": [
              "    last_name  first_name  player_id  ...  slg_diff  attempts  sb_percent\n",
              "0      Pujols      Albert     405395  ...     0.026         2    1.000000\n",
              "1     Cabrera      Miguel     408234  ...     0.029         0         NaN\n",
              "2      Rivera        Rene     425784  ...     0.028         0         NaN\n",
              "3      Molina      Yadier     425877  ...     0.035         3    1.000000\n",
              "4      Suzuki        Kurt     435559  ...     0.034         0         NaN\n",
              "..        ...         ...        ...  ...       ...       ...         ...\n",
              "490    Franco      Wander     677551  ...     0.049         3    0.666667\n",
              "491     Duran      Jarren     680776  ...     0.030         3    0.666667\n",
              "492   Jeffers        Ryan     680777  ...     0.014         1    0.000000\n",
              "493    Miller        Owen     680911  ...     0.033         2    1.000000\n",
              "494    Vaughn      Andrew     683734  ...     0.034         2    0.500000\n",
              "\n",
              "[495 rows x 22 columns]"
            ]
          },
          "metadata": {},
          "execution_count": 97
        }
      ]
    },
    {
      "cell_type": "code",
      "metadata": {
        "id": "zWZiIL_IQhRR",
        "colab": {
          "base_uri": "https://localhost:8080/",
          "height": 423
        },
        "outputId": "87d1a2e7-568c-49f7-a01c-6c25de14bc5b"
      },
      "source": [
        "baseball_both = defense.merge(offense, how = \"outer\", left_on = \"player_id\", right_on = \"player_id\")\n",
        "baseball = baseball_both[['Player_y', 'Team', 'Position', 'Age', 'PA', 'HR_total', 'SB_total', 'attempts', 'AVG', 'SLG', 'OAA', 'sprint_speed', 'xba', 'xslg', 'Avg_exit_velo', 'Avg_launch_angle', 'hard_hit_percent']]\n",
        "baseball = baseball.rename(columns={'Player_y':'Player'})\n",
        "baseball"
      ],
      "execution_count": null,
      "outputs": [
        {
          "output_type": "execute_result",
          "data": {
            "text/html": [
              "<div>\n",
              "<style scoped>\n",
              "    .dataframe tbody tr th:only-of-type {\n",
              "        vertical-align: middle;\n",
              "    }\n",
              "\n",
              "    .dataframe tbody tr th {\n",
              "        vertical-align: top;\n",
              "    }\n",
              "\n",
              "    .dataframe thead th {\n",
              "        text-align: right;\n",
              "    }\n",
              "</style>\n",
              "<table border=\"1\" class=\"dataframe\">\n",
              "  <thead>\n",
              "    <tr style=\"text-align: right;\">\n",
              "      <th></th>\n",
              "      <th>Player</th>\n",
              "      <th>Team</th>\n",
              "      <th>Position</th>\n",
              "      <th>Age</th>\n",
              "      <th>PA</th>\n",
              "      <th>HR_total</th>\n",
              "      <th>SB_total</th>\n",
              "      <th>attempts</th>\n",
              "      <th>AVG</th>\n",
              "      <th>SLG</th>\n",
              "      <th>OAA</th>\n",
              "      <th>sprint_speed</th>\n",
              "      <th>xba</th>\n",
              "      <th>xslg</th>\n",
              "      <th>Avg_exit_velo</th>\n",
              "      <th>Avg_launch_angle</th>\n",
              "      <th>hard_hit_percent</th>\n",
              "    </tr>\n",
              "  </thead>\n",
              "  <tbody>\n",
              "    <tr>\n",
              "      <th>0</th>\n",
              "      <td>Jose Abreu</td>\n",
              "      <td>White Sox</td>\n",
              "      <td>1B</td>\n",
              "      <td>34.0</td>\n",
              "      <td>659.0</td>\n",
              "      <td>30.0</td>\n",
              "      <td>1.0</td>\n",
              "      <td>1.0</td>\n",
              "      <td>0.261</td>\n",
              "      <td>0.481</td>\n",
              "      <td>0.0</td>\n",
              "      <td>26.5</td>\n",
              "      <td>0.251</td>\n",
              "      <td>0.455</td>\n",
              "      <td>92.0</td>\n",
              "      <td>10.4</td>\n",
              "      <td>49.3</td>\n",
              "    </tr>\n",
              "    <tr>\n",
              "      <th>1</th>\n",
              "      <td>Ronald Acuna Jr.</td>\n",
              "      <td>Braves</td>\n",
              "      <td>CF</td>\n",
              "      <td>24.0</td>\n",
              "      <td>360.0</td>\n",
              "      <td>24.0</td>\n",
              "      <td>17.0</td>\n",
              "      <td>23.0</td>\n",
              "      <td>0.283</td>\n",
              "      <td>0.596</td>\n",
              "      <td>1.0</td>\n",
              "      <td>29.4</td>\n",
              "      <td>0.293</td>\n",
              "      <td>0.598</td>\n",
              "      <td>93.8</td>\n",
              "      <td>18.2</td>\n",
              "      <td>54.8</td>\n",
              "    </tr>\n",
              "    <tr>\n",
              "      <th>2</th>\n",
              "      <td>Willy Adames</td>\n",
              "      <td>---</td>\n",
              "      <td>SS</td>\n",
              "      <td>26.0</td>\n",
              "      <td>555.0</td>\n",
              "      <td>25.0</td>\n",
              "      <td>5.0</td>\n",
              "      <td>9.0</td>\n",
              "      <td>0.262</td>\n",
              "      <td>0.481</td>\n",
              "      <td>-8.0</td>\n",
              "      <td>28.0</td>\n",
              "      <td>0.236</td>\n",
              "      <td>0.438</td>\n",
              "      <td>89.5</td>\n",
              "      <td>16.8</td>\n",
              "      <td>44.7</td>\n",
              "    </tr>\n",
              "    <tr>\n",
              "      <th>3</th>\n",
              "      <td>NaN</td>\n",
              "      <td>Rockies</td>\n",
              "      <td>1B</td>\n",
              "      <td>NaN</td>\n",
              "      <td>NaN</td>\n",
              "      <td>NaN</td>\n",
              "      <td>NaN</td>\n",
              "      <td>NaN</td>\n",
              "      <td>NaN</td>\n",
              "      <td>NaN</td>\n",
              "      <td>-1.0</td>\n",
              "      <td>NaN</td>\n",
              "      <td>NaN</td>\n",
              "      <td>NaN</td>\n",
              "      <td>NaN</td>\n",
              "      <td>NaN</td>\n",
              "      <td>NaN</td>\n",
              "    </tr>\n",
              "    <tr>\n",
              "      <th>4</th>\n",
              "      <td>Jo Adell</td>\n",
              "      <td>Angels</td>\n",
              "      <td>RF</td>\n",
              "      <td>22.0</td>\n",
              "      <td>140.0</td>\n",
              "      <td>4.0</td>\n",
              "      <td>2.0</td>\n",
              "      <td>3.0</td>\n",
              "      <td>0.246</td>\n",
              "      <td>0.408</td>\n",
              "      <td>0.0</td>\n",
              "      <td>29.9</td>\n",
              "      <td>0.254</td>\n",
              "      <td>0.409</td>\n",
              "      <td>86.2</td>\n",
              "      <td>10.1</td>\n",
              "      <td>31.3</td>\n",
              "    </tr>\n",
              "    <tr>\n",
              "      <th>...</th>\n",
              "      <td>...</td>\n",
              "      <td>...</td>\n",
              "      <td>...</td>\n",
              "      <td>...</td>\n",
              "      <td>...</td>\n",
              "      <td>...</td>\n",
              "      <td>...</td>\n",
              "      <td>...</td>\n",
              "      <td>...</td>\n",
              "      <td>...</td>\n",
              "      <td>...</td>\n",
              "      <td>...</td>\n",
              "      <td>...</td>\n",
              "      <td>...</td>\n",
              "      <td>...</td>\n",
              "      <td>...</td>\n",
              "      <td>...</td>\n",
              "    </tr>\n",
              "    <tr>\n",
              "      <th>570</th>\n",
              "      <td>Andrew Knizner</td>\n",
              "      <td>NaN</td>\n",
              "      <td>NaN</td>\n",
              "      <td>26.0</td>\n",
              "      <td>185.0</td>\n",
              "      <td>1.0</td>\n",
              "      <td>0.0</td>\n",
              "      <td>0.0</td>\n",
              "      <td>0.174</td>\n",
              "      <td>0.236</td>\n",
              "      <td>NaN</td>\n",
              "      <td>25.7</td>\n",
              "      <td>0.203</td>\n",
              "      <td>0.298</td>\n",
              "      <td>87.5</td>\n",
              "      <td>7.8</td>\n",
              "      <td>36.9</td>\n",
              "    </tr>\n",
              "    <tr>\n",
              "      <th>571</th>\n",
              "      <td>Sean Murphy</td>\n",
              "      <td>NaN</td>\n",
              "      <td>NaN</td>\n",
              "      <td>27.0</td>\n",
              "      <td>448.0</td>\n",
              "      <td>17.0</td>\n",
              "      <td>0.0</td>\n",
              "      <td>0.0</td>\n",
              "      <td>0.216</td>\n",
              "      <td>0.405</td>\n",
              "      <td>NaN</td>\n",
              "      <td>25.8</td>\n",
              "      <td>0.239</td>\n",
              "      <td>0.436</td>\n",
              "      <td>89.2</td>\n",
              "      <td>15.4</td>\n",
              "      <td>42.6</td>\n",
              "    </tr>\n",
              "    <tr>\n",
              "      <th>572</th>\n",
              "      <td>Will Smith</td>\n",
              "      <td>NaN</td>\n",
              "      <td>NaN</td>\n",
              "      <td>26.0</td>\n",
              "      <td>501.0</td>\n",
              "      <td>25.0</td>\n",
              "      <td>3.0</td>\n",
              "      <td>3.0</td>\n",
              "      <td>0.258</td>\n",
              "      <td>0.495</td>\n",
              "      <td>NaN</td>\n",
              "      <td>27.8</td>\n",
              "      <td>0.249</td>\n",
              "      <td>0.468</td>\n",
              "      <td>90.1</td>\n",
              "      <td>19.4</td>\n",
              "      <td>43.8</td>\n",
              "    </tr>\n",
              "    <tr>\n",
              "      <th>573</th>\n",
              "      <td>Alejandro Kirk</td>\n",
              "      <td>NaN</td>\n",
              "      <td>NaN</td>\n",
              "      <td>23.0</td>\n",
              "      <td>189.0</td>\n",
              "      <td>8.0</td>\n",
              "      <td>0.0</td>\n",
              "      <td>0.0</td>\n",
              "      <td>0.242</td>\n",
              "      <td>0.436</td>\n",
              "      <td>NaN</td>\n",
              "      <td>24.7</td>\n",
              "      <td>0.288</td>\n",
              "      <td>0.511</td>\n",
              "      <td>92.3</td>\n",
              "      <td>14.7</td>\n",
              "      <td>46.9</td>\n",
              "    </tr>\n",
              "    <tr>\n",
              "      <th>574</th>\n",
              "      <td>Ryan Jeffers</td>\n",
              "      <td>NaN</td>\n",
              "      <td>NaN</td>\n",
              "      <td>24.0</td>\n",
              "      <td>293.0</td>\n",
              "      <td>14.0</td>\n",
              "      <td>0.0</td>\n",
              "      <td>1.0</td>\n",
              "      <td>0.199</td>\n",
              "      <td>0.401</td>\n",
              "      <td>NaN</td>\n",
              "      <td>25.8</td>\n",
              "      <td>0.206</td>\n",
              "      <td>0.415</td>\n",
              "      <td>89.2</td>\n",
              "      <td>14.0</td>\n",
              "      <td>44.0</td>\n",
              "    </tr>\n",
              "  </tbody>\n",
              "</table>\n",
              "<p>575 rows × 17 columns</p>\n",
              "</div>"
            ],
            "text/plain": [
              "                Player       Team  ... Avg_launch_angle  hard_hit_percent\n",
              "0           Jose Abreu  White Sox  ...             10.4              49.3\n",
              "1     Ronald Acuna Jr.     Braves  ...             18.2              54.8\n",
              "2         Willy Adames        ---  ...             16.8              44.7\n",
              "3                  NaN    Rockies  ...              NaN               NaN\n",
              "4             Jo Adell     Angels  ...             10.1              31.3\n",
              "..                 ...        ...  ...              ...               ...\n",
              "570     Andrew Knizner        NaN  ...              7.8              36.9\n",
              "571        Sean Murphy        NaN  ...             15.4              42.6\n",
              "572         Will Smith        NaN  ...             19.4              43.8\n",
              "573     Alejandro Kirk        NaN  ...             14.7              46.9\n",
              "574       Ryan Jeffers        NaN  ...             14.0              44.0\n",
              "\n",
              "[575 rows x 17 columns]"
            ]
          },
          "metadata": {},
          "execution_count": 98
        }
      ]
    },
    {
      "cell_type": "markdown",
      "metadata": {
        "id": "njLFNtRXQhRT"
      },
      "source": [
        "### 2.1 Variables Explained\n",
        "\n",
        "Below is a list of each variable in the dataset and an explanation of what it represents and how it will be used in our analysis.\n",
        "\n",
        "* **Player_ID (Index):** the ID number associated with the MLB player\n",
        "* **Player:** the name of the player according to their last_name, first_name\n",
        "* **Team:** the most recent team that the player is on\n",
        "* **Position:** the most common fielding position that the player plays\n",
        "* **Age:** the age of the player\n",
        "* **PA:** the number of plate appearances, including those resulting in walks, for the player's season\n",
        "* **HR_total:** the number of home runs a batter hit in the 2021 season\n",
        "* **SB_total:** the number of stolen bases a baserunner had in 2021\n",
        "* **Attempts:** the number of stolen base attempts for a baserunner (stolen bases + caught stealing)\n",
        "* **BA:** batting average, or number of hits divided by the number of at-bats for a player\n",
        "* **SLG:** slugging percentage, or percent of hits that go for extra bases\n",
        "* **OAA:** \"the cumulative effect of all individual plays a fielder has been credited or debited with, making it a range-based metric of fielding skill that accounts for the number of plays made and the difficulty of them\" ... the higher the outs above average measurement, the better\n",
        "* **Sprint_speed:** in feet per second, the average speed of a player on the basepath\n",
        "* **XBA:** expected batting average, measures the likelihood that a batted ball will become a hit\n",
        "* **XSLG:** expected slugging percentage, measures the likelihood of an extra-base hit formulated using exit velocity, launch angle, certain types of batted balls, and sprint speed\n",
        "* **Avg_exit_velo:** the average velocity of the ball off of the bat for each batted ball event, excluding foul balls\n",
        "* **Avg_launch_angle:** the average angle of the ball hit off of the bat for each batted ball even, excluding foul balls\n",
        "* **Hard_hit_percent:** the percent of a player's batted balls with an exit velocity of 95 mph or greater, excluding foul balls\n",
        "\n"
      ]
    },
    {
      "cell_type": "markdown",
      "metadata": {
        "id": "B4fel-5MQhRV"
      },
      "source": [
        "---\n",
        "\n",
        "## 3. Results"
      ]
    },
    {
      "cell_type": "markdown",
      "metadata": {
        "id": "cva0Ti8gIZwi"
      },
      "source": [
        "We wanted to tell a story that gives an in-depth analysis of a comparison between traditional baseball statistical measurements and the new Statcast measures. We began our analysis by exploring one of the most popular new statistics: launch angle. We wanted to explore if average launch angle is highly correlated with a higher home run total or slugging percentage."
      ]
    },
    {
      "cell_type": "markdown",
      "metadata": {
        "id": "cP70bYIcUMpK"
      },
      "source": [
        "**Question 1: Does a higher launch angle result in more power?**\n",
        "\n",
        "Analysts have been able to pinpoint the narrow range of 25-35 degrees as the sweet spot for home runs, but only when paired with an exit velocity (a measure of the speed of the ball off the bat) of 95 mph or greater. So, we expect our data to show that hitters with an average launch angle between 25 and 35 degrees have a higher number of homeruns than players averaging outside of that range. First, we will look at a histogram showing where most players land in terms of average launch angle. Let's take a look at the distribution for average launch angle:"
      ]
    },
    {
      "cell_type": "code",
      "metadata": {
        "colab": {
          "base_uri": "https://localhost:8080/",
          "height": 350
        },
        "id": "8gs14EQSUQQG",
        "outputId": "8cd42d3c-4691-4a23-aeeb-0693c660ec5f"
      },
      "source": [
        "n = len(offense)\n",
        "multipliers = np.ones(n)*100/n  \n",
        "\n",
        "plt.figure(figsize=(10,5))\n",
        "plt.hist(offense['Avg_launch_angle'], edgecolor = 'black', \n",
        "bins = np.arange(0,40, 5), weights = multipliers)\n",
        "plt.xticks(np.arange(0,40,5))\n",
        "plt.xlabel('Average Launch Angle')\n",
        "plt.ylabel('Percentage of Players')\n",
        "plt.title('Average Launch Angle 2021');"
      ],
      "execution_count": null,
      "outputs": [
        {
          "output_type": "display_data",
          "data": {
            "image/png": "[encoded data removed]",
            "text/plain": [
              "<Figure size 720x360 with 1 Axes>"
            ]
          },
          "metadata": {
            "needs_background": "light"
          }
        }
      ]
    },
    {
      "cell_type": "markdown",
      "metadata": {
        "id": "F6rx8cRRXOxf"
      },
      "source": [
        "This graph shows us a bell curve-like shape, with most of the players falling above 5 degrees and below 20 degrees in terms of average launch angle. This makes sense because as while players aim for the \"sweet spot\" of 25-35 degrees, the number of groundballs that result will drastically reduce average launch angle. Continuing this discussion, we looked at a scatter plot comparing a player's average launch angle to the amount of homeruns they hit during the 2021 season. Our hypothesis was that the higher a player's average launch angle is, the more total home runs they hit. "
      ]
    },
    {
      "cell_type": "code",
      "metadata": {
        "colab": {
          "base_uri": "https://localhost:8080/",
          "height": 350
        },
        "id": "R_KwjyN6Y0vm",
        "outputId": "58630dfb-6603-46e5-e74e-5d89bb9ace72"
      },
      "source": [
        "plt.figure(figsize=(10,5))\n",
        "plt.scatter(offense[\"Avg_launch_angle\"], offense[\"HR_total\"])\n",
        "plt.xlabel(\"Average Launch Angle\")\n",
        "plt.ylabel(\"Homerun Total\")\n",
        "plt.title(\"Average Launch Angle vs Homerun Total\");"
      ],
      "execution_count": null,
      "outputs": [
        {
          "output_type": "display_data",
          "data": {
            "image/png": "[encoded data removed]",
            "text/plain": [
              "<Figure size 720x360 with 1 Axes>"
            ]
          },
          "metadata": {
            "needs_background": "light"
          }
        }
      ]
    },
    {
      "cell_type": "markdown",
      "metadata": {
        "id": "7FD6CKy8Z_2q"
      },
      "source": [
        "We can see a cluster of players below 10 home runs, likely because our data included players with at least 75 plate appearances. This is a small number considering the player with the most plate appearances in 2021 was Freddie Freeman (with 764). He hit 31 homeruns, tied for 31st in MLB, which is an indication that plate appearances and home run totals are not highly correlated. Looking at this graph, there also does not seem to be a strong correlation between average launch angle and the number of homeruns a player hits. In the next cell we will find the correlation coefficient between these variables to put a quantifiable measure to the test. "
      ]
    },
    {
      "cell_type": "code",
      "metadata": {
        "colab": {
          "base_uri": "https://localhost:8080/",
          "height": 112
        },
        "id": "STRIUwoybda1",
        "outputId": "0f95c9c1-cf10-44a0-80af-5d5562f09eaf"
      },
      "source": [
        "corr_LA_HR = offense[[\"Avg_launch_angle\",'HR_total']].corr()\n",
        "corr_LA_HR"
      ],
      "execution_count": null,
      "outputs": [
        {
          "output_type": "execute_result",
          "data": {
            "text/html": [
              "<div>\n",
              "<style scoped>\n",
              "    .dataframe tbody tr th:only-of-type {\n",
              "        vertical-align: middle;\n",
              "    }\n",
              "\n",
              "    .dataframe tbody tr th {\n",
              "        vertical-align: top;\n",
              "    }\n",
              "\n",
              "    .dataframe thead th {\n",
              "        text-align: right;\n",
              "    }\n",
              "</style>\n",
              "<table border=\"1\" class=\"dataframe\">\n",
              "  <thead>\n",
              "    <tr style=\"text-align: right;\">\n",
              "      <th></th>\n",
              "      <th>Avg_launch_angle</th>\n",
              "      <th>HR_total</th>\n",
              "    </tr>\n",
              "  </thead>\n",
              "  <tbody>\n",
              "    <tr>\n",
              "      <th>Avg_launch_angle</th>\n",
              "      <td>1.000000</td>\n",
              "      <td>0.268732</td>\n",
              "    </tr>\n",
              "    <tr>\n",
              "      <th>HR_total</th>\n",
              "      <td>0.268732</td>\n",
              "      <td>1.000000</td>\n",
              "    </tr>\n",
              "  </tbody>\n",
              "</table>\n",
              "</div>"
            ],
            "text/plain": [
              "                  Avg_launch_angle  HR_total\n",
              "Avg_launch_angle          1.000000  0.268732\n",
              "HR_total                  0.268732  1.000000"
            ]
          },
          "metadata": {},
          "execution_count": 101
        }
      ]
    },
    {
      "cell_type": "markdown",
      "metadata": {
        "id": "sxo5f_Gqb7N5"
      },
      "source": [
        "Here, we see the correlation coefficient between a player's average launch angle and their homerun total for 2021 is about 0.269. This shows a weak, positive linear relationship. So, average launch angle is not a strong predictor of a player's homerun total, even though it appears to have a slight upward trend. We decided to shift our focus to explore another variable that launch angle may impact: slugging percentage. We predicted that launch angle and sluggling percentage may have a higher correlation than with home runs, because home runs exclude all other extra base hits that may have a higher launch angle. Let's take a look at the following graph to see the results:"
      ]
    },
    {
      "cell_type": "code",
      "metadata": {
        "colab": {
          "base_uri": "https://localhost:8080/",
          "height": 350
        },
        "id": "WadNGmlbOpLO",
        "outputId": "907f07ba-1167-4dd5-e126-61113af29836"
      },
      "source": [
        "plt.figure(figsize=(10,5))\n",
        "plt.scatter(offense[\"Avg_launch_angle\"], offense[\"SLG\"])\n",
        "plt.xlabel(\"Average Launch Angle\")\n",
        "plt.ylabel(\"Slugging Percentage\")\n",
        "plt.title(\"Average Launch Angle vs Slugging Percentage\");"
      ],
      "execution_count": null,
      "outputs": [
        {
          "output_type": "display_data",
          "data": {
            "image/png": "[encoded data removed]",
            "text/plain": [
              "<Figure size 720x360 with 1 Axes>"
            ]
          },
          "metadata": {
            "needs_background": "light"
          }
        }
      ]
    },
    {
      "cell_type": "markdown",
      "metadata": {
        "id": "IWKRmUEUO2y7"
      },
      "source": [
        "This graph looks like it is returning essentially the same results. As average launch angle increases, the slugging percentage tends to also increase. This makes sense, considering the pattern we just found with home runs and launch angle. Let's look at the correlation with slugging percentage to see if it is any stronger than the correlation with home runs:"
      ]
    },
    {
      "cell_type": "code",
      "metadata": {
        "colab": {
          "base_uri": "https://localhost:8080/",
          "height": 112
        },
        "id": "406I_mB7O3Ni",
        "outputId": "cdc08cd5-825d-4878-ad28-f4a25b21b73c"
      },
      "source": [
        "corr_LA_SLG = offense[[\"Avg_launch_angle\",'SLG']].corr()\n",
        "corr_LA_SLG"
      ],
      "execution_count": null,
      "outputs": [
        {
          "output_type": "execute_result",
          "data": {
            "text/html": [
              "<div>\n",
              "<style scoped>\n",
              "    .dataframe tbody tr th:only-of-type {\n",
              "        vertical-align: middle;\n",
              "    }\n",
              "\n",
              "    .dataframe tbody tr th {\n",
              "        vertical-align: top;\n",
              "    }\n",
              "\n",
              "    .dataframe thead th {\n",
              "        text-align: right;\n",
              "    }\n",
              "</style>\n",
              "<table border=\"1\" class=\"dataframe\">\n",
              "  <thead>\n",
              "    <tr style=\"text-align: right;\">\n",
              "      <th></th>\n",
              "      <th>Avg_launch_angle</th>\n",
              "      <th>SLG</th>\n",
              "    </tr>\n",
              "  </thead>\n",
              "  <tbody>\n",
              "    <tr>\n",
              "      <th>Avg_launch_angle</th>\n",
              "      <td>1.000000</td>\n",
              "      <td>0.235185</td>\n",
              "    </tr>\n",
              "    <tr>\n",
              "      <th>SLG</th>\n",
              "      <td>0.235185</td>\n",
              "      <td>1.000000</td>\n",
              "    </tr>\n",
              "  </tbody>\n",
              "</table>\n",
              "</div>"
            ],
            "text/plain": [
              "                  Avg_launch_angle       SLG\n",
              "Avg_launch_angle          1.000000  0.235185\n",
              "SLG                       0.235185  1.000000"
            ]
          },
          "metadata": {},
          "execution_count": 103
        }
      ]
    },
    {
      "cell_type": "markdown",
      "metadata": {
        "id": "6xmWMZ_AH-iI"
      },
      "source": [
        "To our surprise, the correlation between average launch angle and slugging percentage was actually LOWER than that of launch angle and home run total. Perhaps this makes sense, because extra base hits do not necessarily equate to more fly balls. Many times, hitters will get extra base hits hitting ground balls into the gaps between the outfielders. So, perhaps launch angle is not the best prediction of extra base hits. Maybe it is a matter of pitches hit hard off the bat. We will close this section with a discussion on hard hit balls vs. slugging percentage:"
      ]
    },
    {
      "cell_type": "code",
      "metadata": {
        "colab": {
          "base_uri": "https://localhost:8080/",
          "height": 350
        },
        "id": "Xj96D0wAphgi",
        "outputId": "25765fa7-c6cf-4ed9-c194-09c7a8421086"
      },
      "source": [
        "plt.figure(figsize=(10,5))\n",
        "plt.scatter(offense[\"hard_hit_percent\"], offense[\"SLG\"])\n",
        "plt.xlabel(\"Hard Hit Percentage\")\n",
        "plt.ylabel(\"Slugging Percentage\")\n",
        "plt.title(\"Hard Hit Percentage vs Slugging Percentage\");"
      ],
      "execution_count": null,
      "outputs": [
        {
          "output_type": "display_data",
          "data": {
            "image/png": "[encoded data removed]",
            "text/plain": [
              "<Figure size 720x360 with 1 Axes>"
            ]
          },
          "metadata": {
            "needs_background": "light"
          }
        }
      ]
    },
    {
      "cell_type": "markdown",
      "metadata": {
        "id": "U6G2QYqQJLlS"
      },
      "source": [
        "Interesting. It seems as though 'Hard Hit Percentage' has a clearer upward trajectory than any of the variables we have explored thus far. As the percentage of hits a batter has that are considered hard hit balls increases, the slugging percentage clearly increases along with it. This might make a little more sense than launch angle, because balls that are hit the hardest are often the hardest to field and would likewise result in more extra base hits than balls that are hit at a higher angle. Let's look at the correlation between these variables:"
      ]
    },
    {
      "cell_type": "code",
      "metadata": {
        "colab": {
          "base_uri": "https://localhost:8080/",
          "height": 112
        },
        "id": "e8kWCTWYp4Ib",
        "outputId": "05ef2bd5-dc89-4b0a-9a6b-7e17c176e27c"
      },
      "source": [
        "corr_HH_SLG = offense[[\"hard_hit_percent\",'SLG']].corr()\n",
        "corr_HH_SLG"
      ],
      "execution_count": null,
      "outputs": [
        {
          "output_type": "execute_result",
          "data": {
            "text/html": [
              "<div>\n",
              "<style scoped>\n",
              "    .dataframe tbody tr th:only-of-type {\n",
              "        vertical-align: middle;\n",
              "    }\n",
              "\n",
              "    .dataframe tbody tr th {\n",
              "        vertical-align: top;\n",
              "    }\n",
              "\n",
              "    .dataframe thead th {\n",
              "        text-align: right;\n",
              "    }\n",
              "</style>\n",
              "<table border=\"1\" class=\"dataframe\">\n",
              "  <thead>\n",
              "    <tr style=\"text-align: right;\">\n",
              "      <th></th>\n",
              "      <th>hard_hit_percent</th>\n",
              "      <th>SLG</th>\n",
              "    </tr>\n",
              "  </thead>\n",
              "  <tbody>\n",
              "    <tr>\n",
              "      <th>hard_hit_percent</th>\n",
              "      <td>1.000000</td>\n",
              "      <td>0.603398</td>\n",
              "    </tr>\n",
              "    <tr>\n",
              "      <th>SLG</th>\n",
              "      <td>0.603398</td>\n",
              "      <td>1.000000</td>\n",
              "    </tr>\n",
              "  </tbody>\n",
              "</table>\n",
              "</div>"
            ],
            "text/plain": [
              "                  hard_hit_percent       SLG\n",
              "hard_hit_percent          1.000000  0.603398\n",
              "SLG                       0.603398  1.000000"
            ]
          },
          "metadata": {},
          "execution_count": 105
        }
      ]
    },
    {
      "cell_type": "markdown",
      "metadata": {
        "id": "j2nb3_L3OW0X"
      },
      "source": [
        "This is the highest correlation yet! The percentage of hard hit balls by a player has a moderate positive correlation with their slugging percentage. Contrary to our initial beliefs about launch angle being a better predictor of power, it appears as though balls that are hit harder are the best indicator of power. \n",
        "\n",
        "Keeping this in mind, we became very cautious with our predictions with other variables contained in this dataset. At first we wanted to look at power hitting statistics, but then we shifted our focus to baserunning statistics. This led us to our second topic:"
      ]
    },
    {
      "cell_type": "markdown",
      "metadata": {
        "id": "MIauIrEnc2Ar"
      },
      "source": [
        "**Question 2: Does sprint speed strongly correlate with the number of stolen bases?**\n",
        "\n",
        "For this question, we are hypothesizing that a player with a high average sprint speed will steal more bases than a player with a lower average sprint speed. This seems logical, as faster players should steal bases with relative ease. First we used the describe function to determine the average sprint speed, in feet per second, to develop an understanding of our data. "
      ]
    },
    {
      "cell_type": "code",
      "metadata": {
        "colab": {
          "base_uri": "https://localhost:8080/"
        },
        "id": "ADhcd5tud_zO",
        "outputId": "4e0e4467-6e86-42dd-a096-18c40bd608b2"
      },
      "source": [
        "sprint_speed= offense['sprint_speed'].describe()\n",
        "sprint_speed"
      ],
      "execution_count": null,
      "outputs": [
        {
          "output_type": "execute_result",
          "data": {
            "text/plain": [
              "count    495.000000\n",
              "mean      27.149293\n",
              "std        1.422319\n",
              "min       22.400000\n",
              "25%       26.200000\n",
              "50%       27.200000\n",
              "75%       28.200000\n",
              "max       30.700000\n",
              "Name: sprint_speed, dtype: float64"
            ]
          },
          "metadata": {},
          "execution_count": 106
        }
      ]
    },
    {
      "cell_type": "markdown",
      "metadata": {
        "id": "JKuyq4XDeey1"
      },
      "source": [
        "This tells us a lot about our data. The mean average sprint speed for the 2021 season is about 27.2 feet per second, with the 75th percentile being about 1 foot per second faster at 28.2 feet per second. Clearly, there are players of all types of speeds in MLB, ranging from 22.4 to 30.7 f/s. We further examined how these speeds relate to a player's base running ability:"
      ]
    },
    {
      "cell_type": "code",
      "metadata": {
        "colab": {
          "base_uri": "https://localhost:8080/",
          "height": 350
        },
        "id": "9c2icJNZdWPq",
        "outputId": "0bc98cf8-6d86-4977-f3f3-0a664ead78c3"
      },
      "source": [
        "where_atmp_great_3= offense['attempts']> 3\n",
        "min_attempts= offense[where_atmp_great_3]\n",
        "plt.figure(figsize=(10,5))\n",
        "plt.scatter(min_attempts[\"sprint_speed\"], min_attempts[\"SB_total\"])\n",
        "plt.xlabel(\"Average Sprint Speed\")\n",
        "plt.ylabel(\"Stolen Base Total\")\n",
        "plt.title(\"Average Sprint Speed vs Stolen Base Total\");"
      ],
      "execution_count": null,
      "outputs": [
        {
          "output_type": "display_data",
          "data": {
            "image/png": "[encoded data removed]",
            "text/plain": [
              "<Figure size 720x360 with 1 Axes>"
            ]
          },
          "metadata": {
            "needs_background": "light"
          }
        }
      ]
    },
    {
      "cell_type": "markdown",
      "metadata": {
        "id": "23QXy5Jvewrt"
      },
      "source": [
        "Our plate appearance cutoff is at a very low 75 appearances, so many players have not had many chances to steal many bases. To further complicate things, many players only ended up stealing one or two bases and completely skew the data. By excluding some of these players from this visual, we see a somewhat clear upward trend. There seems to be a somewhat higher correlation here than there was between homeruns and average launch angle. To further test this, we will found the correlation coefficient between these two variables. "
      ]
    },
    {
      "cell_type": "code",
      "metadata": {
        "colab": {
          "base_uri": "https://localhost:8080/",
          "height": 112
        },
        "id": "0dGt_9Y9fH-m",
        "outputId": "78f82e53-45f5-4a8b-c8d5-f09cb53934b2"
      },
      "source": [
        "corr_speed_SB = offense[[\"sprint_speed\",'SB_total']].corr()\n",
        "corr_speed_SB"
      ],
      "execution_count": null,
      "outputs": [
        {
          "output_type": "execute_result",
          "data": {
            "text/html": [
              "<div>\n",
              "<style scoped>\n",
              "    .dataframe tbody tr th:only-of-type {\n",
              "        vertical-align: middle;\n",
              "    }\n",
              "\n",
              "    .dataframe tbody tr th {\n",
              "        vertical-align: top;\n",
              "    }\n",
              "\n",
              "    .dataframe thead th {\n",
              "        text-align: right;\n",
              "    }\n",
              "</style>\n",
              "<table border=\"1\" class=\"dataframe\">\n",
              "  <thead>\n",
              "    <tr style=\"text-align: right;\">\n",
              "      <th></th>\n",
              "      <th>sprint_speed</th>\n",
              "      <th>SB_total</th>\n",
              "    </tr>\n",
              "  </thead>\n",
              "  <tbody>\n",
              "    <tr>\n",
              "      <th>sprint_speed</th>\n",
              "      <td>1.000000</td>\n",
              "      <td>0.459874</td>\n",
              "    </tr>\n",
              "    <tr>\n",
              "      <th>SB_total</th>\n",
              "      <td>0.459874</td>\n",
              "      <td>1.000000</td>\n",
              "    </tr>\n",
              "  </tbody>\n",
              "</table>\n",
              "</div>"
            ],
            "text/plain": [
              "              sprint_speed  SB_total\n",
              "sprint_speed      1.000000  0.459874\n",
              "SB_total          0.459874  1.000000"
            ]
          },
          "metadata": {},
          "execution_count": 108
        }
      ]
    },
    {
      "cell_type": "markdown",
      "metadata": {
        "id": "B1q7uWtzfUjF"
      },
      "source": [
        "The correlation coefficient between a player's average sprint speed and total number of stolen bases during the 2021 season is about 0.46. This shows a  moderate positive linear relationship between the variables. This is slightly reassuring of our prediction that average sprint speed is related to the number of stolen bases, but we wanted to dive deeper into this relationship. Instead of looking at a total number of bases stolen, we examined if speed has any relationship with the percentage of stolen bases based off of the number of attempts. It would make sense that slower players have a lower stolen base percentage, right? Let's explore:"
      ]
    },
    {
      "cell_type": "code",
      "metadata": {
        "colab": {
          "base_uri": "https://localhost:8080/",
          "height": 350
        },
        "id": "AXauMdmio90l",
        "outputId": "789b6a46-1414-4264-ef20-92dbcc3df83e"
      },
      "source": [
        "plt.figure(figsize=(10,5))\n",
        "plt.scatter(min_attempts[\"sprint_speed\"], min_attempts[\"sb_percent\"])\n",
        "plt.xlabel(\"Average Sprint Speed\")\n",
        "plt.ylabel(\"Stolen Base Percentage\")\n",
        "plt.title(\"Average Sprint Speed vs Stolen Base Percentage\");"
      ],
      "execution_count": null,
      "outputs": [
        {
          "output_type": "display_data",
          "data": {
            "image/png": "[encoded data removed]",
            "text/plain": [
              "<Figure size 720x360 with 1 Axes>"
            ]
          },
          "metadata": {
            "needs_background": "light"
          }
        }
      ]
    },
    {
      "cell_type": "markdown",
      "metadata": {
        "id": "WiuDeLBgMz7X"
      },
      "source": [
        "Wow. This was not what we were expecting to see at all. It appears as though there is barely any relationship between these two variables. We decided to take a look at the correlation coefficient before we jumped to any conclusions:"
      ]
    },
    {
      "cell_type": "code",
      "metadata": {
        "id": "MDdudTxoqI6J",
        "colab": {
          "base_uri": "https://localhost:8080/",
          "height": 112
        },
        "outputId": "a9099589-1f38-466a-b3f4-d0d53eaeb903"
      },
      "source": [
        "corr_speed_perc = offense[[\"Avg_launch_angle\",'SLG']].corr()\n",
        "corr_speed_perc"
      ],
      "execution_count": null,
      "outputs": [
        {
          "output_type": "execute_result",
          "data": {
            "text/html": [
              "<div>\n",
              "<style scoped>\n",
              "    .dataframe tbody tr th:only-of-type {\n",
              "        vertical-align: middle;\n",
              "    }\n",
              "\n",
              "    .dataframe tbody tr th {\n",
              "        vertical-align: top;\n",
              "    }\n",
              "\n",
              "    .dataframe thead th {\n",
              "        text-align: right;\n",
              "    }\n",
              "</style>\n",
              "<table border=\"1\" class=\"dataframe\">\n",
              "  <thead>\n",
              "    <tr style=\"text-align: right;\">\n",
              "      <th></th>\n",
              "      <th>Avg_launch_angle</th>\n",
              "      <th>SLG</th>\n",
              "    </tr>\n",
              "  </thead>\n",
              "  <tbody>\n",
              "    <tr>\n",
              "      <th>Avg_launch_angle</th>\n",
              "      <td>1.000000</td>\n",
              "      <td>0.235185</td>\n",
              "    </tr>\n",
              "    <tr>\n",
              "      <th>SLG</th>\n",
              "      <td>0.235185</td>\n",
              "      <td>1.000000</td>\n",
              "    </tr>\n",
              "  </tbody>\n",
              "</table>\n",
              "</div>"
            ],
            "text/plain": [
              "                  Avg_launch_angle       SLG\n",
              "Avg_launch_angle          1.000000  0.235185\n",
              "SLG                       0.235185  1.000000"
            ]
          },
          "metadata": {},
          "execution_count": 110
        }
      ]
    },
    {
      "cell_type": "markdown",
      "metadata": {
        "id": "pvrLbxV0NP-V"
      },
      "source": [
        "The correlation coefficient hit the nail on the head. There is a weak, albeit positive linear relationship between average sprint speed and percentage of bases stolen successfully. Why could this be? Perhaps players with a higher average sprint speed have more stealing attempts, and are thus more likely to be caught stealing more often as they approach the mean. \n",
        "\n",
        "Thus far, these Statcast statistics have not supported our hypothesis too well. There appear to be some positive relationships between these variables that we anticipated, but they were not nearly as strong as we wanted. So, we decided to use some more interesting statistics. In the next section, we explored hitting statistics to explore the relationship between expected and actual batting and slugging averages."
      ]
    },
    {
      "cell_type": "markdown",
      "source": [],
      "metadata": {
        "id": "reSmj76gT4Gi"
      }
    },
    {
      "cell_type": "markdown",
      "metadata": {
        "id": "-3SIPukNf-Lz"
      },
      "source": [
        "**Question 3: How do expected averages (xBA, xSLG) compare with actual averages?**\n",
        "\n",
        "Statcast uses batted ball data, such as launch angle and exit velocity, to predict a player's batting statistics. This is what is known as expected batting average (xBA) and expected slugging percentage (xSLG). For this analysis, we will look at how closely a player's xBA and xSLG line up with their actual BA and SLG. We will first showcase both a player's expected and actual results in some side by side plots:"
      ]
    },
    {
      "cell_type": "code",
      "metadata": {
        "colab": {
          "base_uri": "https://localhost:8080/",
          "height": 455
        },
        "id": "jKLFLicyPRm0",
        "outputId": "22b9041e-9fbb-440f-f56b-81ed44d09079"
      },
      "source": [
        "plt.figure(figsize=(20,7)),\n",
        "plt.subplot(1, 2, 1)\n",
        "plt.scatter( offense['xba'],offense['AVG'], c='g')\n",
        "plt.title('Actual vs. Expected Batting Average')\n",
        "plt.ylabel('Actual Average')\n",
        "plt.xlabel('Expected Batting Average') \n",
        "plt.subplot(1, 2, 2)\n",
        "plt.scatter(offense['xslg'], offense['SLG'],)\n",
        "plt.title('Actual vs. Expected Slugging Percentage')\n",
        "plt.ylabel('Actual Percentage')\n",
        "plt.xlabel('Expected Slugging Percentage')\n",
        "plt.tight_layout(4)\n",
        "plt.show();"
      ],
      "execution_count": null,
      "outputs": [
        {
          "output_type": "display_data",
          "data": {
            "image/png": "[encoded data removed]",
            "text/plain": [
              "<Figure size 1440x504 with 2 Axes>"
            ]
          },
          "metadata": {
            "needs_background": "light"
          }
        }
      ]
    },
    {
      "cell_type": "markdown",
      "metadata": {
        "id": "_mrP87q9lvPC"
      },
      "source": [
        "We can see here that there is a clear positive correlation between the expected and average figures. From the looks of the graph, expected batting average is a good predictor of actual batting average. The same applies for expected and actual slugging percentage. Let's take a look at the correlations to see if this is an accurate assertion:"
      ]
    },
    {
      "cell_type": "code",
      "metadata": {
        "colab": {
          "base_uri": "https://localhost:8080/",
          "height": 112
        },
        "id": "xMPTfeKqmU-H",
        "outputId": "c6c4876e-6b08-402c-b659-31304645b0ad"
      },
      "source": [
        "corr_xBA = offense[[\"xba\",'AVG']].corr()\n",
        "corr_xBA"
      ],
      "execution_count": null,
      "outputs": [
        {
          "output_type": "execute_result",
          "data": {
            "text/html": [
              "<div>\n",
              "<style scoped>\n",
              "    .dataframe tbody tr th:only-of-type {\n",
              "        vertical-align: middle;\n",
              "    }\n",
              "\n",
              "    .dataframe tbody tr th {\n",
              "        vertical-align: top;\n",
              "    }\n",
              "\n",
              "    .dataframe thead th {\n",
              "        text-align: right;\n",
              "    }\n",
              "</style>\n",
              "<table border=\"1\" class=\"dataframe\">\n",
              "  <thead>\n",
              "    <tr style=\"text-align: right;\">\n",
              "      <th></th>\n",
              "      <th>xba</th>\n",
              "      <th>AVG</th>\n",
              "    </tr>\n",
              "  </thead>\n",
              "  <tbody>\n",
              "    <tr>\n",
              "      <th>xba</th>\n",
              "      <td>1.000000</td>\n",
              "      <td>0.821486</td>\n",
              "    </tr>\n",
              "    <tr>\n",
              "      <th>AVG</th>\n",
              "      <td>0.821486</td>\n",
              "      <td>1.000000</td>\n",
              "    </tr>\n",
              "  </tbody>\n",
              "</table>\n",
              "</div>"
            ],
            "text/plain": [
              "          xba       AVG\n",
              "xba  1.000000  0.821486\n",
              "AVG  0.821486  1.000000"
            ]
          },
          "metadata": {},
          "execution_count": 112
        }
      ]
    },
    {
      "cell_type": "markdown",
      "metadata": {
        "id": "pI8Grd7mngMH"
      },
      "source": [
        "From this correlation coefficient, we see that expected and actual batting averages have a strong positive correlation. This makes sense, as we would expect these two variables seem highly intertwined. We were a little surprised that this correlation was not higher, making us question the validity of the expected batting average statistic and what it actually intends to measure. Let's see if the correlation brings the same result for slugging percentage:"
      ]
    },
    {
      "cell_type": "code",
      "metadata": {
        "colab": {
          "base_uri": "https://localhost:8080/",
          "height": 112
        },
        "id": "EyvF9GownBfG",
        "outputId": "188d235c-a5c9-4158-e78e-918371820444"
      },
      "source": [
        "corr_xSLG = offense[[\"xslg\",'SLG']].corr()\n",
        "corr_xSLG"
      ],
      "execution_count": null,
      "outputs": [
        {
          "output_type": "execute_result",
          "data": {
            "text/html": [
              "<div>\n",
              "<style scoped>\n",
              "    .dataframe tbody tr th:only-of-type {\n",
              "        vertical-align: middle;\n",
              "    }\n",
              "\n",
              "    .dataframe tbody tr th {\n",
              "        vertical-align: top;\n",
              "    }\n",
              "\n",
              "    .dataframe thead th {\n",
              "        text-align: right;\n",
              "    }\n",
              "</style>\n",
              "<table border=\"1\" class=\"dataframe\">\n",
              "  <thead>\n",
              "    <tr style=\"text-align: right;\">\n",
              "      <th></th>\n",
              "      <th>xslg</th>\n",
              "      <th>SLG</th>\n",
              "    </tr>\n",
              "  </thead>\n",
              "  <tbody>\n",
              "    <tr>\n",
              "      <th>xslg</th>\n",
              "      <td>1.000000</td>\n",
              "      <td>0.850244</td>\n",
              "    </tr>\n",
              "    <tr>\n",
              "      <th>SLG</th>\n",
              "      <td>0.850244</td>\n",
              "      <td>1.000000</td>\n",
              "    </tr>\n",
              "  </tbody>\n",
              "</table>\n",
              "</div>"
            ],
            "text/plain": [
              "          xslg       SLG\n",
              "xslg  1.000000  0.850244\n",
              "SLG   0.850244  1.000000"
            ]
          },
          "metadata": {},
          "execution_count": 113
        }
      ]
    },
    {
      "cell_type": "markdown",
      "metadata": {
        "id": "qeAt1a-z8ssq"
      },
      "source": [
        "Indeed, expected and actual slugging percentage have a strong positive linear relationship with each other. In fact, this appears to have a higher correlation than batting average. This is actually rather surprising, considering that slugging percentage tends to have a wider spread or variance than batting average does. We decided that we could plot a histogram to explore the variation between these two relationships and compare them on top of each other. The following graph shows the results of batting average in orange and slugging percentage in blue."
      ]
    },
    {
      "cell_type": "code",
      "metadata": {
        "colab": {
          "base_uri": "https://localhost:8080/",
          "height": 513
        },
        "id": "OCOJa-eWjLWk",
        "outputId": "50d6c349-ea29-4747-cea6-85285802265c"
      },
      "source": [
        "from matplotlib.ticker import FormatStrFormatter\n",
        "n = len(offense)\n",
        "multipliers = np.ones(n)*100/n \n",
        "\n",
        "plt.figure(figsize=(20,8))\n",
        "plt.hist(offense['slg_diff'], edgecolor = 'black', \n",
        "bins = np.arange(0,.16,.005), weights = multipliers)\n",
        "plt.hist(offense['ba_diff'], edgecolor = 'black', \n",
        "bins = np.arange(000,.16, .005), weights = multipliers, alpha=0.5)\n",
        "plt.legend(['Slugging Percentage Difference: |SLG - xSLG|', 'Batting Average Difference: |BA - xBA|'])\n",
        "plt.xlabel('Difference Between xBA/xSLG and BA/SLG')\n",
        "plt.ylabel('Percentage of Players')\n",
        "plt.title('Difference Between Expected and Average Statistics')\n",
        "plt.xticks(np.arange(0,.16,.010))\n",
        "plt.yticks(np.arange(000, 20, 2))\n",
        "ax = plt.gca()\n",
        "ax.xaxis.set_major_formatter(FormatStrFormatter('%.3f'));"
      ],
      "execution_count": null,
      "outputs": [
        {
          "output_type": "display_data",
          "data": {
            "image/png": "[encoded data removed]",
            "text/plain": [
              "<Figure size 1440x576 with 1 Axes>"
            ]
          },
          "metadata": {
            "needs_background": "light"
          }
        }
      ]
    },
    {
      "cell_type": "markdown",
      "metadata": {
        "id": "RP15zuyMks0n"
      },
      "source": [
        "The difference between expected batting average and actual batting average appears to have a limited range. There are no players with a batting average that was greater than 9 batting points away from their expected batting average. This means that there is less variation among the data, which is also indicated by the higher frequencies at the beginning of the histogram. The difference between expected slugging percentage and actual slugging percentage is much wider, going all the way up to a 15 point difference. There is a much higher degree of variance, and the maximum difference between two of these points is over twice that of the batting averages. This makes sense because slugging percentage can be drastically affected by a variety of factors, moreso than we would expect batting average to be affected.\n",
        "\n",
        "We finally found a Statcast statistic that is highly predictive of a traditional statistical measurement. From here, we decided to continue our examination to dive deeper into how some of these Statcast measures are calculated and how they may differ by player. We went another direction to fielding statistics to examine the next topic:"
      ]
    },
    {
      "cell_type": "markdown",
      "metadata": {
        "id": "nYpyRLC4kvQG"
      },
      "source": [
        "**Question 4: Do outfielders (LF/CF/RF) have higher outs above average (OAA) than infielders (1B/2B/SS/3B)?**\n",
        "\n",
        "Outs Above Average (OAA) is a way of measuring how many more outs a fielder recorded than the average defender. It is practically meaningless at face value without understanding how it is calculated. Here is what OAA represents for different positions: \n",
        "\n",
        "*Outfielders*:\n",
        "Shows the number of outs a player has recorded over the average defender. OAA uses catch probability which combines 1)the time the fielder has to get to the ball, 2)the distance traveled, and 3)the direction traveled. For example, if a batted ball is given a 75% catch probability, the average outfielder will catch the ball 75% of the time. If he catches it, he gets +.25 credit, but if he misses it he gets -.75 credit. \n",
        "\n",
        "*Infielders*:\n",
        "It is a little different for infielders, yet it still relies on similar metrics. The metrics are:\n",
        "1) Distance needed to travel to the ball, \n",
        "2) How much time he has to get there\n",
        "3) How far he is from the base the runner is running to \n",
        "and 4) the average sprint speed of the runner\n",
        "\n",
        "For this analysis, we will need to perform a groupby to group the players by the primary position they played. This will allow us to analyze the differences between the infield and outfield groups. Let's take a look at the following graph that displays OAA by position:"
      ]
    },
    {
      "cell_type": "code",
      "metadata": {
        "colab": {
          "base_uri": "https://localhost:8080/",
          "height": 350
        },
        "id": "I0WcpoOKlmcR",
        "outputId": "36d79972-058d-4e35-f042-21694d518d9a"
      },
      "source": [
        "defense_OAA= defense[[\"Position\",\"OAA\"]]\n",
        "grpd_position = defense.groupby(\"Position\", as_index= False).sum()\n",
        "plt.figure(figsize=(10,5))\n",
        "plt.bar(grpd_position['Position'],grpd_position['OAA'])\n",
        "plt.title(\"Total OAA per Position\")\n",
        "plt.ylabel(\"Total OAA\")\n",
        "plt.xlabel(\"Position\");"
      ],
      "execution_count": null,
      "outputs": [
        {
          "output_type": "display_data",
          "data": {
            "image/png": "[encoded data removed]",
            "text/plain": [
              "<Figure size 720x360 with 1 Axes>"
            ]
          },
          "metadata": {
            "needs_background": "light"
          }
        }
      ]
    },
    {
      "cell_type": "markdown",
      "metadata": {
        "id": "2qP9JE1InwsX"
      },
      "source": [
        "This graph may appear weird at first. It is portraying an overall account of OAA for every player grouped by position. This shows us that only centerfielders and shortstops have a positive outs above average total. Perhaps this is because of the nature of the positions; centerfielders and shortstops get the most opportunities to cause an out (by catching a fly ball or fielding a routine ground ball) above all the other positions. These positions tend to be the most talented fielders as well, as they have to facilitate the majority of plays that are hit into the infield or outfield respectively. An examination of total OAA may be useful for showing us which positions are most important or talented, but there is really no standard benchmark to compare individual players. In the next graph, we will examine the average OAA of fielders grouped by position."
      ]
    },
    {
      "cell_type": "code",
      "metadata": {
        "colab": {
          "base_uri": "https://localhost:8080/",
          "height": 350
        },
        "id": "2Wf0qr3oUkdf",
        "outputId": "50a36d18-1ce4-470f-975c-97094fc813ad"
      },
      "source": [
        "defense_OAA= defense[[\"Position\",\"OAA\"]]\n",
        "grpd_pos_avg = defense.groupby(\"Position\", as_index= False).mean()\n",
        "plt.figure(figsize=(10,5))\n",
        "plt.bar(grpd_pos_avg['Position'], (grpd_pos_avg['OAA']))\n",
        "plt.title(\"Average OAA per Position\")\n",
        "plt.ylabel(\"Average OAA\")\n",
        "plt.xlabel(\"Position\");"
      ],
      "execution_count": null,
      "outputs": [
        {
          "output_type": "display_data",
          "data": {
            "image/png": "[encoded data removed]",
            "text/plain": [
              "<Figure size 720x360 with 1 Axes>"
            ]
          },
          "metadata": {
            "needs_background": "light"
          }
        }
      ]
    },
    {
      "cell_type": "markdown",
      "metadata": {
        "id": "zUAFx3zQWG3f"
      },
      "source": [
        "This graphs shows us a slightly more meaningful metric of individual OAA. We see that CFs have about double the average OAA in comparison to shortstops. It also appears as though the spread between the average OAA is not as significant as we may have expected from the graph that displayed the totals. All of these averages are within 3.0 points of each other, making the difference less blatantly obvious. Who knows why this could be? We decided to break down just the centerfielders and shortstops in the next graphic to gain some more insight."
      ]
    },
    {
      "cell_type": "code",
      "metadata": {
        "colab": {
          "base_uri": "https://localhost:8080/",
          "height": 513
        },
        "id": "mIAUkc8rWjWS",
        "outputId": "768cd4a0-3d3b-4380-eabd-ef6bdede4ccc"
      },
      "source": [
        "defense_ss = baseball['Position'] == 'SS'\n",
        "defense_cf = baseball['Position'] == 'CF'\n",
        "plt.figure(figsize=(20,8))\n",
        "n1 = len(baseball[defense_cf]['OAA'])\n",
        "multipliers_cf = np.ones(n1)*100/n1\n",
        "n2 = len(baseball[defense_ss]['OAA'])\n",
        "multipliers_ss = np.ones(n2)*100/n2\n",
        "plt.hist(baseball[defense_cf]['OAA'], color = 'r', edgecolor = 'black', \n",
        "bins = np.arange(-28,30,1), weights = multipliers_cf)\n",
        "plt.hist(baseball[defense_ss]['OAA'], color = 'y', edgecolor = 'black', \n",
        "bins = np.arange(-28,30,1), weights = multipliers_ss, alpha=0.5)\n",
        "plt.legend(['OAA: Centerfielders', 'OAA: Shortstops'])\n",
        "plt.xlabel('OAA')\n",
        "plt.ylabel('Percentage of Players')\n",
        "plt.title('Distribution of Outs Above Replacement of Relevant Positions')\n",
        "plt.xticks(np.arange(-28,30,2))\n",
        "plt.yticks(np.arange(0,20,2));"
      ],
      "execution_count": null,
      "outputs": [
        {
          "output_type": "display_data",
          "data": {
            "image/png": "[encoded data removed]",
            "text/plain": [
              "<Figure size 1440x576 with 1 Axes>"
            ]
          },
          "metadata": {
            "needs_background": "light"
          }
        }
      ]
    },
    {
      "cell_type": "markdown",
      "source": [
        "What can we tell about this distribution? First, we can see that there is much less variation among OAAs in Centerfield. Perhaps this is because the grading system favors this position. It also appears to be more of a normal distribution than the shortstops. While the CF distribution is unimodal, the SS distribution appears bimodal. There is a much wider spread due to many outliers residing on the ends of the spectrum. We see two very different pictures painted by the same statistic at different positions. These Statcast measures are continuing to give us mixed results. We decided to examine one final categorical relatonship in this dataset to see if this trend continues: the relationship between age and other Statcast measures."
      ],
      "metadata": {
        "id": "b8rEWQ8ASc2o"
      }
    },
    {
      "cell_type": "markdown",
      "metadata": {
        "id": "H2x1Pc2IoGUx"
      },
      "source": [
        "**Question 5: Do players below the age of 30 have a higher average exit velocity than players 30 or older?**\n",
        "\n",
        "For this final analysis, we predict that players who are younger (in this case younger than 30) have a higher average exit velocity than players 30 or older. We believe as players age, they get weaker and slower and are not able to generate as much bat speed as they previously could. We will illustrate this through a scatterplot."
      ]
    },
    {
      "cell_type": "code",
      "metadata": {
        "id": "ZpKUSJXro55t",
        "colab": {
          "base_uri": "https://localhost:8080/",
          "height": 350
        },
        "outputId": "96d065a6-1466-42d6-cdbf-a273626633f6"
      },
      "source": [
        "plt.figure(figsize=(10,5))\n",
        "plt.scatter(offense[\"Age\"], offense[\"Avg_exit_velo\"])\n",
        "plt.xlabel(\"Player Age\")\n",
        "plt.ylabel(\"Average Exit Velocity\")\n",
        "plt.title(\"Average Exit Velocity per Age\");"
      ],
      "execution_count": null,
      "outputs": [
        {
          "output_type": "display_data",
          "data": {
            "image/png": "[encoded data removed]",
            "text/plain": [
              "<Figure size 720x360 with 1 Axes>"
            ]
          },
          "metadata": {
            "needs_background": "light"
          }
        }
      ]
    },
    {
      "cell_type": "markdown",
      "metadata": {
        "id": "utj1uvHgqbtF"
      },
      "source": [
        "From this graph, there does not seem to be a significant difference in average exit velocity between players younger than 30 and players 30 or older. We can see this dividing line as the split in the middle, and there does not appear to be much difference on either side. We decided to find the means of these groups to further examine these similarities."
      ]
    },
    {
      "cell_type": "code",
      "metadata": {
        "id": "baRBZSdhq5m2",
        "colab": {
          "base_uri": "https://localhost:8080/"
        },
        "outputId": "87cc4b6b-8a78-4bcd-cd2d-e8fa785cf617"
      },
      "source": [
        "older_mean_ev= older_df[\"Avg_exit_velo\"].mean()\n",
        "younger_mean_ev= younger_df[\"Avg_exit_velo\"].mean()\n",
        "\n",
        "print(\"The mean average exit velocity among players younger than 30 is \" + str(younger_mean_ev) + \" and the mean average exit velocity for players 30 or older is \" + str(older_mean_ev))"
      ],
      "execution_count": null,
      "outputs": [
        {
          "output_type": "stream",
          "name": "stdout",
          "text": [
            "The mean average exit velocity among players younger than 30 is 88.49423076923078 and the mean average exit velocity for players 30 or older is 88.57923497267763\n"
          ]
        }
      ]
    },
    {
      "cell_type": "markdown",
      "metadata": {
        "id": "vLPL7yTerzVr"
      },
      "source": [
        "As you can see, there is less than a .1 mph difference in the average exit velocity between the groups. Thus, age has barely any impact on average exit velocity. This was rather disappointing, but we did not give up our search there. We decided to explore if there is a difference between the number of players younger than 30 or 30 or older in terms of the 75th percentile of average exit velocity? We will begin by describing the data."
      ]
    },
    {
      "cell_type": "code",
      "metadata": {
        "id": "GypH9D8HlwyB",
        "colab": {
          "base_uri": "https://localhost:8080/"
        },
        "outputId": "6fb0f9ee-817a-4fc3-ee0a-1e48ba370076"
      },
      "source": [
        "EV= offense['Avg_exit_velo'].describe()\n",
        "EV"
      ],
      "execution_count": null,
      "outputs": [
        {
          "output_type": "execute_result",
          "data": {
            "text/plain": [
              "count    495.000000\n",
              "mean      88.525657\n",
              "std        2.393016\n",
              "min       80.900000\n",
              "25%       87.000000\n",
              "50%       88.600000\n",
              "75%       90.000000\n",
              "max       95.800000\n",
              "Name: Avg_exit_velo, dtype: float64"
            ]
          },
          "metadata": {},
          "execution_count": 120
        }
      ]
    },
    {
      "cell_type": "markdown",
      "source": [
        "We can see that there is not a whole lot of variation among these variables. Here, we can pick out that the 75th percentile, or the third quartile, has an average exit velocity of 90 miles per hour. We will further examine just the relationship among the top 25 percent of data."
      ],
      "metadata": {
        "id": "LyaKE7mhjhQR"
      }
    },
    {
      "cell_type": "code",
      "metadata": {
        "id": "xZfn9nA2lIEI",
        "colab": {
          "base_uri": "https://localhost:8080/",
          "height": 350
        },
        "outputId": "565919d0-d19d-4b86-f694-f2c7233b2813"
      },
      "source": [
        "plt.figure(figsize=(10,5))\n",
        "where_75th = offense['Avg_exit_velo'] >= 90\n",
        "age_velo = offense[where_75th]\n",
        "plt.scatter(age_velo[\"Age\"], age_velo[\"Avg_exit_velo\"])\n",
        "plt.xlabel(\"Player Age\")\n",
        "plt.ylabel(\"Average Exit Velocity\")\n",
        "plt.title(\"Average Exit Velocity Above the 75th Percentile per Age \");"
      ],
      "execution_count": null,
      "outputs": [
        {
          "output_type": "display_data",
          "data": {
            "image/png": "[encoded data removed]",
            "text/plain": [
              "<Figure size 720x360 with 1 Axes>"
            ]
          },
          "metadata": {
            "needs_background": "light"
          }
        }
      ]
    },
    {
      "cell_type": "markdown",
      "source": [
        "This scatterplot still appears to be a little sporadic. There does not appear to be much of an association between these two variables. This is rather surprising, considering that we are only looking at the top 25% of hitters, and it still does not decrease much with age. We decided to shift our focus to examine changes that we can actually see with age. We began by examining the quantity of players and how many of those players are within the top 25% of the entire dataset."
      ],
      "metadata": {
        "id": "0RdJBBGDkh_X"
      }
    },
    {
      "cell_type": "code",
      "metadata": {
        "id": "WGFGtc8LaJFV",
        "colab": {
          "base_uri": "https://localhost:8080/"
        },
        "outputId": "79bd4ce1-b55d-41fd-b712-de4cb85aa794"
      },
      "source": [
        "where_younger_30= offense[\"Age\"] < 30\n",
        "younger_df= offense[where_younger_30]\n",
        "where_30_or_older= offense[\"Age\"] >= 30\n",
        "older_df= offense[where_30_or_older]\n",
        "print('The number of players UNDER the age of 30 is ' + str(len(younger_df)) )\n",
        "print('The number of players 30 or older is ' + str(len(older_df)) )"
      ],
      "execution_count": null,
      "outputs": [
        {
          "output_type": "stream",
          "name": "stdout",
          "text": [
            "The number of players UNDER the age of 30 is 312\n",
            "The number of players 30 or older is 183\n"
          ]
        }
      ]
    },
    {
      "cell_type": "code",
      "metadata": {
        "id": "cVbAjj-uowPJ",
        "colab": {
          "base_uri": "https://localhost:8080/"
        },
        "outputId": "bf11a153-eb1b-4a75-e60c-1c104f8fb7ac"
      },
      "source": [
        "where_75_young= age_velo['Age']< 30\n",
        "young_EV= age_velo[where_75_young]\n",
        "\n",
        "where_75_old= age_velo['Age']>= 30\n",
        "old_EV= age_velo[where_75_old]\n",
        "\n",
        "\n",
        "older_length= (len(old_EV)/ len(older_df)) * 100\n",
        "younger_length= (len(young_EV)/ len(younger_df)) * 100\n",
        "\n",
        "print(\"The percent of players younger than 30 with a exit velocity of 90 or above is \" + str(younger_length) + \"%\")\n",
        "print(\"The percent of players 30 or older with a exit velocity of 90 or above is \" + str(older_length) + \"%\")"
      ],
      "execution_count": null,
      "outputs": [
        {
          "output_type": "stream",
          "name": "stdout",
          "text": [
            "The percent of players younger than 30 with a exit velocity of 90 or above is 27.564102564102566%\n",
            "The percent of players 30 or older with a exit velocity of 90 or above is 23.497267759562842%\n"
          ]
        }
      ]
    },
    {
      "cell_type": "markdown",
      "source": [
        "It looks like there is a substantial difference of 4% between the number of players below 30 in the 75th percentile and above 30. This tells us that as players age, the average exit velocity of the top 25%, also known as power hitters, tend to wane in frequency and relativity. Knowing this, is age necessarily a factor in other Statcast categories? We decied to look at sprint speed for the next assessment."
      ],
      "metadata": {
        "id": "smxpEwCccFkM"
      }
    },
    {
      "cell_type": "code",
      "metadata": {
        "id": "8x0lG1p_adUG",
        "colab": {
          "base_uri": "https://localhost:8080/",
          "height": 350
        },
        "outputId": "549a7bd6-018a-4808-813b-e9cc5440447e"
      },
      "source": [
        "plt.figure(figsize=(10,5))\n",
        "plt.scatter(offense[\"Age\"], offense[\"sprint_speed\"])\n",
        "plt.xlabel(\"Age\")\n",
        "plt.ylabel(\"Average Sprint Speed\")\n",
        "plt.title(\"Average Sprint Speed per Age\");"
      ],
      "execution_count": null,
      "outputs": [
        {
          "output_type": "display_data",
          "data": {
            "image/png": "[encoded data removed]",
            "text/plain": [
              "<Figure size 720x360 with 1 Axes>"
            ]
          },
          "metadata": {
            "needs_background": "light"
          }
        }
      ]
    },
    {
      "cell_type": "markdown",
      "source": [
        "There is clearly a downward trend in the relationship between age and average sprint speed. This makes sense, because as people tend to age they generally slow down. We decided to explore the correlation between these variables to see how strongly these two variables are related:"
      ],
      "metadata": {
        "id": "-GQkfWqmc0Tu"
      }
    },
    {
      "cell_type": "code",
      "metadata": {
        "id": "nojcDBjitLt0",
        "colab": {
          "base_uri": "https://localhost:8080/",
          "height": 112
        },
        "outputId": "c1f11cf8-08fc-42d7-90c2-2d1b1d300c2d"
      },
      "source": [
        "corr_age_speed = offense[[\"Age\",'sprint_speed']].corr()\n",
        "corr_age_speed"
      ],
      "execution_count": null,
      "outputs": [
        {
          "output_type": "execute_result",
          "data": {
            "text/html": [
              "<div>\n",
              "<style scoped>\n",
              "    .dataframe tbody tr th:only-of-type {\n",
              "        vertical-align: middle;\n",
              "    }\n",
              "\n",
              "    .dataframe tbody tr th {\n",
              "        vertical-align: top;\n",
              "    }\n",
              "\n",
              "    .dataframe thead th {\n",
              "        text-align: right;\n",
              "    }\n",
              "</style>\n",
              "<table border=\"1\" class=\"dataframe\">\n",
              "  <thead>\n",
              "    <tr style=\"text-align: right;\">\n",
              "      <th></th>\n",
              "      <th>Age</th>\n",
              "      <th>sprint_speed</th>\n",
              "    </tr>\n",
              "  </thead>\n",
              "  <tbody>\n",
              "    <tr>\n",
              "      <th>Age</th>\n",
              "      <td>1.000000</td>\n",
              "      <td>-0.402659</td>\n",
              "    </tr>\n",
              "    <tr>\n",
              "      <th>sprint_speed</th>\n",
              "      <td>-0.402659</td>\n",
              "      <td>1.000000</td>\n",
              "    </tr>\n",
              "  </tbody>\n",
              "</table>\n",
              "</div>"
            ],
            "text/plain": [
              "                   Age  sprint_speed\n",
              "Age           1.000000     -0.402659\n",
              "sprint_speed -0.402659      1.000000"
            ]
          },
          "metadata": {},
          "execution_count": 125
        }
      ]
    },
    {
      "cell_type": "markdown",
      "source": [
        "These two variables have a moderate negative linear relationship, meaning that as players age, they tend to slow down. This is exactly what we expected, but the finding was not as significant as we had anticipated. Perhaps this is because there are many exceptions to the rules of age."
      ],
      "metadata": {
        "id": "5em9MZ3Wf8eZ"
      }
    },
    {
      "cell_type": "markdown",
      "source": [
        "**CONCLUSION**:\n"
      ],
      "metadata": {
        "id": "e6o-F3sFW95B"
      }
    },
    {
      "cell_type": "markdown",
      "source": [
        "Statcast is a tool used to develop advanced statistics not previously possible, to help determine and better predict player performance. Through our analysis, we tested various of their statistics against actual performance to see if they were an accurate measurement. First, we looked at power statistics and tested to see if launch angle had a significant relationship with homeruns and slugging percentage. We did not find a significant correlation, so we decided that we should switch to looking at a different power statistic - hard hit percentage - and its correlation with slugging percentage. These variables had the highest correlation yet, and it makes sense that hitting the ball hard a higher percentage of the time will lead to more extra base hits. We then focused on another aspect of offense in baserunning, and utilized statcast's sprint speed metric (measured in feet per second) against stolen bases and stolen base percentage. These comparisons did not result in high correlations, and were rather weak. We then switched to looking at batting average and slugging percentage in comparison to their statcast predictors of expected batting average and expected slugging percentage. Both of these relationships showed high linear correlations, indicating that expected batting average and expected slugging percentage are good indicators of actual batting average and actual slugging percentage. We then switched to defense in our analysis. Using Outs Above Average we compared positions, and saw that centerfielders and shortstops led the pack, which is fitting as these are considered the most defensively-minded positions. We finally looked at age and predicted that as a player ages, their skills and physical performance diminished. Looking at average exit velocity, there seemed to be little difference until we researched the 75th percentile of average exit velocity, where players under 30 showed 4% more players than those 30 or older, possibly showing a decrease in power and bat speed as players age. We decided to dive into this analysis by looking at average sprint speed per age, but there did not seem to be a strong correlation. So overall, hard hit percentage seems to be a good indicator of power, expected batting average and expected slugging lined up well with the actual averages, and outs above average furthered the opinion that shortstops and centerfielders are more defensive-minded than other positions. However, the other statistics do not give us a great prediction of actual performance. Overall, statcast seems to have mixed results in predicting actual performance. "
      ],
      "metadata": {
        "id": "VuznBwyBteS5"
      }
    }
  ]
}