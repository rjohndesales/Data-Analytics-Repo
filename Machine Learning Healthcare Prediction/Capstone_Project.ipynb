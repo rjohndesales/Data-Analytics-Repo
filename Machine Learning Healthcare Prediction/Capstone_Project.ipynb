{
 "cells": [
  {
   "cell_type": "markdown",
   "id": "83a2ef2c-3be1-4273-9346-ed917d8a009a",
   "metadata": {
    "tags": []
   },
   "source": [
    "## Heart Disease Machine Learning Capstone Project"
   ]
  },
  {
   "cell_type": "markdown",
   "id": "f90d954e-607f-4d4a-8a11-cbc4dbeeec7f",
   "metadata": {},
   "source": [
    "### Ryan Johnson"
   ]
  },
  {
   "cell_type": "markdown",
   "id": "176717c5-30e8-4099-a815-b8c5dbc8d5bd",
   "metadata": {},
   "source": [
    "# Initial Imports"
   ]
  },
  {
   "cell_type": "code",
   "execution_count": 1,
   "id": "762e4da2-af1a-42a2-82f2-95f28d1ac47d",
   "metadata": {
    "tags": []
   },
   "outputs": [],
   "source": [
    "import numpy as np                 # For doing math, esp. with arrays and matrices\n",
    "import pandas as pd                # For data analysis and manipulations of dataframes\n",
    "import matplotlib.pyplot as plt    # For visualizations\n",
    "%matplotlib inline        \n",
    "import warnings\n",
    "warnings.filterwarnings('ignore', message = 'DataFrame is highly fragmented.*') #For eliminating the error message"
   ]
  },
  {
   "cell_type": "markdown",
   "id": "8dc60641-f6ee-4f3a-8aa3-13c45d8a0906",
   "metadata": {},
   "source": [
    "## About the Data\n",
    "\n",
    "From the CDC website:\n",
    "\n",
    "The Behavioral Risk Factor Surveillance System (BRFSS) is a collaborative project between all the states\n",
    "in the United States and participating US territories and the Centers for Disease Control and Prevention\n",
    "(CDC). The BRFSS is administered and supported by CDC's Population Health Surveillance Branch, under\n",
    "the Division of Population Health at CDC’s National Center for Chronic Disease Prevention and Health\n",
    "Promotion. The BRFSS is a system of ongoing health-related telephone surveys that collect data on\n",
    "health-related risk behaviors, chronic health conditions, health-care access, and use of preventive\n",
    "services from the noninstitutionalized adult population (≥ 18 years) residing in the United States and\n",
    "participating areas. "
   ]
  },
  {
   "cell_type": "markdown",
   "id": "2f97026c-18f1-48f3-b091-7a912791690e",
   "metadata": {},
   "source": [
    "### Sources:"
   ]
  },
  {
   "cell_type": "markdown",
   "id": "c9ff45e4-fe6b-422d-90da-09bd4c8a8357",
   "metadata": {
    "tags": []
   },
   "source": [
    "##### Gender Differences: https://give.brighamandwomens.org/7-differences-between-men-and-women/#:~:text=Men%20and%20women%20also%20have,O'Donoghue.\n",
    "##### Heart Disease Facts: https://www.cdc.gov/heart-disease/data-research/facts-stats/index.html#:~:text=Heart%20disease%20in%20the%20United%20States&text=Heart%20disease%20is%20the%20leading,every%205%20deaths.12\n",
    "##### 2023 BRFSS Data: https://www.cdc.gov/brfss/annual_data/annual_data.htm"
   ]
  },
  {
   "cell_type": "markdown",
   "id": "b857e8d5-140e-4ae6-89d4-00b6330ab384",
   "metadata": {},
   "source": [
    "## Purpose of this Analysis\n",
    "\n",
    "Develop a model to predict which patients are at a higher risk of heart disease. The disease can manifest itself in different ways between men and women. Thus, this analysis will develop 3 models: 1) An overall model, 2) A Female Model, 3) A Male Model."
   ]
  },
  {
   "cell_type": "markdown",
   "id": "e93d0ebd-ab2b-4982-8fa5-71c8a0944783",
   "metadata": {
    "jp-MarkdownHeadingCollapsed": true,
    "tags": []
   },
   "source": [
    "## Variables\n",
    "\n",
    "### Target Variable\n",
    "\n",
    "**Heart_Disease** (CVDCRHD4) : Ever told you had angina or coronary heart disease?\n",
    "\n",
    "\n",
    "### Demographic Variables\n",
    "\n",
    "**Age** (_AGEG5YR) : 14-level age category\n",
    "\n",
    "**Sex** (SEXVAR) : Sex of respondent (Male or Female)\n",
    "\n",
    "**Race** (_RACEGR3) : 5-level race/ethnicity category\n",
    "\n",
    "**Education** (_EDUCAG) : Level of education completed\n",
    "\n",
    "**Income** (INCOME3) : What is your annual household income?\n",
    "\n",
    "**Married** (MARITAL) : What is your marital status?\n",
    "\n",
    "\n",
    "### Behavioral Variables\n",
    "\n",
    "**Smoker** (SMOKE100) : Have you smoked 100 cigarettes in your life?\n",
    "\n",
    "**Marijuana** (MARJSMOK) : During the past 30 days, did you smoke it (for example, in a joint, bong, pipe, or blunt)?\n",
    "\n",
    "**Activity** (_TOTINDA) :  Adults who reported doing physical activity or exercise during th epast 30 days other than their regular job.\n",
    "\n",
    "**Alcohol** (_RFDRHV8) :  Are you a heavy drinker (adult men having more than 14 drinks per week and adult women having more than 7 drinks a week)?\n",
    "\n",
    "\n",
    "### Medical History and Health Status Variables\n",
    "\n",
    "**High_BP** (BPHIGH6) : Have you ever been told by a doctor, nurse or other health professional that you have high blood pressure? \n",
    "\n",
    "**High_Chol** (TOLDHI3) : Have you ever been told by a doctor, nurse or other health professional that your cholesterol is high?\n",
    "\n",
    "**Diabetes** (DIABETE4) : Have you ever been told you had diabetes?\n",
    "\n",
    "**BMI** (_BMI5) : What is your Body Mass Index?\n",
    "\n",
    "**Stroke** (CVDSTRK3) : Have you ever been told you had a stroke?\n",
    "\n",
    "**General_Health** (GENHLTH) : How would you rate your general health?\n",
    "\n",
    "**Physical_Health** (PHYSHLTH) : Now thinking about your physical health, which includes physical illness and injury, for how many days during the past 30 days was your physical health not good?\n",
    "\n",
    "**Mental_Health** (MENTHLTH) :  Now thinking about your mental health, which includes stress, depression, and problems with emotions, for how many days during the past 30 days was your mental health not good?\n",
    "\n",
    "\n",
    "### Healthcare Variables\n",
    "\n",
    "**Health_Insurance** (_HLTHPL1) : Do you have some form of insurance?\n",
    "\n",
    "**Checkup** (CHECKUP1) : About how long has it been since you last visited a doctor for a routine checkup?\n",
    "\n",
    "### Socioeconomic Variables\n",
    "\n",
    "**Employed** (EMPLOY1) : What is your current employment status?\n",
    "\n",
    "**State** (_STATE) : What state do you live in?\n",
    "\n",
    "\n",
    "### Psychosocial Variables\n",
    "\n",
    "**Stress** (SDHSTRE1) :  Within the last 30 days, how often have you felt this kind of stress?\n",
    "\n",
    "**Depression** (ADDEPEV3) : Have you ever been told you have a depressive disorder (including depression, major depression, dysthymia, or minor depression)?\n"
   ]
  },
  {
   "cell_type": "markdown",
   "id": "62bca88b-7e64-420f-a639-5d11773e94af",
   "metadata": {},
   "source": [
    "# Initial Data Import"
   ]
  },
  {
   "cell_type": "code",
   "execution_count": 2,
   "id": "39136139-38a5-4a08-b269-747c37b3f58d",
   "metadata": {
    "tags": []
   },
   "outputs": [],
   "source": [
    "df = pd.read_sas('BRFSS2023.xpt', format = 'xport') #loading in our dataset\n",
    "\n",
    "df = df.copy() #making a copy of our dataframe to improve performance\n"
   ]
  },
  {
   "cell_type": "code",
   "execution_count": 3,
   "id": "0b304c73-e4ad-4136-be0b-9da73b06b16b",
   "metadata": {},
   "outputs": [
    {
     "data": {
      "text/plain": [
       "(433323, 350)"
      ]
     },
     "execution_count": 3,
     "metadata": {},
     "output_type": "execute_result"
    }
   ],
   "source": [
    "df.shape  #finding the shape of our dataframe"
   ]
  },
  {
   "cell_type": "code",
   "execution_count": 4,
   "id": "500b905c-a33b-4c7e-9a92-5e66aa77454a",
   "metadata": {},
   "outputs": [],
   "source": [
    "#we will grab the columns to use for this analysis\n",
    "brfss23 = df[['_AGEG5YR', \n",
    "           'SEXVAR', \n",
    "           '_RACEGR3', \n",
    "           '_EDUCAG', \n",
    "           'INCOME3', \n",
    "           'MARITAL', \n",
    "           'SMOKE100', \n",
    "           'MARJSMOK', \n",
    "           '_TOTINDA', \n",
    "           '_RFDRHV8', \n",
    "           'BPHIGH6', \n",
    "           'TOLDHI3', \n",
    "           'DIABETE4', \n",
    "           '_BMI5',  \n",
    "           'CVDCRHD4', \n",
    "           'CVDSTRK3', \n",
    "           'GENHLTH',\n",
    "            'PHYSHLTH',\n",
    "            'MENTHLTH',\n",
    "            '_HLTHPL1',\n",
    "            'CHECKUP1',\n",
    "            'EMPLOY1',\n",
    "            '_STATE', \n",
    "            'SDHSTRE1',\n",
    "            'ADDEPEV3']]\n"
   ]
  },
  {
   "cell_type": "code",
   "execution_count": 5,
   "id": "a2583f42-9810-42f8-9418-74aeb8acc94e",
   "metadata": {},
   "outputs": [
    {
     "data": {
      "text/plain": [
       "(433323, 25)"
      ]
     },
     "execution_count": 5,
     "metadata": {},
     "output_type": "execute_result"
    }
   ],
   "source": [
    "brfss23.shape #gets the shape of our dataframe"
   ]
  },
  {
   "cell_type": "code",
   "execution_count": 6,
   "id": "889fa685-c41f-4db7-ab22-fbb8176b0707",
   "metadata": {},
   "outputs": [],
   "source": [
    "#renaming our columns to be more interpretable\n",
    "brfss23 = brfss23.rename(columns = {'_AGEG5YR' : 'Age' , \n",
    "           'SEXVAR' : 'Sex', \n",
    "           '_RACEGR3' : 'Race', \n",
    "           '_EDUCAG' : 'Education', \n",
    "           'INCOME3' : 'Income' , \n",
    "           'MARITAL' : 'Married', \n",
    "           'SMOKE100' : 'Smoker', \n",
    "           'MARJSMOK' : 'Marijuana' , \n",
    "           '_TOTINDA' : 'Activity', \n",
    "           '_RFDRHV8' : 'Alcohol', \n",
    "           'BPHIGH6' : 'High_BP' , \n",
    "           'TOLDHI3' : 'High_Chol', \n",
    "           'DIABETE4' : 'Diabetes', \n",
    "           '_BMI5' : 'BMI',  \n",
    "           'CVDCRHD4' : 'Heart_Disease', \n",
    "           'CVDSTRK3' : 'Stroke', \n",
    "           'GENHLTH' : 'General_Health',\n",
    "            'PHYSHLTH' : 'Physical_Health' ,\n",
    "            'MENTHLTH' : 'Mental_Health',\n",
    "            '_HLTHPL1' : 'Health_Insurance',\n",
    "            'CHECKUP1' : 'Checkup',\n",
    "            'EMPLOY1' : 'Employed',\n",
    "            '_STATE' : 'State' , \n",
    "            'SDHSTRE1' : 'Stress' ,\n",
    "            'ADDEPEV3' : 'Depression' })"
   ]
  },
  {
   "cell_type": "code",
   "execution_count": 7,
   "id": "92fa94d9-83b7-4336-80ca-faa88ddad0dc",
   "metadata": {},
   "outputs": [
    {
     "data": {
      "text/html": [
       "<div>\n",
       "<style scoped>\n",
       "    .dataframe tbody tr th:only-of-type {\n",
       "        vertical-align: middle;\n",
       "    }\n",
       "\n",
       "    .dataframe tbody tr th {\n",
       "        vertical-align: top;\n",
       "    }\n",
       "\n",
       "    .dataframe thead th {\n",
       "        text-align: right;\n",
       "    }\n",
       "</style>\n",
       "<table border=\"1\" class=\"dataframe\">\n",
       "  <thead>\n",
       "    <tr style=\"text-align: right;\">\n",
       "      <th></th>\n",
       "      <th>Age</th>\n",
       "      <th>Sex</th>\n",
       "      <th>Race</th>\n",
       "      <th>Education</th>\n",
       "      <th>Income</th>\n",
       "      <th>Married</th>\n",
       "      <th>Smoker</th>\n",
       "      <th>Marijuana</th>\n",
       "      <th>Activity</th>\n",
       "      <th>Alcohol</th>\n",
       "      <th>...</th>\n",
       "      <th>Stroke</th>\n",
       "      <th>General_Health</th>\n",
       "      <th>Physical_Health</th>\n",
       "      <th>Mental_Health</th>\n",
       "      <th>Health_Insurance</th>\n",
       "      <th>Checkup</th>\n",
       "      <th>Employed</th>\n",
       "      <th>State</th>\n",
       "      <th>Stress</th>\n",
       "      <th>Depression</th>\n",
       "    </tr>\n",
       "  </thead>\n",
       "  <tbody>\n",
       "    <tr>\n",
       "      <th>0</th>\n",
       "      <td>13.0</td>\n",
       "      <td>2.0</td>\n",
       "      <td>1.0</td>\n",
       "      <td>3.0</td>\n",
       "      <td>99.0</td>\n",
       "      <td>1.0</td>\n",
       "      <td>2.0</td>\n",
       "      <td>NaN</td>\n",
       "      <td>2.0</td>\n",
       "      <td>1.0</td>\n",
       "      <td>...</td>\n",
       "      <td>2.0</td>\n",
       "      <td>2.0</td>\n",
       "      <td>88.0</td>\n",
       "      <td>88.0</td>\n",
       "      <td>1.0</td>\n",
       "      <td>2.0</td>\n",
       "      <td>7.0</td>\n",
       "      <td>1.0</td>\n",
       "      <td>5.0</td>\n",
       "      <td>2.0</td>\n",
       "    </tr>\n",
       "    <tr>\n",
       "      <th>1</th>\n",
       "      <td>13.0</td>\n",
       "      <td>2.0</td>\n",
       "      <td>1.0</td>\n",
       "      <td>3.0</td>\n",
       "      <td>99.0</td>\n",
       "      <td>2.0</td>\n",
       "      <td>2.0</td>\n",
       "      <td>NaN</td>\n",
       "      <td>1.0</td>\n",
       "      <td>1.0</td>\n",
       "      <td>...</td>\n",
       "      <td>2.0</td>\n",
       "      <td>2.0</td>\n",
       "      <td>88.0</td>\n",
       "      <td>88.0</td>\n",
       "      <td>1.0</td>\n",
       "      <td>2.0</td>\n",
       "      <td>7.0</td>\n",
       "      <td>1.0</td>\n",
       "      <td>5.0</td>\n",
       "      <td>1.0</td>\n",
       "    </tr>\n",
       "    <tr>\n",
       "      <th>2</th>\n",
       "      <td>13.0</td>\n",
       "      <td>2.0</td>\n",
       "      <td>2.0</td>\n",
       "      <td>2.0</td>\n",
       "      <td>2.0</td>\n",
       "      <td>3.0</td>\n",
       "      <td>1.0</td>\n",
       "      <td>NaN</td>\n",
       "      <td>1.0</td>\n",
       "      <td>1.0</td>\n",
       "      <td>...</td>\n",
       "      <td>2.0</td>\n",
       "      <td>4.0</td>\n",
       "      <td>6.0</td>\n",
       "      <td>2.0</td>\n",
       "      <td>1.0</td>\n",
       "      <td>1.0</td>\n",
       "      <td>7.0</td>\n",
       "      <td>1.0</td>\n",
       "      <td>3.0</td>\n",
       "      <td>2.0</td>\n",
       "    </tr>\n",
       "    <tr>\n",
       "      <th>3</th>\n",
       "      <td>12.0</td>\n",
       "      <td>2.0</td>\n",
       "      <td>1.0</td>\n",
       "      <td>3.0</td>\n",
       "      <td>99.0</td>\n",
       "      <td>1.0</td>\n",
       "      <td>2.0</td>\n",
       "      <td>NaN</td>\n",
       "      <td>1.0</td>\n",
       "      <td>1.0</td>\n",
       "      <td>...</td>\n",
       "      <td>2.0</td>\n",
       "      <td>2.0</td>\n",
       "      <td>2.0</td>\n",
       "      <td>88.0</td>\n",
       "      <td>1.0</td>\n",
       "      <td>3.0</td>\n",
       "      <td>7.0</td>\n",
       "      <td>1.0</td>\n",
       "      <td>5.0</td>\n",
       "      <td>1.0</td>\n",
       "    </tr>\n",
       "    <tr>\n",
       "      <th>4</th>\n",
       "      <td>12.0</td>\n",
       "      <td>2.0</td>\n",
       "      <td>1.0</td>\n",
       "      <td>3.0</td>\n",
       "      <td>7.0</td>\n",
       "      <td>3.0</td>\n",
       "      <td>2.0</td>\n",
       "      <td>NaN</td>\n",
       "      <td>1.0</td>\n",
       "      <td>1.0</td>\n",
       "      <td>...</td>\n",
       "      <td>2.0</td>\n",
       "      <td>4.0</td>\n",
       "      <td>88.0</td>\n",
       "      <td>88.0</td>\n",
       "      <td>1.0</td>\n",
       "      <td>1.0</td>\n",
       "      <td>8.0</td>\n",
       "      <td>1.0</td>\n",
       "      <td>2.0</td>\n",
       "      <td>1.0</td>\n",
       "    </tr>\n",
       "  </tbody>\n",
       "</table>\n",
       "<p>5 rows × 25 columns</p>\n",
       "</div>"
      ],
      "text/plain": [
       "    Age  Sex  Race  Education  Income  Married  Smoker  Marijuana  Activity  \\\n",
       "0  13.0  2.0   1.0        3.0    99.0      1.0     2.0        NaN       2.0   \n",
       "1  13.0  2.0   1.0        3.0    99.0      2.0     2.0        NaN       1.0   \n",
       "2  13.0  2.0   2.0        2.0     2.0      3.0     1.0        NaN       1.0   \n",
       "3  12.0  2.0   1.0        3.0    99.0      1.0     2.0        NaN       1.0   \n",
       "4  12.0  2.0   1.0        3.0     7.0      3.0     2.0        NaN       1.0   \n",
       "\n",
       "   Alcohol  ...  Stroke  General_Health  Physical_Health  Mental_Health  \\\n",
       "0      1.0  ...     2.0             2.0             88.0           88.0   \n",
       "1      1.0  ...     2.0             2.0             88.0           88.0   \n",
       "2      1.0  ...     2.0             4.0              6.0            2.0   \n",
       "3      1.0  ...     2.0             2.0              2.0           88.0   \n",
       "4      1.0  ...     2.0             4.0             88.0           88.0   \n",
       "\n",
       "   Health_Insurance  Checkup  Employed  State  Stress  Depression  \n",
       "0               1.0      2.0       7.0    1.0     5.0         2.0  \n",
       "1               1.0      2.0       7.0    1.0     5.0         1.0  \n",
       "2               1.0      1.0       7.0    1.0     3.0         2.0  \n",
       "3               1.0      3.0       7.0    1.0     5.0         1.0  \n",
       "4               1.0      1.0       8.0    1.0     2.0         1.0  \n",
       "\n",
       "[5 rows x 25 columns]"
      ]
     },
     "execution_count": 7,
     "metadata": {},
     "output_type": "execute_result"
    }
   ],
   "source": [
    "#lets take a look at the data\n",
    "brfss23.head()"
   ]
  },
  {
   "cell_type": "code",
   "execution_count": 8,
   "id": "ce5eafd2-d88b-458a-b298-41dd60e81cc6",
   "metadata": {},
   "outputs": [
    {
     "name": "stdout",
     "output_type": "stream",
     "text": [
      "Race                   86\n",
      "Income               8075\n",
      "Married                 7\n",
      "Smoker              19674\n",
      "Marijuana          421883\n",
      "High_BP                 3\n",
      "High_Chol           51812\n",
      "Diabetes                5\n",
      "BMI                 40535\n",
      "Heart_Disease           3\n",
      "Stroke                  4\n",
      "General_Health          4\n",
      "Physical_Health         3\n",
      "Mental_Health           3\n",
      "Checkup                 2\n",
      "Employed             2968\n",
      "Stress             209830\n",
      "Depression              3\n",
      "dtype: int64\n"
     ]
    }
   ],
   "source": [
    "#let's investigate where the null values in our dataset are\n",
    "null_counts = brfss23.isnull().sum()\n",
    "null_counts_filtered = null_counts[null_counts > 1]\n",
    "print(null_counts_filtered)"
   ]
  },
  {
   "cell_type": "code",
   "execution_count": 9,
   "id": "f2c263fb-273d-4b6a-8c7f-0f73ab0b087b",
   "metadata": {},
   "outputs": [
    {
     "data": {
      "text/html": [
       "<div>\n",
       "<style scoped>\n",
       "    .dataframe tbody tr th:only-of-type {\n",
       "        vertical-align: middle;\n",
       "    }\n",
       "\n",
       "    .dataframe tbody tr th {\n",
       "        vertical-align: top;\n",
       "    }\n",
       "\n",
       "    .dataframe thead th {\n",
       "        text-align: right;\n",
       "    }\n",
       "</style>\n",
       "<table border=\"1\" class=\"dataframe\">\n",
       "  <thead>\n",
       "    <tr style=\"text-align: right;\">\n",
       "      <th></th>\n",
       "      <th>Age</th>\n",
       "      <th>Sex</th>\n",
       "      <th>Race</th>\n",
       "      <th>Education</th>\n",
       "      <th>Income</th>\n",
       "      <th>Married</th>\n",
       "      <th>Smoker</th>\n",
       "      <th>Marijuana</th>\n",
       "      <th>Activity</th>\n",
       "      <th>Alcohol</th>\n",
       "      <th>...</th>\n",
       "      <th>Stroke</th>\n",
       "      <th>General_Health</th>\n",
       "      <th>Physical_Health</th>\n",
       "      <th>Mental_Health</th>\n",
       "      <th>Health_Insurance</th>\n",
       "      <th>Checkup</th>\n",
       "      <th>Employed</th>\n",
       "      <th>State</th>\n",
       "      <th>Stress</th>\n",
       "      <th>Depression</th>\n",
       "    </tr>\n",
       "  </thead>\n",
       "  <tbody>\n",
       "    <tr>\n",
       "      <th>48035</th>\n",
       "      <td>9.0</td>\n",
       "      <td>2.0</td>\n",
       "      <td>1.0</td>\n",
       "      <td>4.0</td>\n",
       "      <td>99.0</td>\n",
       "      <td>1.0</td>\n",
       "      <td>2.0</td>\n",
       "      <td>2.0</td>\n",
       "      <td>1.0</td>\n",
       "      <td>2.0</td>\n",
       "      <td>...</td>\n",
       "      <td>2.0</td>\n",
       "      <td>3.0</td>\n",
       "      <td>88.0</td>\n",
       "      <td>4.0</td>\n",
       "      <td>1.0</td>\n",
       "      <td>4.0</td>\n",
       "      <td>2.0</td>\n",
       "      <td>9.0</td>\n",
       "      <td>5.0</td>\n",
       "      <td>2.0</td>\n",
       "    </tr>\n",
       "    <tr>\n",
       "      <th>48037</th>\n",
       "      <td>6.0</td>\n",
       "      <td>2.0</td>\n",
       "      <td>1.0</td>\n",
       "      <td>4.0</td>\n",
       "      <td>77.0</td>\n",
       "      <td>1.0</td>\n",
       "      <td>2.0</td>\n",
       "      <td>1.0</td>\n",
       "      <td>1.0</td>\n",
       "      <td>1.0</td>\n",
       "      <td>...</td>\n",
       "      <td>2.0</td>\n",
       "      <td>3.0</td>\n",
       "      <td>88.0</td>\n",
       "      <td>2.0</td>\n",
       "      <td>1.0</td>\n",
       "      <td>1.0</td>\n",
       "      <td>2.0</td>\n",
       "      <td>9.0</td>\n",
       "      <td>5.0</td>\n",
       "      <td>2.0</td>\n",
       "    </tr>\n",
       "    <tr>\n",
       "      <th>48054</th>\n",
       "      <td>11.0</td>\n",
       "      <td>1.0</td>\n",
       "      <td>1.0</td>\n",
       "      <td>3.0</td>\n",
       "      <td>7.0</td>\n",
       "      <td>1.0</td>\n",
       "      <td>1.0</td>\n",
       "      <td>2.0</td>\n",
       "      <td>1.0</td>\n",
       "      <td>1.0</td>\n",
       "      <td>...</td>\n",
       "      <td>2.0</td>\n",
       "      <td>3.0</td>\n",
       "      <td>88.0</td>\n",
       "      <td>88.0</td>\n",
       "      <td>1.0</td>\n",
       "      <td>1.0</td>\n",
       "      <td>7.0</td>\n",
       "      <td>9.0</td>\n",
       "      <td>4.0</td>\n",
       "      <td>2.0</td>\n",
       "    </tr>\n",
       "    <tr>\n",
       "      <th>48058</th>\n",
       "      <td>6.0</td>\n",
       "      <td>2.0</td>\n",
       "      <td>1.0</td>\n",
       "      <td>4.0</td>\n",
       "      <td>10.0</td>\n",
       "      <td>1.0</td>\n",
       "      <td>1.0</td>\n",
       "      <td>2.0</td>\n",
       "      <td>1.0</td>\n",
       "      <td>1.0</td>\n",
       "      <td>...</td>\n",
       "      <td>2.0</td>\n",
       "      <td>1.0</td>\n",
       "      <td>5.0</td>\n",
       "      <td>88.0</td>\n",
       "      <td>1.0</td>\n",
       "      <td>1.0</td>\n",
       "      <td>1.0</td>\n",
       "      <td>9.0</td>\n",
       "      <td>5.0</td>\n",
       "      <td>2.0</td>\n",
       "    </tr>\n",
       "    <tr>\n",
       "      <th>48066</th>\n",
       "      <td>9.0</td>\n",
       "      <td>1.0</td>\n",
       "      <td>1.0</td>\n",
       "      <td>4.0</td>\n",
       "      <td>11.0</td>\n",
       "      <td>1.0</td>\n",
       "      <td>1.0</td>\n",
       "      <td>1.0</td>\n",
       "      <td>2.0</td>\n",
       "      <td>1.0</td>\n",
       "      <td>...</td>\n",
       "      <td>2.0</td>\n",
       "      <td>3.0</td>\n",
       "      <td>3.0</td>\n",
       "      <td>3.0</td>\n",
       "      <td>1.0</td>\n",
       "      <td>2.0</td>\n",
       "      <td>1.0</td>\n",
       "      <td>9.0</td>\n",
       "      <td>3.0</td>\n",
       "      <td>2.0</td>\n",
       "    </tr>\n",
       "    <tr>\n",
       "      <th>...</th>\n",
       "      <td>...</td>\n",
       "      <td>...</td>\n",
       "      <td>...</td>\n",
       "      <td>...</td>\n",
       "      <td>...</td>\n",
       "      <td>...</td>\n",
       "      <td>...</td>\n",
       "      <td>...</td>\n",
       "      <td>...</td>\n",
       "      <td>...</td>\n",
       "      <td>...</td>\n",
       "      <td>...</td>\n",
       "      <td>...</td>\n",
       "      <td>...</td>\n",
       "      <td>...</td>\n",
       "      <td>...</td>\n",
       "      <td>...</td>\n",
       "      <td>...</td>\n",
       "      <td>...</td>\n",
       "      <td>...</td>\n",
       "      <td>...</td>\n",
       "    </tr>\n",
       "    <tr>\n",
       "      <th>376874</th>\n",
       "      <td>4.0</td>\n",
       "      <td>2.0</td>\n",
       "      <td>2.0</td>\n",
       "      <td>3.0</td>\n",
       "      <td>7.0</td>\n",
       "      <td>1.0</td>\n",
       "      <td>1.0</td>\n",
       "      <td>1.0</td>\n",
       "      <td>2.0</td>\n",
       "      <td>2.0</td>\n",
       "      <td>...</td>\n",
       "      <td>2.0</td>\n",
       "      <td>4.0</td>\n",
       "      <td>88.0</td>\n",
       "      <td>88.0</td>\n",
       "      <td>1.0</td>\n",
       "      <td>2.0</td>\n",
       "      <td>1.0</td>\n",
       "      <td>51.0</td>\n",
       "      <td>3.0</td>\n",
       "      <td>2.0</td>\n",
       "    </tr>\n",
       "    <tr>\n",
       "      <th>376880</th>\n",
       "      <td>2.0</td>\n",
       "      <td>1.0</td>\n",
       "      <td>9.0</td>\n",
       "      <td>3.0</td>\n",
       "      <td>9.0</td>\n",
       "      <td>5.0</td>\n",
       "      <td>2.0</td>\n",
       "      <td>1.0</td>\n",
       "      <td>2.0</td>\n",
       "      <td>1.0</td>\n",
       "      <td>...</td>\n",
       "      <td>2.0</td>\n",
       "      <td>2.0</td>\n",
       "      <td>2.0</td>\n",
       "      <td>30.0</td>\n",
       "      <td>2.0</td>\n",
       "      <td>4.0</td>\n",
       "      <td>1.0</td>\n",
       "      <td>51.0</td>\n",
       "      <td>3.0</td>\n",
       "      <td>2.0</td>\n",
       "    </tr>\n",
       "    <tr>\n",
       "      <th>376886</th>\n",
       "      <td>10.0</td>\n",
       "      <td>1.0</td>\n",
       "      <td>1.0</td>\n",
       "      <td>2.0</td>\n",
       "      <td>5.0</td>\n",
       "      <td>1.0</td>\n",
       "      <td>2.0</td>\n",
       "      <td>1.0</td>\n",
       "      <td>1.0</td>\n",
       "      <td>9.0</td>\n",
       "      <td>...</td>\n",
       "      <td>2.0</td>\n",
       "      <td>3.0</td>\n",
       "      <td>88.0</td>\n",
       "      <td>88.0</td>\n",
       "      <td>1.0</td>\n",
       "      <td>1.0</td>\n",
       "      <td>2.0</td>\n",
       "      <td>51.0</td>\n",
       "      <td>1.0</td>\n",
       "      <td>2.0</td>\n",
       "    </tr>\n",
       "    <tr>\n",
       "      <th>376893</th>\n",
       "      <td>5.0</td>\n",
       "      <td>2.0</td>\n",
       "      <td>4.0</td>\n",
       "      <td>3.0</td>\n",
       "      <td>8.0</td>\n",
       "      <td>4.0</td>\n",
       "      <td>1.0</td>\n",
       "      <td>1.0</td>\n",
       "      <td>1.0</td>\n",
       "      <td>1.0</td>\n",
       "      <td>...</td>\n",
       "      <td>2.0</td>\n",
       "      <td>2.0</td>\n",
       "      <td>88.0</td>\n",
       "      <td>5.0</td>\n",
       "      <td>1.0</td>\n",
       "      <td>1.0</td>\n",
       "      <td>1.0</td>\n",
       "      <td>51.0</td>\n",
       "      <td>4.0</td>\n",
       "      <td>1.0</td>\n",
       "    </tr>\n",
       "    <tr>\n",
       "      <th>376933</th>\n",
       "      <td>10.0</td>\n",
       "      <td>2.0</td>\n",
       "      <td>1.0</td>\n",
       "      <td>4.0</td>\n",
       "      <td>4.0</td>\n",
       "      <td>1.0</td>\n",
       "      <td>2.0</td>\n",
       "      <td>1.0</td>\n",
       "      <td>1.0</td>\n",
       "      <td>1.0</td>\n",
       "      <td>...</td>\n",
       "      <td>2.0</td>\n",
       "      <td>1.0</td>\n",
       "      <td>88.0</td>\n",
       "      <td>88.0</td>\n",
       "      <td>1.0</td>\n",
       "      <td>1.0</td>\n",
       "      <td>7.0</td>\n",
       "      <td>51.0</td>\n",
       "      <td>4.0</td>\n",
       "      <td>2.0</td>\n",
       "    </tr>\n",
       "  </tbody>\n",
       "</table>\n",
       "<p>5936 rows × 25 columns</p>\n",
       "</div>"
      ],
      "text/plain": [
       "         Age  Sex  Race  Education  Income  Married  Smoker  Marijuana  \\\n",
       "48035    9.0  2.0   1.0        4.0    99.0      1.0     2.0        2.0   \n",
       "48037    6.0  2.0   1.0        4.0    77.0      1.0     2.0        1.0   \n",
       "48054   11.0  1.0   1.0        3.0     7.0      1.0     1.0        2.0   \n",
       "48058    6.0  2.0   1.0        4.0    10.0      1.0     1.0        2.0   \n",
       "48066    9.0  1.0   1.0        4.0    11.0      1.0     1.0        1.0   \n",
       "...      ...  ...   ...        ...     ...      ...     ...        ...   \n",
       "376874   4.0  2.0   2.0        3.0     7.0      1.0     1.0        1.0   \n",
       "376880   2.0  1.0   9.0        3.0     9.0      5.0     2.0        1.0   \n",
       "376886  10.0  1.0   1.0        2.0     5.0      1.0     2.0        1.0   \n",
       "376893   5.0  2.0   4.0        3.0     8.0      4.0     1.0        1.0   \n",
       "376933  10.0  2.0   1.0        4.0     4.0      1.0     2.0        1.0   \n",
       "\n",
       "        Activity  Alcohol  ...  Stroke  General_Health  Physical_Health  \\\n",
       "48035        1.0      2.0  ...     2.0             3.0             88.0   \n",
       "48037        1.0      1.0  ...     2.0             3.0             88.0   \n",
       "48054        1.0      1.0  ...     2.0             3.0             88.0   \n",
       "48058        1.0      1.0  ...     2.0             1.0              5.0   \n",
       "48066        2.0      1.0  ...     2.0             3.0              3.0   \n",
       "...          ...      ...  ...     ...             ...              ...   \n",
       "376874       2.0      2.0  ...     2.0             4.0             88.0   \n",
       "376880       2.0      1.0  ...     2.0             2.0              2.0   \n",
       "376886       1.0      9.0  ...     2.0             3.0             88.0   \n",
       "376893       1.0      1.0  ...     2.0             2.0             88.0   \n",
       "376933       1.0      1.0  ...     2.0             1.0             88.0   \n",
       "\n",
       "        Mental_Health  Health_Insurance  Checkup  Employed  State  Stress  \\\n",
       "48035             4.0               1.0      4.0       2.0    9.0     5.0   \n",
       "48037             2.0               1.0      1.0       2.0    9.0     5.0   \n",
       "48054            88.0               1.0      1.0       7.0    9.0     4.0   \n",
       "48058            88.0               1.0      1.0       1.0    9.0     5.0   \n",
       "48066             3.0               1.0      2.0       1.0    9.0     3.0   \n",
       "...               ...               ...      ...       ...    ...     ...   \n",
       "376874           88.0               1.0      2.0       1.0   51.0     3.0   \n",
       "376880           30.0               2.0      4.0       1.0   51.0     3.0   \n",
       "376886           88.0               1.0      1.0       2.0   51.0     1.0   \n",
       "376893            5.0               1.0      1.0       1.0   51.0     4.0   \n",
       "376933           88.0               1.0      1.0       7.0   51.0     4.0   \n",
       "\n",
       "        Depression  \n",
       "48035          2.0  \n",
       "48037          2.0  \n",
       "48054          2.0  \n",
       "48058          2.0  \n",
       "48066          2.0  \n",
       "...            ...  \n",
       "376874         2.0  \n",
       "376880         2.0  \n",
       "376886         2.0  \n",
       "376893         1.0  \n",
       "376933         2.0  \n",
       "\n",
       "[5936 rows x 25 columns]"
      ]
     },
     "execution_count": 9,
     "metadata": {},
     "output_type": "execute_result"
    }
   ],
   "source": [
    "#removing the null values\n",
    "brfss23 = brfss23.dropna()\n",
    "brfss23"
   ]
  },
  {
   "cell_type": "markdown",
   "id": "c00892d2-5d68-445b-8004-330846df64b2",
   "metadata": {},
   "source": [
    "## Variable Cleaning"
   ]
  },
  {
   "cell_type": "code",
   "execution_count": 10,
   "id": "ae64182f-de5e-4d5f-a99a-d723a46d622e",
   "metadata": {
    "tags": []
   },
   "outputs": [
    {
     "data": {
      "text/plain": [
       "array([ 9.,  6., 11., 10.,  7.,  5.,  8.,  2., 12.,  4., 13.,  1.,  3.])"
      ]
     },
     "execution_count": 10,
     "metadata": {},
     "output_type": "execute_result"
    }
   ],
   "source": [
    "#Age (_AGEG5YR)\n",
    "# ordinal column. 1 is 18-24. Has 13 categories, with 5 year increments. 13 is 80+. \n",
    "# remove 14 because it is don't know or missing\n",
    "brfss23 = brfss23[brfss23.Age != 14]\n",
    "brfss23.Age.unique()"
   ]
  },
  {
   "cell_type": "code",
   "execution_count": 11,
   "id": "11a93dd4-0a2e-4d83-96c7-d420e1658074",
   "metadata": {},
   "outputs": [
    {
     "name": "stderr",
     "output_type": "stream",
     "text": [
      "C:\\Users\\rjohn\\AppData\\Local\\Temp\\ipykernel_15956\\4227620282.py:4: SettingWithCopyWarning: \n",
      "A value is trying to be set on a copy of a slice from a DataFrame.\n",
      "Try using .loc[row_indexer,col_indexer] = value instead\n",
      "\n",
      "See the caveats in the documentation: https://pandas.pydata.org/pandas-docs/stable/user_guide/indexing.html#returning-a-view-versus-a-copy\n",
      "  brfss23['Sex'] = brfss23['Sex'].replace({2:0})\n"
     ]
    },
    {
     "data": {
      "text/plain": [
       "array([0., 1.])"
      ]
     },
     "execution_count": 11,
     "metadata": {},
     "output_type": "execute_result"
    }
   ],
   "source": [
    "#Sex (SEXVAR)\n",
    "# binary male or female\n",
    "# change 2 to 0 (female as 0). Male is 1\n",
    "brfss23['Sex'] = brfss23['Sex'].replace({2:0})\n",
    "brfss23.Sex.unique()"
   ]
  },
  {
   "cell_type": "code",
   "execution_count": 12,
   "id": "ffb88f09-fd2c-48ae-b1c7-df6cfdeee2d7",
   "metadata": {},
   "outputs": [
    {
     "data": {
      "text/plain": [
       "array([1., 4., 3., 5., 2.])"
      ]
     },
     "execution_count": 12,
     "metadata": {},
     "output_type": "execute_result"
    }
   ],
   "source": [
    "#Race (_RACEGR3)\n",
    "#5 level racial identification\n",
    "#remove 9 because it is refused or don't know\n",
    "brfss23 = brfss23[brfss23.Race != 9]\n",
    "brfss23.Race.unique()"
   ]
  },
  {
   "cell_type": "code",
   "execution_count": 13,
   "id": "386a4fa5-9166-4c15-b345-585ab54ab29a",
   "metadata": {},
   "outputs": [
    {
     "data": {
      "text/plain": [
       "array([4., 3., 2., 1.])"
      ]
     },
     "execution_count": 13,
     "metadata": {},
     "output_type": "execute_result"
    }
   ],
   "source": [
    "#Education (_EDUCAG)\n",
    "#4 level identification from 1 being did not graduate High School to 4 Graduated from College or Technical School\n",
    "#remove 9 for don't know or msising\n",
    "brfss23 = brfss23[brfss23.Education != 9]\n",
    "brfss23.Education.unique()"
   ]
  },
  {
   "cell_type": "code",
   "execution_count": 14,
   "id": "f8c42088-450b-4384-b7a6-069a69f36357",
   "metadata": {},
   "outputs": [
    {
     "data": {
      "text/plain": [
       "array([ 7., 10., 11.,  9.,  6.,  4.,  5.,  8.,  2.,  1.,  3.])"
      ]
     },
     "execution_count": 14,
     "metadata": {},
     "output_type": "execute_result"
    }
   ],
   "source": [
    "#Income (INCOME3)\n",
    "#ordinal variable with 1 being less than $10,000 all the way up to 11 being $200,000 or more\n",
    "# Remove 77 and 99 for don't know and refused\n",
    "brfss23 = brfss23[brfss23.Income != 77]\n",
    "brfss23 = brfss23[brfss23.Income != 99]\n",
    "brfss23.Income.unique()"
   ]
  },
  {
   "cell_type": "code",
   "execution_count": 15,
   "id": "4cf07696-6559-4196-9c52-379991ac01b3",
   "metadata": {},
   "outputs": [
    {
     "data": {
      "text/plain": [
       "array([1., 0.])"
      ]
     },
     "execution_count": 15,
     "metadata": {},
     "output_type": "execute_result"
    }
   ],
   "source": [
    "#Married (MARITAL)\n",
    "#Changed from a 6 level system to just binary of married (1) or not-married (0)\n",
    "#remove 9 because they refused\n",
    "brfss23['Married'] = brfss23['Married'].replace({2:0, 3:0, 4:0, 5:0, 6:0})\n",
    "brfss23 = brfss23[brfss23.Married != 9]\n",
    "brfss23.Married.unique()"
   ]
  },
  {
   "cell_type": "code",
   "execution_count": 16,
   "id": "3856b85c-88c0-4b1b-b195-544bec6888b1",
   "metadata": {},
   "outputs": [
    {
     "data": {
      "text/plain": [
       "array([1., 0.])"
      ]
     },
     "execution_count": 16,
     "metadata": {},
     "output_type": "execute_result"
    }
   ],
   "source": [
    "#Smoker (SMOKE100)\n",
    "#1 have smoked 100 days in life, 0 have not\n",
    "#remove 7 and 9 which were don't know or refused\n",
    "brfss23['Smoker'] = brfss23['Smoker'].replace({2:0})\n",
    "brfss23 = brfss23[brfss23.Smoker != 7]\n",
    "brfss23 = brfss23[brfss23.Smoker != 9]\n",
    "brfss23.Smoker.unique()"
   ]
  },
  {
   "cell_type": "code",
   "execution_count": 17,
   "id": "7147531d-896f-485f-82f0-f13a474d2770",
   "metadata": {},
   "outputs": [
    {
     "data": {
      "text/plain": [
       "array([0., 1.])"
      ]
     },
     "execution_count": 17,
     "metadata": {},
     "output_type": "execute_result"
    }
   ],
   "source": [
    "#Marijuana (MARJSMOK)\n",
    "#1 being Yes smoked marijuana in the past 30 days, 0 being no\n",
    "#remove 7 and 9 which were don't know or refused\n",
    "brfss23['Marijuana'] = brfss23['Marijuana'].replace({2:0})\n",
    "brfss23 = brfss23[brfss23.Marijuana != 7]\n",
    "brfss23 = brfss23[brfss23.Marijuana != 9]\n",
    "brfss23.Marijuana.unique()"
   ]
  },
  {
   "cell_type": "code",
   "execution_count": 18,
   "id": "e7871402-9666-438c-b8be-6b9613b47baf",
   "metadata": {},
   "outputs": [
    {
     "data": {
      "text/plain": [
       "array([1., 0.])"
      ]
     },
     "execution_count": 18,
     "metadata": {},
     "output_type": "execute_result"
    }
   ],
   "source": [
    "#Activity (_TOTINDA)\n",
    "#1 being had physical activity, 0 being no physical acitivity (replace 2 with 0)\n",
    "#remove 9 don't know, not sure or missing\n",
    "brfss23['Activity'] = brfss23['Activity'].replace({2:0})\n",
    "brfss23 = brfss23[brfss23.Activity != 9]\n",
    "brfss23.Activity.unique()"
   ]
  },
  {
   "cell_type": "code",
   "execution_count": 19,
   "id": "9c6d6128-4d1d-45eb-b423-7fb4157ebe90",
   "metadata": {},
   "outputs": [
    {
     "data": {
      "text/plain": [
       "array([0., 1.])"
      ]
     },
     "execution_count": 19,
     "metadata": {},
     "output_type": "execute_result"
    }
   ],
   "source": [
    "#Alcohol (_RFDRHV8)\n",
    "#remove 9 for don't know or missing\n",
    "#1 being heavy drinker (replace 2 with 1), 0 being not a heavy drinker (replace 1 with 0)\n",
    "brfss23['Alcohol'] = brfss23['Alcohol'].replace({1:0})\n",
    "brfss23['Alcohol'] = brfss23['Alcohol'].replace({2:1})\n",
    "brfss23 = brfss23[brfss23.Alcohol != 9]\n",
    "brfss23.Alcohol.unique()"
   ]
  },
  {
   "cell_type": "code",
   "execution_count": 20,
   "id": "8300244d-82d3-4585-bc51-527d2de9e827",
   "metadata": {},
   "outputs": [
    {
     "data": {
      "text/plain": [
       "array([1., 0.])"
      ]
     },
     "execution_count": 20,
     "metadata": {},
     "output_type": "execute_result"
    }
   ],
   "source": [
    "#High_BP (BPHIGH6)\n",
    "#Change 3 to 0 so it represents No high blood pressure and 2 and 4 to 1 so it represents high blood pressure\n",
    "#remove 7 and 9 for don't know or refuse\n",
    "brfss23['High_BP'] = brfss23['High_BP'].replace({3:0, 2:1, 4:1})\n",
    "brfss23 = brfss23[brfss23.High_BP != 7]\n",
    "brfss23 = brfss23[brfss23.High_BP != 9]\n",
    "brfss23.High_BP.unique()"
   ]
  },
  {
   "cell_type": "code",
   "execution_count": 21,
   "id": "5209781e-0190-4363-9b33-9ff95f94231e",
   "metadata": {},
   "outputs": [
    {
     "data": {
      "text/plain": [
       "array([1., 0.])"
      ]
     },
     "execution_count": 21,
     "metadata": {},
     "output_type": "execute_result"
    }
   ],
   "source": [
    "#High_Chol (TOLDHI3)\n",
    "#1 for yes high cholesterol 0 for no (change 2 to 0)\n",
    "#remove 7 and 9 for don't know or refused\n",
    "brfss23['High_Chol'] = brfss23['High_Chol'].replace({2:0})\n",
    "brfss23 = brfss23[brfss23.High_Chol != 7]\n",
    "brfss23 = brfss23[brfss23.High_Chol != 9]\n",
    "brfss23.High_Chol.unique()"
   ]
  },
  {
   "cell_type": "code",
   "execution_count": 22,
   "id": "18346c25-3080-470a-be8b-95e1c914fe80",
   "metadata": {},
   "outputs": [
    {
     "data": {
      "text/plain": [
       "array([1., 0.])"
      ]
     },
     "execution_count": 22,
     "metadata": {},
     "output_type": "execute_result"
    }
   ],
   "source": [
    "#Diabetes (DIABETE4)\n",
    "# going to make this binary. 0 is for no diabetes, only during pregnancy,pre-diabetes or borderline diabetes, 1 is for yes diabetes\n",
    "# Remove all 7 (dont knows)\n",
    "# Remove all 9 (refused)\n",
    "brfss23['Diabetes'] = brfss23['Diabetes'].replace({2:0, 3:0, 1:1, 4:0})\n",
    "brfss23 = brfss23[brfss23.Diabetes != 7]\n",
    "brfss23 = brfss23[brfss23.Diabetes != 9]\n",
    "brfss23.Diabetes.unique()"
   ]
  },
  {
   "cell_type": "code",
   "execution_count": 23,
   "id": "d68f709f-0067-43c5-8c2d-b65a3087e7d0",
   "metadata": {},
   "outputs": [
    {
     "data": {
      "text/plain": [
       "array([34., 27., 24., 28., 23., 30., 33., 26., 31., 29., 25., 38., 37.,\n",
       "       20., 32., 49., 22., 21., 40., 14., 15., 46., 36., 44., 39., 42.,\n",
       "       47., 19., 35., 41., 17., 60., 52., 50., 55., 53., 43., 18., 45.,\n",
       "       69., 16., 72., 58., 48., 51., 54., 57., 61., 66., 63., 56., 62.,\n",
       "       75., 68.])"
      ]
     },
     "execution_count": 23,
     "metadata": {},
     "output_type": "execute_result"
    }
   ],
   "source": [
    "# BMI (_BMI5) \n",
    "#no reductions just note that these are BMI * 100. We will divide by 100 to get accurate BMI scores\n",
    "#rounding to zero decimal places to make it easier for the machine learning models\n",
    "brfss23['BMI'] = brfss23['BMI'].div(100).round(0)\n",
    "brfss23.BMI.unique()"
   ]
  },
  {
   "cell_type": "code",
   "execution_count": 24,
   "id": "b0807077-259b-4704-80a0-7915843f3df1",
   "metadata": {},
   "outputs": [
    {
     "data": {
      "text/plain": [
       "array([0., 1.])"
      ]
     },
     "execution_count": 24,
     "metadata": {},
     "output_type": "execute_result"
    }
   ],
   "source": [
    "#Heart_Disease (CVDCRHD4)\n",
    "#changing No from 2 to 0\n",
    "#remove 7 and 9 for don't know or refused\n",
    "brfss23['Heart_Disease'] = brfss23['Heart_Disease'].replace({2:0})\n",
    "brfss23 = brfss23[brfss23.Heart_Disease != 7]\n",
    "brfss23 = brfss23[brfss23.Heart_Disease != 9]\n",
    "brfss23.Heart_Disease.unique()"
   ]
  },
  {
   "cell_type": "code",
   "execution_count": 25,
   "id": "b2e4bb07-7fb3-490f-90c3-1e4fd49b3985",
   "metadata": {},
   "outputs": [
    {
     "data": {
      "text/plain": [
       "array([0., 1.])"
      ]
     },
     "execution_count": 25,
     "metadata": {},
     "output_type": "execute_result"
    }
   ],
   "source": [
    "#Stroke (CVDSTRK3)\n",
    "#changing No from 2 to 0\n",
    "#remove 7 and 9 for don't know or refused\n",
    "brfss23['Stroke'] = brfss23['Stroke'].replace({2:0})\n",
    "brfss23 = brfss23[brfss23.Stroke != 7]\n",
    "brfss23 = brfss23[brfss23.Stroke != 9]\n",
    "brfss23.Stroke.unique()"
   ]
  },
  {
   "cell_type": "code",
   "execution_count": 26,
   "id": "4feea6ba-e2fe-4091-af3a-2985f08a36b3",
   "metadata": {},
   "outputs": [
    {
     "data": {
      "text/plain": [
       "array([3., 1., 4., 5., 2.])"
      ]
     },
     "execution_count": 26,
     "metadata": {},
     "output_type": "execute_result"
    }
   ],
   "source": [
    "#General_Health (GENHLTH)\n",
    "#1-5 scale with 1 being excellent 5 being poor\n",
    "#remove 7 and 9 for don't know or refused\n",
    "brfss23 = brfss23[brfss23.General_Health != 7]\n",
    "brfss23 = brfss23[brfss23.General_Health != 9]\n",
    "brfss23.General_Health.unique()"
   ]
  },
  {
   "cell_type": "code",
   "execution_count": 27,
   "id": "ad0b0d45-fe61-4514-b226-a5c535a542db",
   "metadata": {},
   "outputs": [
    {
     "data": {
      "text/plain": [
       "array([ 0.,  5.,  3.,  4., 15., 30., 27.,  2., 10.,  1., 25., 20., 14.,\n",
       "        7.,  6., 28., 11., 21.,  8., 18., 12., 29.,  9., 16., 17., 26.,\n",
       "       13., 22., 24.])"
      ]
     },
     "execution_count": 27,
     "metadata": {},
     "output_type": "execute_result"
    }
   ],
   "source": [
    "#Physical_Health (PHYSHLTH)\n",
    "#1-30 days physical health has NOT been good\n",
    "#change None from 88 to 0\n",
    "#remove 77 and 99 for don't know or refused\n",
    "brfss23['Physical_Health'] = brfss23['Physical_Health'].replace({88:0})\n",
    "brfss23 = brfss23[brfss23.Physical_Health != 77]\n",
    "brfss23 = brfss23[brfss23.Physical_Health != 99]\n",
    "brfss23.Physical_Health.unique()"
   ]
  },
  {
   "cell_type": "code",
   "execution_count": 28,
   "id": "6af78bec-a2f2-4540-8fae-271509360d8a",
   "metadata": {},
   "outputs": [
    {
     "data": {
      "text/plain": [
       "array([ 0.,  3.,  5.,  1.,  2., 20., 10., 27.,  4., 15., 30.,  7.,  6.,\n",
       "       28., 23.,  8., 14., 21., 25., 12., 16.,  9., 17., 26., 18., 13.,\n",
       "       11., 24., 22., 29.])"
      ]
     },
     "execution_count": 28,
     "metadata": {},
     "output_type": "execute_result"
    }
   ],
   "source": [
    "#Mental_Health (MENTHLTH)\n",
    "#1-30 days mental health has NOT been good\n",
    "#change None from 88 to 0\n",
    "#remove 77 and 99 for don't know or refused\n",
    "brfss23['Mental_Health'] = brfss23['Mental_Health'].replace({88:0})\n",
    "brfss23 = brfss23[brfss23.Mental_Health != 77]\n",
    "brfss23 = brfss23[brfss23.Mental_Health != 99]\n",
    "brfss23.Mental_Health.unique()"
   ]
  },
  {
   "cell_type": "code",
   "execution_count": 29,
   "id": "b0a835c1-97fc-44a2-ab14-b5b41904a780",
   "metadata": {},
   "outputs": [
    {
     "data": {
      "text/plain": [
       "array([1., 0.])"
      ]
     },
     "execution_count": 29,
     "metadata": {},
     "output_type": "execute_result"
    }
   ],
   "source": [
    "#Health_Insurance (_HLTHPL1)\n",
    "#replace 2 to 0 for no health care plan\n",
    "#remove 7 and 9 for don't know or refused\n",
    "brfss23['Health_Insurance'] = brfss23['Health_Insurance'].replace({2:0})\n",
    "brfss23 = brfss23[brfss23.Health_Insurance != 7]\n",
    "brfss23 = brfss23[brfss23.Health_Insurance != 9]\n",
    "brfss23.Health_Insurance.unique()"
   ]
  },
  {
   "cell_type": "code",
   "execution_count": 30,
   "id": "e4086041-b944-441f-adb3-ff2bf2892018",
   "metadata": {},
   "outputs": [
    {
     "data": {
      "text/plain": [
       "array([1., 2., 3., 4., 0.])"
      ]
     },
     "execution_count": 30,
     "metadata": {},
     "output_type": "execute_result"
    }
   ],
   "source": [
    "#Checkup (CHECKUP1)\n",
    "#5 levels with 1 being within the past year through 4 being 5+ years, and 8 being never\n",
    "#change never from 8 to 0\n",
    "#remove 7 and 9 for don't know or refused\n",
    "brfss23['Checkup'] = brfss23['Checkup'].replace({8:0})\n",
    "brfss23 = brfss23[brfss23.Checkup != 7]\n",
    "brfss23 = brfss23[brfss23.Checkup != 9]\n",
    "brfss23.Checkup.unique()"
   ]
  },
  {
   "cell_type": "code",
   "execution_count": 31,
   "id": "7362f044-17cc-4188-a034-ab553453a420",
   "metadata": {},
   "outputs": [
    {
     "data": {
      "text/plain": [
       "array([0., 1.])"
      ]
     },
     "execution_count": 31,
     "metadata": {},
     "output_type": "execute_result"
    }
   ],
   "source": [
    "#Employed (EMPLOY1)\n",
    "#remove 9 for refused\n",
    "#make 2 1 for employed, everything else is 0 for not employed\n",
    "brfss23['Employed'] = brfss23['Employed'].replace({2:1, 3:0, 4:0, 5:0, 6:0, 7:0, 8:0})\n",
    "brfss23 = brfss23[brfss23.Employed != 9]\n",
    "brfss23.Employed.unique()"
   ]
  },
  {
   "cell_type": "code",
   "execution_count": 32,
   "id": "fa85abe4-1914-4160-bfea-18eccec9c483",
   "metadata": {},
   "outputs": [],
   "source": [
    "#State (_STATE)\n",
    "#just a listing of states, no manipulation needed"
   ]
  },
  {
   "cell_type": "code",
   "execution_count": 33,
   "id": "3f4240e3-66a0-4043-9b38-a7331df0d97b",
   "metadata": {},
   "outputs": [
    {
     "data": {
      "text/plain": [
       "array([4., 5., 3., 2., 1.])"
      ]
     },
     "execution_count": 33,
     "metadata": {},
     "output_type": "execute_result"
    }
   ],
   "source": [
    "#Stress (SDHSTRE1)\n",
    "#remove 7 and 9 for don't know or refused\n",
    "brfss23 = brfss23[brfss23.Stress != 7]\n",
    "brfss23 = brfss23[brfss23.Stress != 9]\n",
    "brfss23.Stress.unique()"
   ]
  },
  {
   "cell_type": "code",
   "execution_count": 34,
   "id": "d46e89c6-09ee-4fea-b37f-b86ddc7f5576",
   "metadata": {},
   "outputs": [
    {
     "data": {
      "text/plain": [
       "array([0., 1.])"
      ]
     },
     "execution_count": 34,
     "metadata": {},
     "output_type": "execute_result"
    }
   ],
   "source": [
    "#Depression (ADDEPEV3)\n",
    "#binary 1 yes and 2 no\n",
    "#change 2 to 0 for no\n",
    "#remove 7 and 9 for don't know or refused\n",
    "brfss23['Depression'] = brfss23['Depression'].replace({2:0})\n",
    "brfss23 = brfss23[brfss23.Depression != 7]\n",
    "brfss23 = brfss23[brfss23.Depression != 9]\n",
    "brfss23.Depression.unique()"
   ]
  },
  {
   "cell_type": "code",
   "execution_count": 35,
   "id": "c845b6c4-c437-443c-a331-79a73a9c0566",
   "metadata": {},
   "outputs": [
    {
     "data": {
      "text/plain": [
       "(4834, 25)"
      ]
     },
     "execution_count": 35,
     "metadata": {},
     "output_type": "execute_result"
    }
   ],
   "source": [
    "#getting the new shape of our cleaned dataframe\n",
    "brfss23.shape"
   ]
  },
  {
   "cell_type": "markdown",
   "id": "5b9b5b7a-5b4b-450d-b406-f9abbb53bf30",
   "metadata": {},
   "source": [
    "# Visualizations"
   ]
  },
  {
   "cell_type": "code",
   "execution_count": 36,
   "id": "acd7aece-0de0-4d54-b926-9402da330498",
   "metadata": {},
   "outputs": [
    {
     "data": {
      "image/png": "[encoded data removed]",
      "text/plain": [
       "<Figure size 640x480 with 1 Axes>"
      ]
     },
     "metadata": {},
     "output_type": "display_data"
    },
    {
     "name": "stdout",
     "output_type": "stream",
     "text": [
      "The percent of people without heart disease is 95.22%, while the percent of with with heart disease is 4.78%.\n"
     ]
    }
   ],
   "source": [
    "#graphing the percentage of respondents with heart disease\n",
    "\n",
    "#calculating the frequencies and setting the x axis for labeling\n",
    "hd_frequency = brfss23['Heart_Disease'].value_counts()\n",
    "hd_percent = (hd_frequency/hd_frequency.sum())*100\n",
    "hd_percent = hd_percent.set_axis(['No', 'Yes'])\n",
    "\n",
    "\n",
    "#graphing our distribution\n",
    "hd_percent.plot(kind = 'bar', color = ['green', 'red'], alpha = 0.7)\n",
    "plt.xlabel('Heart Disease')\n",
    "plt.ylabel('Frequency %')\n",
    "plt.title('Heart Disease Breakdown')\n",
    "plt.xticks(rotation = 0)\n",
    "plt.show()\n",
    "\n",
    "#describing our distribution\n",
    "print(f\"The percent of people without heart disease is {hd_percent['No'].round(2)}%, while the percent of with with heart disease is {hd_percent['Yes'].round(2)}%.\")"
   ]
  },
  {
   "cell_type": "code",
   "execution_count": 37,
   "id": "b9efdad9-8dc6-4ec9-b35f-3a1643c21bd5",
   "metadata": {
    "tags": []
   },
   "outputs": [
    {
     "data": {
      "image/png": "[encoded data removed]",
      "text/plain": [
       "<Figure size 2000x500 with 1 Axes>"
      ]
     },
     "metadata": {},
     "output_type": "display_data"
    },
    {
     "name": "stdout",
     "output_type": "stream",
     "text": [
      "The age distribution is fairly even, with the maximum at age group 60-64 with 11.42% and the minimum at age group 80+ with 1.16%. The mean of the distribution is 7.69%.\n"
     ]
    }
   ],
   "source": [
    "#graphing the age distribution\n",
    "\n",
    "#calculating the frequencies, sorting, and setting the x axis for labeling\n",
    "age_frequency = brfss23['Age'].value_counts()\n",
    "age_percent = (age_frequency/age_frequency.sum())*100\n",
    "age_percent = age_percent.sort_index()\n",
    "age_percent = age_percent.set_axis(['18-24', '25-29', '30-34', '35-39', '40-44', '45-49', '50-54', '55-59', '60-64', '65-69', '70-74', '75-79', '80+'])\n",
    "\n",
    "#getting the min, max, and mean values for the distribution\n",
    "max_value = max(age_percent)\n",
    "max_index = age_percent.idxmax()\n",
    "min_value = min(age_percent)\n",
    "min_index = age_percent.idxmin()\n",
    "mean_value = age_percent.mean()\n",
    "\n",
    "\n",
    "#plotting the distribution\n",
    "plt.figure(figsize=(20,5))\n",
    "age_percent.plot(kind = 'bar')\n",
    "plt.xlabel('Age')\n",
    "plt.ylabel('Frequency %')\n",
    "plt.title('Age Breakdown')\n",
    "plt.xticks(rotation = 0)\n",
    "plt.show()\n",
    "\n",
    "#describing our distribution\n",
    "print(f\"The age distribution is fairly even, with the maximum at age group {max_index} with {round(max_value,2)}% and the minimum at age group {min_index} with {round(min_value,2)}%. The mean of the distribution is {round(mean_value,2)}%.\")"
   ]
  },
  {
   "cell_type": "code",
   "execution_count": 38,
   "id": "711df1e9-1074-4005-b51d-26bb913b474b",
   "metadata": {},
   "outputs": [
    {
     "data": {
      "image/png": "[encoded data removed]",
      "text/plain": [
       "<Figure size 2000x500 with 1 Axes>"
      ]
     },
     "metadata": {},
     "output_type": "display_data"
    },
    {
     "name": "stdout",
     "output_type": "stream",
     "text": [
      "The age range with the highest percent of heart disease is 80+ at 26.79% and the age range with the lowest percentage of heart disease is 18-24 at 0.35%.\n"
     ]
    }
   ],
   "source": [
    "#graphing the percent of heart disease per age group\n",
    "\n",
    "#calculating the frequencies and setting the x axis for labeling\n",
    "hd_per_age = ( brfss23.groupby('Age')['Heart_Disease'].mean()*100)\n",
    "hd_per_age = hd_per_age.set_axis(['18-24', '25-29', '30-34', '35-39', '40-44', '45-49', '50-54', '55-59', '60-64', '65-69', '70-74', '75-79', '80+'])\n",
    "\n",
    "#getting the min, max, and mean values for the distribution\n",
    "max_value = max(hd_per_age)\n",
    "max_index = hd_per_age.idxmax()\n",
    "min_value = min(hd_per_age)\n",
    "min_index = hd_per_age.idxmin()\n",
    "\n",
    "#plotting the distribution\n",
    "plt.figure(figsize=(20,5))\n",
    "hd_per_age.plot(kind='bar')\n",
    "plt.xlabel('Age')\n",
    "plt.ylabel('Percentage with Heart Disease (%)')\n",
    "plt.title('Percentage of Heart Disease by Age')\n",
    "plt.xticks(rotation=0)\n",
    "plt.show()\n",
    "\n",
    "#describing our distribution\n",
    "print(f\"The age range with the highest percent of heart disease is {max_index} at {round(max_value,2)}% and the age range with the lowest percentage of heart disease is {min_index} at {round(min_value,2)}%.\")"
   ]
  },
  {
   "cell_type": "code",
   "execution_count": 39,
   "id": "383c38be-e7bf-44cd-ac8e-3199fc65690b",
   "metadata": {},
   "outputs": [
    {
     "data": {
      "image/png": "[encoded data removed]",
      "text/plain": [
       "<Figure size 640x480 with 1 Axes>"
      ]
     },
     "metadata": {},
     "output_type": "display_data"
    },
    {
     "name": "stdout",
     "output_type": "stream",
     "text": [
      "The race distribution is heavily skewed, as the race with the highest frequency is White with 78.9% and race with the minimum frequency is Multi-Racial with 2.75%.\n"
     ]
    }
   ],
   "source": [
    "#graphing the racial distribution\n",
    "\n",
    "#calculating the frequencies, sorting, and setting the x axis for labeling\n",
    "race_frequency = brfss23['Race'].value_counts()\n",
    "race_percent = (race_frequency/race_frequency.sum())*100\n",
    "race_percent = race_percent.sort_index()\n",
    "race_percent = race_percent.set_axis(['White', 'Black', 'Other', 'Multi-Racial', 'Hispanic'])\n",
    "\n",
    "#getting the min, max, and mean values for the distribution\n",
    "max_value = max(race_percent)\n",
    "max_index = race_percent.idxmax()\n",
    "min_value = min(race_percent)\n",
    "min_index = race_percent.idxmin()\n",
    "mean_value = race_percent.mean()\n",
    "\n",
    "#plotting the distribution\n",
    "race_percent.plot(kind = 'bar')\n",
    "plt.xlabel('Race')\n",
    "plt.ylabel('Frequency %')\n",
    "plt.title('Race Breakdown')\n",
    "plt.xticks(rotation = 0)\n",
    "plt.show()\n",
    "\n",
    "#describing our distribution\n",
    "print(f\"The race distribution is heavily skewed, as the race with the highest frequency is {max_index} with {round(max_value,2)}% and race with the minimum frequency is {min_index} with {round(min_value,2)}%.\")"
   ]
  },
  {
   "cell_type": "code",
   "execution_count": 40,
   "id": "37d7aaed-4875-4858-a24f-0c970926df74",
   "metadata": {
    "tags": []
   },
   "outputs": [
    {
     "data": {
      "image/png": "[encoded data removed]",
      "text/plain": [
       "<Figure size 2000x500 with 1 Axes>"
      ]
     },
     "metadata": {},
     "output_type": "display_data"
    },
    {
     "name": "stdout",
     "output_type": "stream",
     "text": [
      "The race with the highest percent of heart disease is Multi-Racial at 7.52% and the race with the lowest percentage of heart disease is Hispanic at 1.93%.\n"
     ]
    }
   ],
   "source": [
    "#graphing the percent of heart disease per race\n",
    "\n",
    "#calculating the frequencies and setting the x axis for labeling\n",
    "hd_per_race = ( brfss23.groupby('Race')['Heart_Disease'].mean()*100)\n",
    "hd_per_race = hd_per_race.set_axis(['White', 'Black', 'Other', 'Multi-Racial', 'Hispanic'])\n",
    "\n",
    "#getting the min, max, and mean values for the distribution\n",
    "max_value = max(hd_per_race)\n",
    "max_index = hd_per_race.idxmax()\n",
    "min_value = min(hd_per_race)\n",
    "min_index = hd_per_race.idxmin()\n",
    "\n",
    "#plotting the distribution\n",
    "plt.figure(figsize=(20,5))\n",
    "hd_per_race.plot(kind='bar')\n",
    "plt.xlabel('Race')\n",
    "plt.ylabel('Percentage with Heart Disease (%)')\n",
    "plt.title('Percentage of Heart Disease by Race')\n",
    "plt.xticks(rotation=0)\n",
    "plt.show()\n",
    "\n",
    "#describing our distribution\n",
    "print(f\"The race with the highest percent of heart disease is {max_index} at {round(max_value,2)}% and the race with the lowest percentage of heart disease is {min_index} at {round(min_value,2)}%.\")"
   ]
  },
  {
   "cell_type": "code",
   "execution_count": 41,
   "id": "c581722c-1f0d-4e0a-b2e5-b6e5aceebcfb",
   "metadata": {},
   "outputs": [
    {
     "data": {
      "image/png": "[encoded data removed]",
      "text/plain": [
       "<Figure size 2000x500 with 1 Axes>"
      ]
     },
     "metadata": {},
     "output_type": "display_data"
    },
    {
     "name": "stdout",
     "output_type": "stream",
     "text": [
      "The income distribution is relatively normal, with the maximum frequency of 17.07% at <$75k annually, and the minimum frequency of 3.27% at <$10k annually. The average frequency is 9.09%.\n"
     ]
    }
   ],
   "source": [
    "#graphing the income distribution\n",
    "\n",
    "#calculating the frequencies, sorting, and setting the x axis for labeling\n",
    "income_frequency = brfss23['Income'].value_counts()\n",
    "income_percent = (income_frequency/income_frequency.sum())*100\n",
    "income_percent = income_percent.sort_index()\n",
    "income_percent = income_percent.set_axis(['<$10k', '<$15k', '<$20k', '<$25k', '<$35k', '<$50k', '<$75k', '<$100k', '<$150k', '<$200k', '$200k+'])\n",
    "\n",
    "#getting the min, max, and mean values for the distribution\n",
    "max_value = max(income_percent)\n",
    "max_index = income_percent.idxmax()\n",
    "min_value = min(income_percent)\n",
    "min_index = income_percent.idxmin()\n",
    "mean_value = income_percent.mean()\n",
    "\n",
    "#plotting the distribution\n",
    "plt.figure(figsize=(20,5))\n",
    "income_percent.plot(kind = 'bar')\n",
    "plt.xlabel('Annual Income')\n",
    "plt.ylabel('Frequency %')\n",
    "plt.title('Income Breakdown')\n",
    "plt.xticks(rotation = 0)\n",
    "plt.show()\n",
    "\n",
    "#describing our distribution\n",
    "print(f\"The income distribution is relatively normal, with the maximum frequency of {round(max_value,2)}% at {max_index} annually, and the minimum frequency of {round(min_value,2)}% at {min_index} annually. The average frequency is {round(mean_value,2)}%.\")"
   ]
  },
  {
   "cell_type": "code",
   "execution_count": 42,
   "id": "7aef66ce-4580-4172-b27b-2898702182d4",
   "metadata": {},
   "outputs": [
    {
     "data": {
      "image/png": "[encoded data removed]",
      "text/plain": [
       "<Figure size 2000x500 with 1 Axes>"
      ]
     },
     "metadata": {},
     "output_type": "display_data"
    },
    {
     "name": "stdout",
     "output_type": "stream",
     "text": [
      "The income level with the highest percent of heart disease is <$15k at 12.27% and the lowest percentage of heart disease is the $200k+ income level at 1.15%.\n"
     ]
    }
   ],
   "source": [
    "#graphing the percent of heart disease per income level\n",
    "\n",
    "#calculating the frequencies and setting the x axis for labeling\n",
    "hd_per_income = ( brfss23.groupby('Income')['Heart_Disease'].mean()*100)\n",
    "hd_per_income = hd_per_income.set_axis(['<$10k', '<$15k', '<$20k', '<$25k', '<$35k', '<$50k', '<$75k', '<$100k', '<$150k', '<$200k', '$200k+'])\n",
    "\n",
    "#getting the min, max, and mean values for the distribution\n",
    "max_value = max(hd_per_income)\n",
    "max_index = hd_per_income.idxmax()\n",
    "min_value = min(hd_per_income)\n",
    "min_index = hd_per_income.idxmin()\n",
    "\n",
    "#plotting the distribution\n",
    "plt.figure(figsize=(20,5))\n",
    "hd_per_income.plot(kind='bar')\n",
    "plt.xlabel('Annual Income')\n",
    "plt.ylabel('Percentage with Heart Disease (%)')\n",
    "plt.title('Percentage of Heart Disease by Income Level')\n",
    "plt.xticks(rotation=0)\n",
    "plt.show()\n",
    "\n",
    "#describing our distribution\n",
    "print(f\"The income level with the highest percent of heart disease is {max_index} at {round(max_value,2)}% and the lowest percentage of heart disease is the {min_index} income level at {round(min_value,2)}%.\")"
   ]
  },
  {
   "cell_type": "code",
   "execution_count": 43,
   "id": "ca9eba32-67f8-4462-aedd-fd77f58a2317",
   "metadata": {},
   "outputs": [
    {
     "data": {
      "image/png": "[encoded data removed]",
      "text/plain": [
       "<Figure size 640x480 with 1 Axes>"
      ]
     },
     "metadata": {},
     "output_type": "display_data"
    },
    {
     "name": "stdout",
     "output_type": "stream",
     "text": [
      "The cleaned dataset is 44.91% male and 55.09% female.\n"
     ]
    }
   ],
   "source": [
    "#graphing the sex distribution\n",
    "\n",
    "#calculating the frequencies, sorting, and setting the x axis for labeling\n",
    "sex_frequency = brfss23['Sex'].value_counts()\n",
    "sex_percent = (sex_frequency/sex_frequency.sum())*100\n",
    "sex_percent = sex_percent.sort_index()\n",
    "sex_percent = sex_percent.set_axis(['Male', 'Female'])\n",
    "\n",
    "#plotting the distribution\n",
    "sex_percent.plot(kind = 'bar', color=['blue', 'pink'], alpha=0.7)\n",
    "plt.xlabel('Sex')\n",
    "plt.ylabel('Frequency %')\n",
    "plt.title('Sex Breakdown')\n",
    "plt.xticks(rotation = 0)\n",
    "plt.show()\n",
    "\n",
    "#describing our distribution\n",
    "print(f\"The cleaned dataset is {sex_percent['Male'].round(2)}% male and {sex_percent['Female'].round(2)}% female.\")"
   ]
  },
  {
   "cell_type": "code",
   "execution_count": 44,
   "id": "c6e4c16f-9461-461b-8a66-b31cd8b07118",
   "metadata": {},
   "outputs": [
    {
     "data": {
      "image/png": "[encoded data removed]",
      "text/plain": [
       "<Figure size 640x480 with 1 Axes>"
      ]
     },
     "metadata": {},
     "output_type": "display_data"
    },
    {
     "name": "stdout",
     "output_type": "stream",
     "text": [
      "The percent of men with heart disease is 3.18%, while the percent of women with heart disease is 6.08%.\n"
     ]
    }
   ],
   "source": [
    "#graphing the percent of heart disease per sex\n",
    "\n",
    "#calculating the frequencies and setting the x axis for labeling\n",
    "hd_per_sex = ( brfss23.groupby('Sex')['Heart_Disease'].mean()*100)\n",
    "hd_per_sex = hd_per_sex.set_axis(['Male', 'Female'])\n",
    "hd_per_sex.plot(kind='bar', color=['blue', 'pink'], alpha=0.7)\n",
    "\n",
    "#plotting the distribution\n",
    "plt.xlabel('Sex')\n",
    "plt.ylabel('Percentage with Heart Disease (%)')\n",
    "plt.title('Percentage of Heart Disease by Sex')\n",
    "plt.xticks(rotation=0)\n",
    "plt.show()\n",
    "\n",
    "#describing our distribution\n",
    "print(f\"The percent of men with heart disease is {hd_per_sex['Male'].round(2)}%, while the percent of women with heart disease is {hd_per_sex['Female'].round(2)}%.\")"
   ]
  },
  {
   "cell_type": "code",
   "execution_count": 45,
   "id": "4f296b2d-19d7-475e-a17e-3859a94dbd5c",
   "metadata": {},
   "outputs": [
    {
     "name": "stdout",
     "output_type": "stream",
     "text": [
      "Heart_Disease       1.000000\n",
      "Age                 0.206057\n",
      "General_Health      0.176464\n",
      "High_Chol           0.173643\n",
      "High_BP             0.169494\n",
      "Diabetes            0.160951\n",
      "Physical_Health     0.144271\n",
      "Stroke              0.118307\n",
      "Smoker              0.094036\n",
      "Sex                 0.067741\n",
      "BMI                 0.039669\n",
      "Health_Insurance    0.038086\n",
      "Depression          0.022989\n",
      "Stress              0.008083\n",
      "Married             0.007923\n",
      "Mental_Health       0.006975\n",
      "State               0.003815\n",
      "Marijuana          -0.019679\n",
      "Alcohol            -0.022501\n",
      "Race               -0.022963\n",
      "Education          -0.023913\n",
      "Checkup            -0.061639\n",
      "Activity           -0.075953\n",
      "Income             -0.079460\n",
      "Employed           -0.139604\n",
      "Name: Heart_Disease, dtype: float64\n",
      "The highest correlation is Age at 0.21. The values range down through -0.14, so there is no feature variable that is highly correlated with our target variable.\n"
     ]
    }
   ],
   "source": [
    "#now let's see which variables have the highest correlation with our target variable Heart_Disease\n",
    "correlation_matrix = brfss23.corr()\n",
    "target_corr = correlation_matrix['Heart_Disease'].sort_values(ascending=False)\n",
    "print(target_corr)\n",
    "\n",
    "print(f\"The highest correlation is Age at {round(target_corr[1],2)}. The values range down through {round(target_corr[len(target_corr)-1],2)}, so there is no feature variable that is highly correlated with our target variable.\")"
   ]
  },
  {
   "cell_type": "markdown",
   "id": "0d8c3005-1513-495f-94c6-10c3fa594347",
   "metadata": {},
   "source": [
    "# Machine Learning"
   ]
  },
  {
   "cell_type": "code",
   "execution_count": 46,
   "id": "ea8110ee-3277-49ac-aa94-43643cae9197",
   "metadata": {},
   "outputs": [],
   "source": [
    "#Loading in our machine learning algorithms\n",
    "\n",
    "from sklearn.model_selection import train_test_split\n",
    "from sklearn.linear_model import LogisticRegression\n",
    "from sklearn.tree import DecisionTreeClassifier\n",
    "from sklearn.naive_bayes import GaussianNB\n",
    "from sklearn.ensemble import RandomForestClassifier\n",
    "from sklearn.neighbors import KNeighborsClassifier\n",
    "from sklearn.svm import SVC\n",
    "from sklearn.metrics import accuracy_score, confusion_matrix"
   ]
  },
  {
   "cell_type": "markdown",
   "id": "415e1ac8-b48e-4173-9203-2203fa796615",
   "metadata": {},
   "source": [
    "## Overall Model"
   ]
  },
  {
   "cell_type": "code",
   "execution_count": 71,
   "id": "61f53654-85ff-409b-a512-8e63bee0d59a",
   "metadata": {},
   "outputs": [
    {
     "name": "stdout",
     "output_type": "stream",
     "text": [
      "The length of our training datasets is 3867 and the length of our test datasets is 967.\n"
     ]
    }
   ],
   "source": [
    "#splitting our variables into features (X) and target (y)\n",
    "\n",
    "X = brfss23[[col for col in brfss23.columns if col != 'Heart_Disease']]\n",
    "y = brfss23['Heart_Disease']\n",
    "\n",
    "#splitting the dataset into training and testing subsets\n",
    "X_train, X_test, y_train, y_test = train_test_split(X,y,test_size = 0.2, random_state = 42)\n",
    "\n",
    "#output\n",
    "print(f\"The length of our training datasets is {len(X_train)} and the length of our test datasets is {len(X_test)}.\")\n"
   ]
  },
  {
   "cell_type": "code",
   "execution_count": 72,
   "id": "ffcfc74e-6065-48ec-b62e-b739f7f6d71e",
   "metadata": {},
   "outputs": [],
   "source": [
    "#create a list of names for the machine learning algorithms\n",
    "\n",
    "name = ['Logistic Regression', \n",
    "        'Decision Tree',\n",
    "        'Naive Bayes',\n",
    "        'Random Forest',\n",
    "        'K-Nearest Neighbors',\n",
    "        'SVM',]\n",
    "\n",
    "#create a list of the classification algorithms\n",
    "\n",
    "classifications = [LogisticRegression(max_iter = 1000),\n",
    "              DecisionTreeClassifier(random_state = 42),\n",
    "              GaussianNB(),\n",
    "              RandomForestClassifier(random_state = 42),\n",
    "              KNeighborsClassifier(),\n",
    "              SVC()]\n",
    "              "
   ]
  },
  {
   "cell_type": "code",
   "execution_count": 73,
   "id": "916d1be8-1bf7-4959-997a-e8809a8fcc53",
   "metadata": {},
   "outputs": [
    {
     "name": "stdout",
     "output_type": "stream",
     "text": [
      "LogisticRegression: 0.9452\n",
      "DecisionTreeClassifier: 0.9080\n",
      "GaussianNB: 0.8180\n",
      "RandomForestClassifier: 0.9483\n",
      "KNeighborsClassifier: 0.9442\n",
      "SVC: 0.9483\n"
     ]
    }
   ],
   "source": [
    "#now let's run them and get the results!\n",
    "\n",
    "#create a dictionary to store results\n",
    "results = {}\n",
    "\n",
    "#loop over the classification algorithms\n",
    "for clf in classifications:\n",
    "    \n",
    "    #fit the model\n",
    "    clf.fit(X_train, y_train)\n",
    "    \n",
    "    #Make predictions\n",
    "    y_pred = clf.predict(X_test)\n",
    "    \n",
    "    #calculate accuracy\n",
    "    accuracy = accuracy_score(y_test, y_pred)\n",
    "    \n",
    "    #store results\n",
    "    results[clf.__class__.__name__] = accuracy\n",
    "    \n",
    "#let's print the accuracy scores\n",
    "for classifier, accuracy in results.items():\n",
    "    print(f\"{classifier}: {accuracy:.4f}\")"
   ]
  },
  {
   "cell_type": "code",
   "execution_count": 74,
   "id": "92251db5-314b-43cb-9997-fbd4f15ddeb0",
   "metadata": {},
   "outputs": [
    {
     "name": "stdout",
     "output_type": "stream",
     "text": [
      "The classifier with the highest accuracy is: RandomForestClassifier with an accuracy of 0.95\n"
     ]
    },
    {
     "data": {
      "text/html": [
       "<div>\n",
       "<style scoped>\n",
       "    .dataframe tbody tr th:only-of-type {\n",
       "        vertical-align: middle;\n",
       "    }\n",
       "\n",
       "    .dataframe tbody tr th {\n",
       "        vertical-align: top;\n",
       "    }\n",
       "\n",
       "    .dataframe thead th {\n",
       "        text-align: right;\n",
       "    }\n",
       "</style>\n",
       "<table border=\"1\" class=\"dataframe\">\n",
       "  <thead>\n",
       "    <tr style=\"text-align: right;\">\n",
       "      <th></th>\n",
       "      <th>Feature</th>\n",
       "      <th>Importance</th>\n",
       "    </tr>\n",
       "  </thead>\n",
       "  <tbody>\n",
       "    <tr>\n",
       "      <th>13</th>\n",
       "      <td>BMI</td>\n",
       "      <td>0.114850</td>\n",
       "    </tr>\n",
       "    <tr>\n",
       "      <th>0</th>\n",
       "      <td>Age</td>\n",
       "      <td>0.103638</td>\n",
       "    </tr>\n",
       "    <tr>\n",
       "      <th>4</th>\n",
       "      <td>Income</td>\n",
       "      <td>0.082533</td>\n",
       "    </tr>\n",
       "    <tr>\n",
       "      <th>21</th>\n",
       "      <td>State</td>\n",
       "      <td>0.082447</td>\n",
       "    </tr>\n",
       "    <tr>\n",
       "      <th>15</th>\n",
       "      <td>General_Health</td>\n",
       "      <td>0.065113</td>\n",
       "    </tr>\n",
       "    <tr>\n",
       "      <th>16</th>\n",
       "      <td>Physical_Health</td>\n",
       "      <td>0.063892</td>\n",
       "    </tr>\n",
       "    <tr>\n",
       "      <th>17</th>\n",
       "      <td>Mental_Health</td>\n",
       "      <td>0.059699</td>\n",
       "    </tr>\n",
       "    <tr>\n",
       "      <th>22</th>\n",
       "      <td>Stress</td>\n",
       "      <td>0.055131</td>\n",
       "    </tr>\n",
       "    <tr>\n",
       "      <th>3</th>\n",
       "      <td>Education</td>\n",
       "      <td>0.042215</td>\n",
       "    </tr>\n",
       "    <tr>\n",
       "      <th>12</th>\n",
       "      <td>Diabetes</td>\n",
       "      <td>0.032029</td>\n",
       "    </tr>\n",
       "    <tr>\n",
       "      <th>11</th>\n",
       "      <td>High_Chol</td>\n",
       "      <td>0.029816</td>\n",
       "    </tr>\n",
       "    <tr>\n",
       "      <th>2</th>\n",
       "      <td>Race</td>\n",
       "      <td>0.027949</td>\n",
       "    </tr>\n",
       "    <tr>\n",
       "      <th>7</th>\n",
       "      <td>Marijuana</td>\n",
       "      <td>0.027036</td>\n",
       "    </tr>\n",
       "    <tr>\n",
       "      <th>5</th>\n",
       "      <td>Married</td>\n",
       "      <td>0.025788</td>\n",
       "    </tr>\n",
       "    <tr>\n",
       "      <th>10</th>\n",
       "      <td>High_BP</td>\n",
       "      <td>0.025050</td>\n",
       "    </tr>\n",
       "    <tr>\n",
       "      <th>1</th>\n",
       "      <td>Sex</td>\n",
       "      <td>0.024875</td>\n",
       "    </tr>\n",
       "    <tr>\n",
       "      <th>23</th>\n",
       "      <td>Depression</td>\n",
       "      <td>0.021921</td>\n",
       "    </tr>\n",
       "    <tr>\n",
       "      <th>20</th>\n",
       "      <td>Employed</td>\n",
       "      <td>0.021186</td>\n",
       "    </tr>\n",
       "    <tr>\n",
       "      <th>8</th>\n",
       "      <td>Activity</td>\n",
       "      <td>0.021076</td>\n",
       "    </tr>\n",
       "    <tr>\n",
       "      <th>14</th>\n",
       "      <td>Stroke</td>\n",
       "      <td>0.020148</td>\n",
       "    </tr>\n",
       "    <tr>\n",
       "      <th>6</th>\n",
       "      <td>Smoker</td>\n",
       "      <td>0.019463</td>\n",
       "    </tr>\n",
       "    <tr>\n",
       "      <th>19</th>\n",
       "      <td>Checkup</td>\n",
       "      <td>0.019121</td>\n",
       "    </tr>\n",
       "    <tr>\n",
       "      <th>9</th>\n",
       "      <td>Alcohol</td>\n",
       "      <td>0.011936</td>\n",
       "    </tr>\n",
       "    <tr>\n",
       "      <th>18</th>\n",
       "      <td>Health_Insurance</td>\n",
       "      <td>0.003087</td>\n",
       "    </tr>\n",
       "  </tbody>\n",
       "</table>\n",
       "</div>"
      ],
      "text/plain": [
       "             Feature  Importance\n",
       "13               BMI    0.114850\n",
       "0                Age    0.103638\n",
       "4             Income    0.082533\n",
       "21             State    0.082447\n",
       "15    General_Health    0.065113\n",
       "16   Physical_Health    0.063892\n",
       "17     Mental_Health    0.059699\n",
       "22            Stress    0.055131\n",
       "3          Education    0.042215\n",
       "12          Diabetes    0.032029\n",
       "11         High_Chol    0.029816\n",
       "2               Race    0.027949\n",
       "7          Marijuana    0.027036\n",
       "5            Married    0.025788\n",
       "10           High_BP    0.025050\n",
       "1                Sex    0.024875\n",
       "23        Depression    0.021921\n",
       "20          Employed    0.021186\n",
       "8           Activity    0.021076\n",
       "14            Stroke    0.020148\n",
       "6             Smoker    0.019463\n",
       "19           Checkup    0.019121\n",
       "9            Alcohol    0.011936\n",
       "18  Health_Insurance    0.003087"
      ]
     },
     "execution_count": 74,
     "metadata": {},
     "output_type": "execute_result"
    }
   ],
   "source": [
    "#our models performed very well! let's see what features were the most important to our top classifiers\n",
    "\n",
    "#find the best classifier, which was the RandomForest\n",
    "best_classifier_name = max(results, key=results.get)\n",
    "print(f\"The classifier with the highest accuracy is: {best_classifier_name} with an accuracy of {results[best_classifier_name]:.2f}\")\n",
    "\n",
    "#retrieve the best classifier\n",
    "best_classifier = [clf for clf in classifications if clf.__class__.__name__ == best_classifier_name][0]\n",
    "\n",
    "#let's see the feature importances\n",
    "importances = best_classifier.feature_importances_\n",
    "overall_feature_importance_df = pd.DataFrame({\n",
    "    'Feature' : X.columns,\n",
    "    'Importance' : importances\n",
    "})\n",
    "\n",
    "\n",
    "#returning the dataframe\n",
    "overall_feature_importance_df = overall_feature_importance_df.sort_values(by = 'Importance', ascending = False)\n",
    "overall_feature_importance_df\n"
   ]
  },
  {
   "cell_type": "code",
   "execution_count": 77,
   "id": "ec2c7b55-0b5d-4e29-b9df-b06bddf606ec",
   "metadata": {},
   "outputs": [
    {
     "name": "stdout",
     "output_type": "stream",
     "text": [
      "In a Random Forest Classifier model, the feature importance scores add up to 1. Typically, features with a score of .1 or 10% are seen as strong features.\n",
      "In this model, we had 2 variable above 10%. The most important feature, BMI, had a value of 11.48%. The other strong feature was Age, which had a value of 10.36%.\n"
     ]
    }
   ],
   "source": [
    "#describing our results\n",
    "print(f\"In a Random Forest Classifier model, the feature importance scores add up to 1. Typically, features with a score of .1 or 10% are seen as strong features.\")\n",
    "print(f\"In this model, we had 2 variable above 10%. The most important feature, {overall_feature_importance_df['Feature'].iloc[0]}, had a value of {round(overall_feature_importance_df['Importance'].iloc[0] *100,2)}%. The other strong feature was {overall_feature_importance_df['Feature'].iloc[1]}, which had a value of {round(overall_feature_importance_df['Importance'].iloc[1] *100,2)}%.\") "
   ]
  },
  {
   "cell_type": "markdown",
   "id": "cd70f3b3-d77a-4a6f-b412-3b668b64cdc8",
   "metadata": {},
   "source": [
    "## Female Model"
   ]
  },
  {
   "cell_type": "code",
   "execution_count": 78,
   "id": "0fff0567-c782-4c2b-b764-f55b71947cd6",
   "metadata": {
    "tags": []
   },
   "outputs": [
    {
     "data": {
      "text/plain": [
       "array([0.])"
      ]
     },
     "execution_count": 78,
     "metadata": {},
     "output_type": "execute_result"
    }
   ],
   "source": [
    "#make a female only dataset\n",
    "female_df = brfss23[brfss23['Sex'] == 0]\n",
    "female_df.Sex.unique()"
   ]
  },
  {
   "cell_type": "code",
   "execution_count": 79,
   "id": "80e3546f-eacf-429a-a76a-537aeda73c18",
   "metadata": {},
   "outputs": [
    {
     "name": "stdout",
     "output_type": "stream",
     "text": [
      "The length of our training datasets is 1736 and the length of our test datasets is 435.\n"
     ]
    }
   ],
   "source": [
    "#splitting our variables into features (X) and target (y)\n",
    "\n",
    "X = female_df[[col for col in female_df.columns if col != 'Heart_Disease']]\n",
    "y = female_df['Heart_Disease']\n",
    "\n",
    "#splitting the dataset into training and testing subsets\n",
    "X_train, X_test, y_train, y_test = train_test_split(X,y,test_size = 0.2, random_state = 42)\n",
    "\n",
    "#output\n",
    "print(f\"The length of our training datasets is {len(X_train)} and the length of our test datasets is {len(X_test)}.\")"
   ]
  },
  {
   "cell_type": "code",
   "execution_count": 80,
   "id": "1ed37759-710e-4e44-9964-55ce436fdb10",
   "metadata": {},
   "outputs": [],
   "source": [
    "#create a list of names for the machine learning algorithms\n",
    "\n",
    "name = ['Logistic Regression', \n",
    "        'Decision Tree',\n",
    "        'Naive Bayes',\n",
    "        'Random Forest',\n",
    "        'K-Nearest Neighbors',\n",
    "        'SVM',]\n",
    "\n",
    "#create a list of the classification algorithms\n",
    "\n",
    "classifications = [LogisticRegression(max_iter = 1000),\n",
    "              DecisionTreeClassifier(random_state = 42),\n",
    "              GaussianNB(),\n",
    "              RandomForestClassifier(random_state = 42),\n",
    "              KNeighborsClassifier(),\n",
    "              SVC()]"
   ]
  },
  {
   "cell_type": "code",
   "execution_count": 81,
   "id": "e27ceaf1-655c-4091-862f-3f62bf14c2d8",
   "metadata": {},
   "outputs": [
    {
     "name": "stdout",
     "output_type": "stream",
     "text": [
      "LogisticRegression(max_iter=1000): 0.9609\n",
      "DecisionTreeClassifier(random_state=42): 0.9356\n",
      "GaussianNB(): 0.6253\n",
      "RandomForestClassifier(random_state=42): 0.9678\n",
      "KNeighborsClassifier(): 0.9678\n",
      "SVC(): 0.9678\n"
     ]
    }
   ],
   "source": [
    "#now let's run them and get the results!\n",
    "\n",
    "#create a dictionary to store results\n",
    "results = {}\n",
    "\n",
    "#loop over the classification algorithms\n",
    "for clf in classifications:\n",
    "    \n",
    "    #fit the model\n",
    "    clf.fit(X_train, y_train)\n",
    "    \n",
    "    #Make predictions\n",
    "    y_pred = clf.predict(X_test)\n",
    "    \n",
    "    #calculate accuracy\n",
    "    accuracy = accuracy_score(y_test, y_pred)\n",
    "    \n",
    "    #store results\n",
    "    results[clf] = accuracy\n",
    "    \n",
    "#let's print the accuracy scores\n",
    "for classifier, accuracy in results.items():\n",
    "    print(f\"{classifier}: {accuracy:.4f}\")"
   ]
  },
  {
   "cell_type": "code",
   "execution_count": 82,
   "id": "2e8baeb2-557e-44ef-9626-2e194f14881b",
   "metadata": {},
   "outputs": [
    {
     "name": "stdout",
     "output_type": "stream",
     "text": [
      "The classifier with the highest accuracy is: RandomForestClassifier(random_state=42) with an accuracy of 0.97\n"
     ]
    },
    {
     "data": {
      "text/html": [
       "<div>\n",
       "<style scoped>\n",
       "    .dataframe tbody tr th:only-of-type {\n",
       "        vertical-align: middle;\n",
       "    }\n",
       "\n",
       "    .dataframe tbody tr th {\n",
       "        vertical-align: top;\n",
       "    }\n",
       "\n",
       "    .dataframe thead th {\n",
       "        text-align: right;\n",
       "    }\n",
       "</style>\n",
       "<table border=\"1\" class=\"dataframe\">\n",
       "  <thead>\n",
       "    <tr style=\"text-align: right;\">\n",
       "      <th></th>\n",
       "      <th>Feature</th>\n",
       "      <th>Importance</th>\n",
       "    </tr>\n",
       "  </thead>\n",
       "  <tbody>\n",
       "    <tr>\n",
       "      <th>13</th>\n",
       "      <td>BMI</td>\n",
       "      <td>0.113284</td>\n",
       "    </tr>\n",
       "    <tr>\n",
       "      <th>0</th>\n",
       "      <td>Age</td>\n",
       "      <td>0.109293</td>\n",
       "    </tr>\n",
       "    <tr>\n",
       "      <th>4</th>\n",
       "      <td>Income</td>\n",
       "      <td>0.084173</td>\n",
       "    </tr>\n",
       "    <tr>\n",
       "      <th>21</th>\n",
       "      <td>State</td>\n",
       "      <td>0.082590</td>\n",
       "    </tr>\n",
       "    <tr>\n",
       "      <th>15</th>\n",
       "      <td>General_Health</td>\n",
       "      <td>0.081704</td>\n",
       "    </tr>\n",
       "    <tr>\n",
       "      <th>17</th>\n",
       "      <td>Mental_Health</td>\n",
       "      <td>0.069552</td>\n",
       "    </tr>\n",
       "    <tr>\n",
       "      <th>16</th>\n",
       "      <td>Physical_Health</td>\n",
       "      <td>0.066630</td>\n",
       "    </tr>\n",
       "    <tr>\n",
       "      <th>22</th>\n",
       "      <td>Stress</td>\n",
       "      <td>0.050709</td>\n",
       "    </tr>\n",
       "    <tr>\n",
       "      <th>3</th>\n",
       "      <td>Education</td>\n",
       "      <td>0.042291</td>\n",
       "    </tr>\n",
       "    <tr>\n",
       "      <th>12</th>\n",
       "      <td>Diabetes</td>\n",
       "      <td>0.039507</td>\n",
       "    </tr>\n",
       "    <tr>\n",
       "      <th>2</th>\n",
       "      <td>Race</td>\n",
       "      <td>0.030087</td>\n",
       "    </tr>\n",
       "    <tr>\n",
       "      <th>7</th>\n",
       "      <td>Marijuana</td>\n",
       "      <td>0.028371</td>\n",
       "    </tr>\n",
       "    <tr>\n",
       "      <th>10</th>\n",
       "      <td>High_BP</td>\n",
       "      <td>0.028130</td>\n",
       "    </tr>\n",
       "    <tr>\n",
       "      <th>11</th>\n",
       "      <td>High_Chol</td>\n",
       "      <td>0.025774</td>\n",
       "    </tr>\n",
       "    <tr>\n",
       "      <th>23</th>\n",
       "      <td>Depression</td>\n",
       "      <td>0.025315</td>\n",
       "    </tr>\n",
       "    <tr>\n",
       "      <th>5</th>\n",
       "      <td>Married</td>\n",
       "      <td>0.023706</td>\n",
       "    </tr>\n",
       "    <tr>\n",
       "      <th>8</th>\n",
       "      <td>Activity</td>\n",
       "      <td>0.022633</td>\n",
       "    </tr>\n",
       "    <tr>\n",
       "      <th>6</th>\n",
       "      <td>Smoker</td>\n",
       "      <td>0.020505</td>\n",
       "    </tr>\n",
       "    <tr>\n",
       "      <th>20</th>\n",
       "      <td>Employed</td>\n",
       "      <td>0.015451</td>\n",
       "    </tr>\n",
       "    <tr>\n",
       "      <th>14</th>\n",
       "      <td>Stroke</td>\n",
       "      <td>0.015341</td>\n",
       "    </tr>\n",
       "    <tr>\n",
       "      <th>19</th>\n",
       "      <td>Checkup</td>\n",
       "      <td>0.013439</td>\n",
       "    </tr>\n",
       "    <tr>\n",
       "      <th>9</th>\n",
       "      <td>Alcohol</td>\n",
       "      <td>0.011049</td>\n",
       "    </tr>\n",
       "    <tr>\n",
       "      <th>18</th>\n",
       "      <td>Health_Insurance</td>\n",
       "      <td>0.000465</td>\n",
       "    </tr>\n",
       "    <tr>\n",
       "      <th>1</th>\n",
       "      <td>Sex</td>\n",
       "      <td>0.000000</td>\n",
       "    </tr>\n",
       "  </tbody>\n",
       "</table>\n",
       "</div>"
      ],
      "text/plain": [
       "             Feature  Importance\n",
       "13               BMI    0.113284\n",
       "0                Age    0.109293\n",
       "4             Income    0.084173\n",
       "21             State    0.082590\n",
       "15    General_Health    0.081704\n",
       "17     Mental_Health    0.069552\n",
       "16   Physical_Health    0.066630\n",
       "22            Stress    0.050709\n",
       "3          Education    0.042291\n",
       "12          Diabetes    0.039507\n",
       "2               Race    0.030087\n",
       "7          Marijuana    0.028371\n",
       "10           High_BP    0.028130\n",
       "11         High_Chol    0.025774\n",
       "23        Depression    0.025315\n",
       "5            Married    0.023706\n",
       "8           Activity    0.022633\n",
       "6             Smoker    0.020505\n",
       "20          Employed    0.015451\n",
       "14            Stroke    0.015341\n",
       "19           Checkup    0.013439\n",
       "9            Alcohol    0.011049\n",
       "18  Health_Insurance    0.000465\n",
       "1                Sex    0.000000"
      ]
     },
     "execution_count": 82,
     "metadata": {},
     "output_type": "execute_result"
    }
   ],
   "source": [
    "#our models performed even better! let's see what features were the most important to our top classifiers\n",
    "\n",
    "#find the best classifier, which was the Logitstic Regression\n",
    "best_classifier = max(results, key=results.get)\n",
    "print(f\"The classifier with the highest accuracy is: {best_classifier} with an accuracy of {results[best_classifier]:.2f}\")\n",
    "\n",
    "#let's see the feature importances\n",
    "importances = best_classifier.feature_importances_\n",
    "female_feature_importance_df = pd.DataFrame({\n",
    "    'Feature' : X.columns,\n",
    "    'Importance' : importances\n",
    "})\n",
    "\n",
    "\n",
    "#returning the dataframe\n",
    "female_feature_importance_df = female_feature_importance_df.sort_values(by = 'Importance', ascending = False)\n",
    "female_feature_importance_df\n"
   ]
  },
  {
   "cell_type": "code",
   "execution_count": 85,
   "id": "85990b3f-fed3-419a-bd5e-d87c10fe222c",
   "metadata": {},
   "outputs": [
    {
     "name": "stdout",
     "output_type": "stream",
     "text": [
      "We again found BMI and Age to be the most important features, with values of 11.33% and 10.93%, respectively.\n"
     ]
    }
   ],
   "source": [
    "print(f\"We again found {female_feature_importance_df['Feature'].iloc[0]} and {female_feature_importance_df['Feature'].iloc[1]} to be the most important features, with values of {round(female_feature_importance_df['Importance'].iloc[0] *100,2)}% and {round(female_feature_importance_df['Importance'].iloc[1] *100,2)}%, respectively.\")"
   ]
  },
  {
   "cell_type": "markdown",
   "id": "b3ced7fe-ab96-4c47-b020-2303d0cf5bb2",
   "metadata": {},
   "source": [
    "## Male Model"
   ]
  },
  {
   "cell_type": "code",
   "execution_count": 86,
   "id": "51ba9bae-3dd0-4810-a589-ffcfb9f312f5",
   "metadata": {},
   "outputs": [
    {
     "data": {
      "text/plain": [
       "array([1.])"
      ]
     },
     "execution_count": 86,
     "metadata": {},
     "output_type": "execute_result"
    }
   ],
   "source": [
    "#make a male only dataset\n",
    "male_df = brfss23[brfss23['Sex'] == 1]\n",
    "male_df.Sex.unique()"
   ]
  },
  {
   "cell_type": "code",
   "execution_count": 87,
   "id": "43dacb5c-6389-480b-a1ad-8fad9b3719e6",
   "metadata": {},
   "outputs": [
    {
     "name": "stdout",
     "output_type": "stream",
     "text": [
      "The length of our training datasets is 2130 and the length of our test datasets is 533.\n"
     ]
    }
   ],
   "source": [
    "#splitting our variables into features (X) and target (y)\n",
    "\n",
    "X = male_df[[col for col in female_df.columns if col != 'Heart_Disease']]\n",
    "y = male_df['Heart_Disease']\n",
    "\n",
    "#splitting the dataset into training and testing subsets\n",
    "X_train, X_test, y_train, y_test = train_test_split(X,y,test_size = 0.2, random_state = 42)\n",
    "\n",
    "#output\n",
    "print(f\"The length of our training datasets is {len(X_train)} and the length of our test datasets is {len(X_test)}.\")"
   ]
  },
  {
   "cell_type": "code",
   "execution_count": 88,
   "id": "ce93ce3e-7eb0-45ab-a277-3c8d17aa034f",
   "metadata": {},
   "outputs": [],
   "source": [
    "#create a list of names for the machine learning algorithms\n",
    "\n",
    "name = ['Logistic Regression', \n",
    "        'Decision Tree',\n",
    "        'Naive Bayes',\n",
    "        'Random Forest',\n",
    "        'K-Nearest Neighbors',\n",
    "        'SVM',]\n",
    "\n",
    "#create a list of the classification algorithms\n",
    "\n",
    "classifications = [LogisticRegression(max_iter = 1000),\n",
    "              DecisionTreeClassifier(random_state = 42),\n",
    "              GaussianNB(),\n",
    "              RandomForestClassifier(random_state = 42),\n",
    "              KNeighborsClassifier(),\n",
    "              SVC()]"
   ]
  },
  {
   "cell_type": "code",
   "execution_count": 89,
   "id": "026e85d2-35bb-4db2-89a5-298c4ad04792",
   "metadata": {},
   "outputs": [
    {
     "name": "stdout",
     "output_type": "stream",
     "text": [
      "LogisticRegression(max_iter=1000): 0.9362\n",
      "DecisionTreeClassifier(random_state=42): 0.8818\n",
      "GaussianNB(): 0.8555\n",
      "RandomForestClassifier(random_state=42): 0.9381\n",
      "KNeighborsClassifier(): 0.9231\n",
      "SVC(): 0.9381\n"
     ]
    }
   ],
   "source": [
    "#now let's run them and get the results!\n",
    "\n",
    "#create a dictionary to store results\n",
    "results = {}\n",
    "\n",
    "#loop over the classification algorithms\n",
    "for clf in classifications:\n",
    "    \n",
    "    #fit the model\n",
    "    clf.fit(X_train, y_train)\n",
    "    \n",
    "    #Make predictions\n",
    "    y_pred = clf.predict(X_test)\n",
    "    \n",
    "    #calculate accuracy\n",
    "    accuracy = accuracy_score(y_test, y_pred)\n",
    "    \n",
    "    #store results\n",
    "    results[clf] = accuracy\n",
    "    \n",
    "#let's print the accuracy scores\n",
    "for classifier, accuracy in results.items():\n",
    "    print(f\"{classifier}: {accuracy:.4f}\")"
   ]
  },
  {
   "cell_type": "code",
   "execution_count": 90,
   "id": "bd503991-c12c-4aaa-adae-db90c8982059",
   "metadata": {},
   "outputs": [
    {
     "name": "stdout",
     "output_type": "stream",
     "text": [
      "The classifier with the highest accuracy is: RandomForestClassifier(random_state=42) with an accuracy of 0.94\n"
     ]
    },
    {
     "data": {
      "text/html": [
       "<div>\n",
       "<style scoped>\n",
       "    .dataframe tbody tr th:only-of-type {\n",
       "        vertical-align: middle;\n",
       "    }\n",
       "\n",
       "    .dataframe tbody tr th {\n",
       "        vertical-align: top;\n",
       "    }\n",
       "\n",
       "    .dataframe thead th {\n",
       "        text-align: right;\n",
       "    }\n",
       "</style>\n",
       "<table border=\"1\" class=\"dataframe\">\n",
       "  <thead>\n",
       "    <tr style=\"text-align: right;\">\n",
       "      <th></th>\n",
       "      <th>Feature</th>\n",
       "      <th>Importance</th>\n",
       "    </tr>\n",
       "  </thead>\n",
       "  <tbody>\n",
       "    <tr>\n",
       "      <th>0</th>\n",
       "      <td>Age</td>\n",
       "      <td>0.125815</td>\n",
       "    </tr>\n",
       "    <tr>\n",
       "      <th>13</th>\n",
       "      <td>BMI</td>\n",
       "      <td>0.107908</td>\n",
       "    </tr>\n",
       "    <tr>\n",
       "      <th>4</th>\n",
       "      <td>Income</td>\n",
       "      <td>0.078681</td>\n",
       "    </tr>\n",
       "    <tr>\n",
       "      <th>21</th>\n",
       "      <td>State</td>\n",
       "      <td>0.078213</td>\n",
       "    </tr>\n",
       "    <tr>\n",
       "      <th>15</th>\n",
       "      <td>General_Health</td>\n",
       "      <td>0.072419</td>\n",
       "    </tr>\n",
       "    <tr>\n",
       "      <th>16</th>\n",
       "      <td>Physical_Health</td>\n",
       "      <td>0.065270</td>\n",
       "    </tr>\n",
       "    <tr>\n",
       "      <th>17</th>\n",
       "      <td>Mental_Health</td>\n",
       "      <td>0.058171</td>\n",
       "    </tr>\n",
       "    <tr>\n",
       "      <th>22</th>\n",
       "      <td>Stress</td>\n",
       "      <td>0.054432</td>\n",
       "    </tr>\n",
       "    <tr>\n",
       "      <th>3</th>\n",
       "      <td>Education</td>\n",
       "      <td>0.050721</td>\n",
       "    </tr>\n",
       "    <tr>\n",
       "      <th>11</th>\n",
       "      <td>High_Chol</td>\n",
       "      <td>0.035543</td>\n",
       "    </tr>\n",
       "    <tr>\n",
       "      <th>5</th>\n",
       "      <td>Married</td>\n",
       "      <td>0.027593</td>\n",
       "    </tr>\n",
       "    <tr>\n",
       "      <th>20</th>\n",
       "      <td>Employed</td>\n",
       "      <td>0.027364</td>\n",
       "    </tr>\n",
       "    <tr>\n",
       "      <th>10</th>\n",
       "      <td>High_BP</td>\n",
       "      <td>0.026663</td>\n",
       "    </tr>\n",
       "    <tr>\n",
       "      <th>2</th>\n",
       "      <td>Race</td>\n",
       "      <td>0.023816</td>\n",
       "    </tr>\n",
       "    <tr>\n",
       "      <th>12</th>\n",
       "      <td>Diabetes</td>\n",
       "      <td>0.023680</td>\n",
       "    </tr>\n",
       "    <tr>\n",
       "      <th>7</th>\n",
       "      <td>Marijuana</td>\n",
       "      <td>0.023183</td>\n",
       "    </tr>\n",
       "    <tr>\n",
       "      <th>8</th>\n",
       "      <td>Activity</td>\n",
       "      <td>0.023074</td>\n",
       "    </tr>\n",
       "    <tr>\n",
       "      <th>14</th>\n",
       "      <td>Stroke</td>\n",
       "      <td>0.020973</td>\n",
       "    </tr>\n",
       "    <tr>\n",
       "      <th>6</th>\n",
       "      <td>Smoker</td>\n",
       "      <td>0.020185</td>\n",
       "    </tr>\n",
       "    <tr>\n",
       "      <th>23</th>\n",
       "      <td>Depression</td>\n",
       "      <td>0.019139</td>\n",
       "    </tr>\n",
       "    <tr>\n",
       "      <th>19</th>\n",
       "      <td>Checkup</td>\n",
       "      <td>0.018894</td>\n",
       "    </tr>\n",
       "    <tr>\n",
       "      <th>9</th>\n",
       "      <td>Alcohol</td>\n",
       "      <td>0.014826</td>\n",
       "    </tr>\n",
       "    <tr>\n",
       "      <th>18</th>\n",
       "      <td>Health_Insurance</td>\n",
       "      <td>0.003436</td>\n",
       "    </tr>\n",
       "    <tr>\n",
       "      <th>1</th>\n",
       "      <td>Sex</td>\n",
       "      <td>0.000000</td>\n",
       "    </tr>\n",
       "  </tbody>\n",
       "</table>\n",
       "</div>"
      ],
      "text/plain": [
       "             Feature  Importance\n",
       "0                Age    0.125815\n",
       "13               BMI    0.107908\n",
       "4             Income    0.078681\n",
       "21             State    0.078213\n",
       "15    General_Health    0.072419\n",
       "16   Physical_Health    0.065270\n",
       "17     Mental_Health    0.058171\n",
       "22            Stress    0.054432\n",
       "3          Education    0.050721\n",
       "11         High_Chol    0.035543\n",
       "5            Married    0.027593\n",
       "20          Employed    0.027364\n",
       "10           High_BP    0.026663\n",
       "2               Race    0.023816\n",
       "12          Diabetes    0.023680\n",
       "7          Marijuana    0.023183\n",
       "8           Activity    0.023074\n",
       "14            Stroke    0.020973\n",
       "6             Smoker    0.020185\n",
       "23        Depression    0.019139\n",
       "19           Checkup    0.018894\n",
       "9            Alcohol    0.014826\n",
       "18  Health_Insurance    0.003436\n",
       "1                Sex    0.000000"
      ]
     },
     "execution_count": 90,
     "metadata": {},
     "output_type": "execute_result"
    }
   ],
   "source": [
    "#our models performed well, but marginally worse than the overall and female iterations. let's see what features were the most important to our top classifier Logistic Regression\n",
    "\n",
    "#find the best classifier, which was the Logitstic Regression\n",
    "best_classifier = max(results, key=results.get)\n",
    "print(f\"The classifier with the highest accuracy is: {best_classifier} with an accuracy of {results[best_classifier]:.2f}\")\n",
    "\n",
    "#let's see the feature importances\n",
    "importances = best_classifier.feature_importances_\n",
    "male_feature_importance_df = pd.DataFrame({\n",
    "    'Feature' : X.columns,\n",
    "    'Importance' : importances\n",
    "})\n",
    "\n",
    "\n",
    "#returning the dataframe\n",
    "male_feature_importance_df = male_feature_importance_df.sort_values(by = 'Importance', ascending = False)\n",
    "male_feature_importance_df\n"
   ]
  },
  {
   "cell_type": "code",
   "execution_count": 92,
   "id": "81b061e6-358b-4e8f-9ab2-07908439032a",
   "metadata": {},
   "outputs": [
    {
     "name": "stdout",
     "output_type": "stream",
     "text": [
      "The results for the 3 models have been remarkably similar, with Age and BMI again being the most important features, with values of 12.58% and 10.79%, respectively.\n"
     ]
    }
   ],
   "source": [
    "print(f\"The results for the 3 models have been remarkably similar, with {male_feature_importance_df['Feature'].iloc[0]} and {male_feature_importance_df['Feature'].iloc[1]} again being the most important features, with values of {round(male_feature_importance_df['Importance'].iloc[0] *100,2)}% and {round(male_feature_importance_df['Importance'].iloc[1] *100,2)}%, respectively.\")"
   ]
  },
  {
   "cell_type": "markdown",
   "id": "91808808-5845-42aa-b7ad-a4329d4644e9",
   "metadata": {},
   "source": [
    "## Conclusion"
   ]
  },
  {
   "cell_type": "markdown",
   "id": "0c96fbbb-e3ca-4748-b84c-71f3410054de",
   "metadata": {},
   "source": [
    "According to the CDC, Heart Disease is the leading cause of death in men, women, and people of most ethnic and racial groups. Identifying risk factors for this disease can be crucial to saving lives. Based on the BRFSS 2023 data, I was able to develop 3 models (overall, male, and female) that had 94% or higher accuracy rates. The Random Forest Classifier performed the best for each set of data, with Age and BMI as the most significant variables. Discussing risk symptoms and ways to prevent heart disease with the patients identified as high risk can be crucial to their health moving forward."
   ]
  }
 ],
 "metadata": {
  "kernelspec": {
   "display_name": "Python 3 (ipykernel)",
   "language": "python",
   "name": "python3"
  },
  "language_info": {
   "codemirror_mode": {
    "name": "ipython",
    "version": 3
   },
   "file_extension": ".py",
   "mimetype": "text/x-python",
   "name": "python",
   "nbconvert_exporter": "python",
   "pygments_lexer": "ipython3",
   "version": "3.10.9"
  }
 },
 "nbformat": 4,
 "nbformat_minor": 5
}
